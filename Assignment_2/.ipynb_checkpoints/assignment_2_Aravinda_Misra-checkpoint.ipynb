{
 "cells": [
  {
   "cell_type": "code",
   "execution_count": 412,
   "metadata": {},
   "outputs": [],
   "source": [
    "import matplotlib\n",
    "import matplotlib.pyplot as plt\n",
    "import numpy as np\n",
    "import pandas as pd\n",
    "from sklearn import linear_model\n",
    "from sklearn.preprocessing import StandardScaler\n",
    "from sklearn.metrics import mean_squared_error\n",
    "from math import sqrt\n",
    "import tensorflow as tf\n",
    "from sklearn.preprocessing import PolynomialFeatures\n",
    "from sklearn.linear_model import Ridge\n",
    "from sklearn.linear_model import Lasso"
   ]
  },
  {
   "cell_type": "markdown",
   "metadata": {},
   "source": [
    "# 1-1. Fit the data using linear (1st order) regression model (matrix form, gradient descent method).\n",
    "### Plot the data with the fitted line. Print optimized weights. Print Root Mean Squared Error (RMSE)."
   ]
  },
  {
   "cell_type": "code",
   "execution_count": 413,
   "metadata": {},
   "outputs": [],
   "source": [
    "data1 = pd.read_csv(\"ex2data1.csv\")\n",
    "X_1 = data1.as_matrix(columns=data1.columns[0:1])\n",
    "Y_1 = data1.as_matrix(columns=data1.columns[1:])\n",
    "X_1_coloumn_added = np.c_[np.ones((data1.shape[0], 1)), X_1]"
   ]
  },
  {
   "cell_type": "code",
   "execution_count": 414,
   "metadata": {},
   "outputs": [],
   "source": [
    "def weight_optimizer(data,degree,Label,learn_rate = .01,epochs = 100000,regularisation_alpha=0):\n",
    "    theta_1 = np.random.randn(degree+1,1)\n",
    "    for epoch in range(epochs):\n",
    "        gradients = (2/data.shape[0])* data.T.dot(data.dot(theta_1)- Label)+regularisation_alpha*theta_1\n",
    "        theta_1 = theta_1 - learn_rate * gradients\n",
    "    return theta_1"
   ]
  },
  {
   "cell_type": "code",
   "execution_count": 415,
   "metadata": {},
   "outputs": [],
   "source": [
    "def rmse_calculator(data,weights,actual_label):\n",
    "    predict_y = data.dot(weights)\n",
    "    rms = sqrt(mean_squared_error(actual_label, predict_y))\n",
    "    return rms"
   ]
  },
  {
   "cell_type": "code",
   "execution_count": 416,
   "metadata": {},
   "outputs": [],
   "source": [
    "# Please input sorted data\n",
    "def graph_plotter(X_1_poly_dn_scaled_coloumn_added,weights,actual_label,graph_label=None):\n",
    "    X_1_poly_dn_scaled_coloumn_added_sorted = X_1_poly_dn_scaled_coloumn_added [X_1_poly_dn_scaled_coloumn_added [:,1].argsort()]\n",
    "    plt.plot(X_1_poly_dn_scaled_coloumn_added_sorted[:,1:2], actual_label, 'bo')\n",
    "    y_1_dn_plot = X_1_poly_dn_scaled_coloumn_added_sorted.dot(weights)\n",
    "    plt.plot(X_1_poly_dn_scaled_coloumn_added_sorted[:,1:2], y_1_dn_plot,label=graph_label)\n",
    "    legend = plt.legend(loc='upper right', shadow=True)"
   ]
  },
  {
   "cell_type": "code",
   "execution_count": 417,
   "metadata": {},
   "outputs": [],
   "source": [
    "scaler = StandardScaler()"
   ]
  },
  {
   "cell_type": "code",
   "execution_count": 418,
   "metadata": {},
   "outputs": [],
   "source": [
    "def polynomial_adder(data,degree):\n",
    "    poly_features = PolynomialFeatures(degree=degree, include_bias=False)\n",
    "    X_1_poly_dn = poly_features.fit_transform(data)\n",
    "    X_1_poly_dn_scaled = scaler.fit_transform(X_1_poly_dn)\n",
    "    X_1_poly_dn_scaled_coloumn_added = np.c_[np.ones((data.shape[0], 1)), X_1_poly_dn_scaled]\n",
    "    ## Sorting for graph plotting\n",
    "    #X_1_poly_dn_scaled_coloumn_added = X_1_poly_dn_scaled_coloumn_added [X_1_poly_dn_scaled_coloumn_added [:,1].argsort()]\n",
    "    return X_1_poly_dn_scaled_coloumn_added"
   ]
  },
  {
   "cell_type": "markdown",
   "metadata": {},
   "source": [
    "## Optimized Weight - Deg1\n"
   ]
  },
  {
   "cell_type": "code",
   "execution_count": 419,
   "metadata": {},
   "outputs": [
    {
     "name": "stdout",
     "output_type": "stream",
     "text": [
      "[[ 1.07581132]\n",
      " [-1.1887203 ]]\n"
     ]
    }
   ],
   "source": [
    "theta_1 = weight_optimizer(X_1_coloumn_added,1,Y_1)\n",
    "print (theta_1)"
   ]
  },
  {
   "cell_type": "markdown",
   "metadata": {},
   "source": [
    "## RMSE - Deg1\n"
   ]
  },
  {
   "cell_type": "code",
   "execution_count": 420,
   "metadata": {},
   "outputs": [
    {
     "name": "stdout",
     "output_type": "stream",
     "text": [
      "0.47624021947640577\n"
     ]
    }
   ],
   "source": [
    "rms_1 = rmse_calculator(X_1_coloumn_added,theta_1,Y_1)\n",
    "print (rms_1)"
   ]
  },
  {
   "cell_type": "markdown",
   "metadata": {},
   "source": [
    "## Plot - Deg1"
   ]
  },
  {
   "cell_type": "code",
   "execution_count": 421,
   "metadata": {},
   "outputs": [
    {
     "name": "stderr",
     "output_type": "stream",
     "text": [
      "No handles with labels found to put in legend.\n"
     ]
    },
    {
     "data": {
      "image/png": "[encoded data removed]",
      "text/plain": [
       "<matplotlib.figure.Figure at 0x11f5384a8>"
      ]
     },
     "metadata": {},
     "output_type": "display_data"
    }
   ],
   "source": [
    "graph_plotter(X_1_coloumn_added,theta_1,Y_1)"
   ]
  },
  {
   "cell_type": "markdown",
   "metadata": {},
   "source": [
    "# 1-2. Fit the data using 2nd order polynomial regression model (matrix form, gradient descent method)."
   ]
  },
  {
   "cell_type": "code",
   "execution_count": 423,
   "metadata": {},
   "outputs": [],
   "source": [
    "X_1_poly_d2_scaled_coloumn_added = polynomial_adder(X_1,2)"
   ]
  },
  {
   "cell_type": "markdown",
   "metadata": {},
   "source": [
    "## Optimized Weight - deg2"
   ]
  },
  {
   "cell_type": "code",
   "execution_count": 424,
   "metadata": {},
   "outputs": [
    {
     "name": "stdout",
     "output_type": "stream",
     "text": [
      "[[ 0.45269151]\n",
      " [ 1.13735736]\n",
      " [-1.51236155]]\n"
     ]
    }
   ],
   "source": [
    "theta_1_d2 = weight_optimizer(X_1_poly_d2_scaled_coloumn_added,2,Y_1,epochs=1000000)\n",
    "print (theta_1_d2)"
   ]
  },
  {
   "cell_type": "markdown",
   "metadata": {},
   "source": [
    "## RMSE"
   ]
  },
  {
   "cell_type": "code",
   "execution_count": 425,
   "metadata": {},
   "outputs": [
    {
     "name": "stdout",
     "output_type": "stream",
     "text": [
      "0.2856992946970416\n"
     ]
    }
   ],
   "source": [
    "rms_1_d2 = rmse_calculator(X_1_poly_d2_scaled_coloumn_added,theta_1_d2,Y_1)\n",
    "print (rms_1_d2)"
   ]
  },
  {
   "cell_type": "markdown",
   "metadata": {},
   "source": [
    "## Plot - deg2"
   ]
  },
  {
   "cell_type": "code",
   "execution_count": 426,
   "metadata": {},
   "outputs": [
    {
     "name": "stderr",
     "output_type": "stream",
     "text": [
      "No handles with labels found to put in legend.\n"
     ]
    },
    {
     "data": {
      "image/png": "[encoded data removed]",
      "text/plain": [
       "<matplotlib.figure.Figure at 0x11fae88d0>"
      ]
     },
     "metadata": {},
     "output_type": "display_data"
    }
   ],
   "source": [
    "graph_plotter(X_1_poly_d2_scaled_coloumn_added,theta_1_d2,Y_1)"
   ]
  },
  {
   "cell_type": "markdown",
   "metadata": {},
   "source": [
    "# 1-3. Fit the data using 4th order polynomial regression model (matrix form, gradient descent method)."
   ]
  },
  {
   "cell_type": "code",
   "execution_count": 427,
   "metadata": {},
   "outputs": [],
   "source": [
    "X_1_poly_d4_scaled_coloumn_added = polynomial_adder(X_1,4)"
   ]
  },
  {
   "cell_type": "markdown",
   "metadata": {},
   "source": [
    "## Optimized Weight - deg4"
   ]
  },
  {
   "cell_type": "code",
   "execution_count": 428,
   "metadata": {},
   "outputs": [
    {
     "name": "stdout",
     "output_type": "stream",
     "text": [
      "[[ 0.45269151]\n",
      " [ 1.19187918]\n",
      " [-1.51835823]\n",
      " [-0.25618319]\n",
      " [ 0.21437973]]\n"
     ]
    }
   ],
   "source": [
    "theta_1_d4 = weight_optimizer(X_1_poly_d4_scaled_coloumn_added,4,Y_1,epochs=1000000)\n",
    "print (theta_1_d4)"
   ]
  },
  {
   "cell_type": "markdown",
   "metadata": {},
   "source": [
    "## RMSE Deg-4"
   ]
  },
  {
   "cell_type": "code",
   "execution_count": 429,
   "metadata": {},
   "outputs": [
    {
     "name": "stdout",
     "output_type": "stream",
     "text": [
      "0.2855529787164311\n"
     ]
    }
   ],
   "source": [
    "rms_1_d4 = rmse_calculator(X_1_poly_d4_scaled_coloumn_added,theta_1_d4,Y_1)\n",
    "print (rms_1_d4)"
   ]
  },
  {
   "cell_type": "markdown",
   "metadata": {},
   "source": [
    "## Graph_Deg 4"
   ]
  },
  {
   "cell_type": "code",
   "execution_count": 430,
   "metadata": {},
   "outputs": [
    {
     "name": "stderr",
     "output_type": "stream",
     "text": [
      "No handles with labels found to put in legend.\n"
     ]
    },
    {
     "data": {
      "image/png": "[encoded data removed]",
      "text/plain": [
       "<matplotlib.figure.Figure at 0x11fae8ef0>"
      ]
     },
     "metadata": {},
     "output_type": "display_data"
    }
   ],
   "source": [
    "graph_plotter(X_1_poly_d4_scaled_coloumn_added,theta_1_d4,Y_1)"
   ]
  },
  {
   "cell_type": "markdown",
   "metadata": {},
   "source": [
    "# 1-4. Fit the data using 16th order polynomial regression model (matrix form, gradient descent method)."
   ]
  },
  {
   "cell_type": "code",
   "execution_count": 431,
   "metadata": {},
   "outputs": [],
   "source": [
    "X_1_poly_d16_scaled_coloumn_added = polynomial_adder(X_1,16)"
   ]
  },
  {
   "cell_type": "markdown",
   "metadata": {},
   "source": [
    "## Optimized Weight - deg16"
   ]
  },
  {
   "cell_type": "code",
   "execution_count": 432,
   "metadata": {},
   "outputs": [
    {
     "name": "stdout",
     "output_type": "stream",
     "text": [
      "[[ 0.45269151]\n",
      " [ 0.68038642]\n",
      " [ 0.74998559]\n",
      " [-2.21299415]\n",
      " [-0.64681128]\n",
      " [ 0.41409316]\n",
      " [-0.62200895]\n",
      " [-0.48469974]\n",
      " [ 0.77642384]\n",
      " [ 0.99562609]\n",
      " [ 1.61142812]\n",
      " [ 0.85978564]\n",
      " [-0.83372566]\n",
      " [-0.7074879 ]\n",
      " [ 0.0919492 ]\n",
      " [-0.39306741]\n",
      " [-0.68826237]]\n"
     ]
    }
   ],
   "source": [
    "theta_1_d16 = weight_optimizer(X_1_poly_d16_scaled_coloumn_added,16,Y_1,epochs=1000000)\n",
    "print (theta_1_d16)"
   ]
  },
  {
   "cell_type": "markdown",
   "metadata": {},
   "source": [
    "## RMSE - Deg4"
   ]
  },
  {
   "cell_type": "code",
   "execution_count": 433,
   "metadata": {},
   "outputs": [
    {
     "name": "stdout",
     "output_type": "stream",
     "text": [
      "0.262389126262864\n"
     ]
    }
   ],
   "source": [
    "rms_1_d16 = rmse_calculator(X_1_poly_d16_scaled_coloumn_added,theta_1_d16,Y_1)\n",
    "print (rms_1_d16)"
   ]
  },
  {
   "cell_type": "markdown",
   "metadata": {},
   "source": [
    "## Graph_Deg 16"
   ]
  },
  {
   "cell_type": "code",
   "execution_count": 434,
   "metadata": {},
   "outputs": [
    {
     "name": "stderr",
     "output_type": "stream",
     "text": [
      "No handles with labels found to put in legend.\n"
     ]
    },
    {
     "data": {
      "image/png": "[encoded data removed]",
      "text/plain": [
       "<matplotlib.figure.Figure at 0x11f73f0b8>"
      ]
     },
     "metadata": {},
     "output_type": "display_data"
    }
   ],
   "source": [
    "graph_plotter(X_1_poly_d16_scaled_coloumn_added,theta_1_d16,Y_1)"
   ]
  },
  {
   "cell_type": "markdown",
   "metadata": {},
   "source": [
    "# 1-5. Fit the data using 16th order polynomial regression model with ridge (L2 penalty) regularization (matrix form, gradient descent method).\n",
    "## You need to try at least 3 different L2 penalty (for example, λ = 0.1, 1, 10)."
   ]
  },
  {
   "cell_type": "markdown",
   "metadata": {},
   "source": [
    "### λ = 0.1"
   ]
  },
  {
   "cell_type": "markdown",
   "metadata": {},
   "source": [
    "#### Optimized weights λ = 0.1"
   ]
  },
  {
   "cell_type": "code",
   "execution_count": 435,
   "metadata": {},
   "outputs": [
    {
     "name": "stdout",
     "output_type": "stream",
     "text": [
      "[[ 0.43113477]\n",
      " [ 0.24243791]\n",
      " [-0.08410418]\n",
      " [-0.16810873]\n",
      " [-0.15619092]\n",
      " [-0.11555786]\n",
      " [-0.07271182]\n",
      " [-0.03713575]\n",
      " [-0.01136023]\n",
      " [ 0.004851  ]\n",
      " [ 0.01272841]\n",
      " [ 0.01374336]\n",
      " [ 0.00930021]\n",
      " [ 0.00062625]\n",
      " [-0.01125167]\n",
      " [-0.02549447]\n",
      " [-0.04142577]]\n"
     ]
    }
   ],
   "source": [
    "theta_1_d16_regularised_1 = weight_optimizer(X_1_poly_d16_scaled_coloumn_added,16,Y_1,regularisation_alpha=0.1)\n",
    "print (theta_1_d16_regularised_1)"
   ]
  },
  {
   "cell_type": "markdown",
   "metadata": {},
   "source": [
    "#### RMSE - λ = 0.1"
   ]
  },
  {
   "cell_type": "code",
   "execution_count": 436,
   "metadata": {},
   "outputs": [
    {
     "name": "stdout",
     "output_type": "stream",
     "text": [
      "0.3076455181286933\n"
     ]
    }
   ],
   "source": [
    "rms_1_d16_regularised_1 = rmse_calculator(X_1_poly_d16_scaled_coloumn_added,theta_1_d16_regularised_1,Y_1)\n",
    "print (rms_1_d16_regularised_1)"
   ]
  },
  {
   "cell_type": "markdown",
   "metadata": {},
   "source": [
    "### λ = 1"
   ]
  },
  {
   "cell_type": "markdown",
   "metadata": {},
   "source": [
    "#### Optimized weights λ = 1"
   ]
  },
  {
   "cell_type": "code",
   "execution_count": 437,
   "metadata": {},
   "outputs": [
    {
     "name": "stdout",
     "output_type": "stream",
     "text": [
      "[[ 0.30179434]\n",
      " [ 0.0345277 ]\n",
      " [-0.02495585]\n",
      " [-0.04692437]\n",
      " [-0.05164878]\n",
      " [-0.04945516]\n",
      " [-0.04491082]\n",
      " [-0.03997345]\n",
      " [-0.03544028]\n",
      " [-0.03158922]\n",
      " [-0.02846819]\n",
      " [-0.02602835]\n",
      " [-0.0241859 ]\n",
      " [-0.02285013]\n",
      " [-0.02193548]\n",
      " [-0.02136602]\n",
      " [-0.02107638]]\n"
     ]
    }
   ],
   "source": [
    "theta_1_d16_regularised_2 = weight_optimizer(X_1_poly_d16_scaled_coloumn_added,16,Y_1,regularisation_alpha=1)\n",
    "print (theta_1_d16_regularised_2)"
   ]
  },
  {
   "cell_type": "markdown",
   "metadata": {},
   "source": [
    "#### RMSE - λ = 1\n"
   ]
  },
  {
   "cell_type": "code",
   "execution_count": 438,
   "metadata": {},
   "outputs": [
    {
     "name": "stdout",
     "output_type": "stream",
     "text": [
      "0.36273083859294514\n"
     ]
    }
   ],
   "source": [
    "rms_1_d16_regularised_2 = rmse_calculator(X_1_poly_d16_scaled_coloumn_added,theta_1_d16_regularised_2,Y_1)\n",
    "print (rms_1_d16_regularised_2)"
   ]
  },
  {
   "cell_type": "markdown",
   "metadata": {},
   "source": [
    "### λ = 10"
   ]
  },
  {
   "cell_type": "markdown",
   "metadata": {},
   "source": [
    "#### Optimized weights λ = 10"
   ]
  },
  {
   "cell_type": "code",
   "execution_count": 439,
   "metadata": {},
   "outputs": [
    {
     "name": "stdout",
     "output_type": "stream",
     "text": [
      "[[ 0.07544858]\n",
      " [-0.0106746 ]\n",
      " [-0.01983201]\n",
      " [-0.02371479]\n",
      " [-0.02506921]\n",
      " [-0.02531497]\n",
      " [-0.02509753]\n",
      " [-0.02470677]\n",
      " [-0.02427219]\n",
      " [-0.0238497 ]\n",
      " [-0.02346113]\n",
      " [-0.02311262]\n",
      " [-0.02280338]\n",
      " [-0.02252979]\n",
      " [-0.0222874 ]\n",
      " [-0.02207174]\n",
      " [-0.02187871]]\n"
     ]
    }
   ],
   "source": [
    "theta_1_d16_regularised_3 = weight_optimizer(X_1_poly_d16_scaled_coloumn_added,16,Y_1,regularisation_alpha=10)\n",
    "print (theta_1_d16_regularised_3)"
   ]
  },
  {
   "cell_type": "markdown",
   "metadata": {},
   "source": [
    "#### RMSE - λ = 10"
   ]
  },
  {
   "cell_type": "code",
   "execution_count": 440,
   "metadata": {},
   "outputs": [
    {
     "name": "stdout",
     "output_type": "stream",
     "text": [
      "0.5193905050240903\n"
     ]
    }
   ],
   "source": [
    "rms_1_d16_regularised_3 = rmse_calculator(X_1_poly_d16_scaled_coloumn_added,theta_1_d16_regularised_3,Y_1)\n",
    "print (rms_1_d16_regularised_3)"
   ]
  },
  {
   "cell_type": "markdown",
   "metadata": {},
   "source": [
    "#### Graph Plot λ = 0.1,1,10"
   ]
  },
  {
   "cell_type": "code",
   "execution_count": 441,
   "metadata": {},
   "outputs": [
    {
     "data": {
      "image/png": "[encoded data removed]",
      "text/plain": [
       "<matplotlib.figure.Figure at 0x11f73f5f8>"
      ]
     },
     "metadata": {},
     "output_type": "display_data"
    }
   ],
   "source": [
    "graph_plotter(X_1_poly_d16_scaled_coloumn_added,theta_1_d16_regularised_1,Y_1,graph_label=\"λ = 0.1\")\n",
    "graph_plotter(X_1_poly_d16_scaled_coloumn_added,theta_1_d16_regularised_2,Y_1,graph_label= \"λ = 1\")\n",
    "graph_plotter(X_1_poly_d16_scaled_coloumn_added,theta_1_d16_regularised_3,Y_1,graph_label= \"λ = 10\")"
   ]
  },
  {
   "cell_type": "markdown",
   "metadata": {},
   "source": [
    "# 1-6. Fit the data using 16th order polynomial regression model with scikit-learn Ridge model.\n",
    "## You need to try at least 3 different L2 penalty (for example, λ = 0.1, 1, 10)."
   ]
  },
  {
   "cell_type": "code",
   "execution_count": 442,
   "metadata": {},
   "outputs": [],
   "source": [
    "alpha = [0.1, 1, 10]"
   ]
  },
  {
   "cell_type": "code",
   "execution_count": 443,
   "metadata": {},
   "outputs": [],
   "source": [
    "def ridge_optimized_weight(data,label,alpha=0.1):\n",
    "    ridge_reg = Ridge(alpha=alpha, solver=\"cholesky\")\n",
    "    ridge_mode1 = ridge_reg.fit(data[:,1:], label)\n",
    "    print (\"Model-Intercept\",ridge_mode1.intercept_)\n",
    "    print (\"Model-Co-ef\",ridge_mode1.coef_.T)\n",
    "    return ridge_mode1"
   ]
  },
  {
   "cell_type": "code",
   "execution_count": 444,
   "metadata": {},
   "outputs": [],
   "source": [
    "def ridge_lasso_graph_plotter(data,actual_label,ridge_model,graph_label=None):\n",
    "    X_1_poly_dn_scaled_coloumn_added_sorted = data[data[:,1].argsort()]\n",
    "    Y_ridge_mode1_1_predict = ridge_model.predict(X_1_poly_dn_scaled_coloumn_added_sorted[:,1:])\n",
    "    plt.plot(X_1_poly_dn_scaled_coloumn_added_sorted[:,1:2], actual_label, 'bo')\n",
    "    plt.plot(X_1_poly_dn_scaled_coloumn_added_sorted[:,1:2], Y_ridge_mode1_1_predict,label=graph_label)\n",
    "    legend = plt.legend(loc='upper right', shadow=True)"
   ]
  },
  {
   "cell_type": "code",
   "execution_count": 445,
   "metadata": {},
   "outputs": [],
   "source": [
    "def ridge_lasso_rmse(data,actual_label,ridge_model):\n",
    "    Y_ridge_mode1_1_predict = ridge_model.predict(data[:,1:])\n",
    "    rms = sqrt(mean_squared_error(actual_label, Y_ridge_mode1_1_predict))\n",
    "    return rms\n",
    "    "
   ]
  },
  {
   "cell_type": "markdown",
   "metadata": {},
   "source": [
    "#### Optimized_Weights ridge λ = 0.1"
   ]
  },
  {
   "cell_type": "code",
   "execution_count": 446,
   "metadata": {},
   "outputs": [
    {
     "name": "stdout",
     "output_type": "stream",
     "text": [
      "Model-Intercept [0.45269151]\n",
      "Model-Co-ef [[ 0.78485691]\n",
      " [-0.41980483]\n",
      " [-0.6474652 ]\n",
      " [-0.48475686]\n",
      " [-0.22708056]\n",
      " [ 0.00646183]\n",
      " [ 0.17607267]\n",
      " [ 0.27503508]\n",
      " [ 0.30951311]\n",
      " [ 0.28986803]\n",
      " [ 0.22699526]\n",
      " [ 0.13087521]\n",
      " [ 0.01010497]\n",
      " [-0.12814542]\n",
      " [-0.27800671]\n",
      " [-0.43473061]]\n"
     ]
    }
   ],
   "source": [
    "ridge_mode1_1 = ridge_optimized_weight(X_1_poly_d16_scaled_coloumn_added,Y_1,0.1)"
   ]
  },
  {
   "cell_type": "markdown",
   "metadata": {},
   "source": [
    "#### RMSE ridge λ = 0.1"
   ]
  },
  {
   "cell_type": "code",
   "execution_count": 447,
   "metadata": {},
   "outputs": [
    {
     "name": "stdout",
     "output_type": "stream",
     "text": [
      "0.2693814634185468\n"
     ]
    }
   ],
   "source": [
    "rms_ridge_1 = ridge_lasso_rmse(X_1_poly_d16_scaled_coloumn_added,Y_1,ridge_mode1_1)\n",
    "print(rms_ridge_1)"
   ]
  },
  {
   "cell_type": "markdown",
   "metadata": {},
   "source": [
    "#### Optimized Weights Ridge λ = 1"
   ]
  },
  {
   "cell_type": "code",
   "execution_count": 448,
   "metadata": {},
   "outputs": [
    {
     "name": "stdout",
     "output_type": "stream",
     "text": [
      "Model-Intercept [0.45269151]\n",
      "Model-Co-ef [[ 0.30532714]\n",
      " [-0.11714469]\n",
      " [-0.21555533]\n",
      " [-0.18959658]\n",
      " [-0.12931817]\n",
      " [-0.06945018]\n",
      " [-0.02187918]\n",
      " [ 0.01069068]\n",
      " [ 0.02911397]\n",
      " [ 0.03545038]\n",
      " [ 0.03198174]\n",
      " [ 0.02082246]\n",
      " [ 0.00379041]\n",
      " [-0.01760999]\n",
      " [-0.04215991]\n",
      " [-0.06888419]]\n"
     ]
    }
   ],
   "source": [
    "ridge_mode1_2 = ridge_optimized_weight(X_1_poly_d16_scaled_coloumn_added,Y_1,1)"
   ]
  },
  {
   "cell_type": "markdown",
   "metadata": {},
   "source": [
    "#### RMSE ridge λ = 1\n"
   ]
  },
  {
   "cell_type": "code",
   "execution_count": 449,
   "metadata": {},
   "outputs": [
    {
     "name": "stdout",
     "output_type": "stream",
     "text": [
      "0.3015546921663988\n"
     ]
    }
   ],
   "source": [
    "rms_ridge_2 = ridge_lasso_rmse(X_1_poly_d16_scaled_coloumn_added,Y_1,ridge_mode1_2)\n",
    "print(rms_ridge_2)"
   ]
  },
  {
   "cell_type": "markdown",
   "metadata": {},
   "source": [
    "#### Optimized Weights Ridge λ = 10"
   ]
  },
  {
   "cell_type": "code",
   "execution_count": 450,
   "metadata": {},
   "outputs": [
    {
     "name": "stdout",
     "output_type": "stream",
     "text": [
      "Model-Intercept [0.45269151]\n",
      "Model-Co-ef [[ 0.05560105]\n",
      " [-0.02707079]\n",
      " [-0.0564417 ]\n",
      " [-0.06173571]\n",
      " [-0.05764355]\n",
      " [-0.05057775]\n",
      " [-0.04323712]\n",
      " [-0.03668487]\n",
      " [-0.03126116]\n",
      " [-0.02699188]\n",
      " [-0.02377544]\n",
      " [-0.02146823]\n",
      " [-0.01992273]\n",
      " [-0.01900323]\n",
      " [-0.01859114]\n",
      " [-0.01858551]]\n"
     ]
    }
   ],
   "source": [
    "ridge_mode1_3 = ridge_optimized_weight(X_1_poly_d16_scaled_coloumn_added,Y_1,10)"
   ]
  },
  {
   "cell_type": "markdown",
   "metadata": {},
   "source": [
    "#### RMSE ridge λ = 10"
   ]
  },
  {
   "cell_type": "code",
   "execution_count": 451,
   "metadata": {},
   "outputs": [
    {
     "name": "stdout",
     "output_type": "stream",
     "text": [
      "0.3267044743318329\n"
     ]
    }
   ],
   "source": [
    "rms_ridge_3 = ridge_lasso_rmse(X_1_poly_d16_scaled_coloumn_added,Y_1,ridge_mode1_3)\n",
    "print(rms_ridge_3)"
   ]
  },
  {
   "cell_type": "markdown",
   "metadata": {},
   "source": [
    "#### Graph Plot Ridge λ = 0.1,1,10\n"
   ]
  },
  {
   "cell_type": "code",
   "execution_count": 452,
   "metadata": {},
   "outputs": [
    {
     "data": {
      "image/png": "[encoded data removed]",
      "text/plain": [
       "<matplotlib.figure.Figure at 0x11f91f358>"
      ]
     },
     "metadata": {},
     "output_type": "display_data"
    }
   ],
   "source": [
    "ridge_lasso_graph_plotter(X_1_poly_d16_scaled_coloumn_added,Y_1,ridge_mode1_1,graph_label=\"ridge 0.1\")\n",
    "ridge_lasso_graph_plotter(X_1_poly_d16_scaled_coloumn_added,Y_1,ridge_mode1_2,graph_label=\"ridge 1\")\n",
    "ridge_lasso_graph_plotter(X_1_poly_d16_scaled_coloumn_added,Y_1,ridge_mode1_3,graph_label=\"ridge 10\")"
   ]
  },
  {
   "cell_type": "markdown",
   "metadata": {},
   "source": [
    "## 1-7. Fit the data using 16th order polynomial regression model with scikit-learn Lasso model."
   ]
  },
  {
   "cell_type": "code",
   "execution_count": 458,
   "metadata": {},
   "outputs": [],
   "source": [
    "def lasso_optimized_weight(data,label,alpha=0.1):\n",
    "    lasso_reg = Lasso(alpha)\n",
    "    lasso_mode1 = lasso_reg.fit(data[:,1:], label)\n",
    "    print (\"Model-Intercept\",lasso_mode1.intercept_)\n",
    "    print (\"Model-Co-ef\",lasso_mode1.coef_.T)\n",
    "    return lasso_mode1"
   ]
  },
  {
   "cell_type": "markdown",
   "metadata": {},
   "source": [
    "#### Optimized_Weights lasso λ = 0.1\n"
   ]
  },
  {
   "cell_type": "code",
   "execution_count": 459,
   "metadata": {},
   "outputs": [
    {
     "name": "stdout",
     "output_type": "stream",
     "text": [
      "Model-Intercept [0.45269151]\n",
      "Model-Co-ef [-0.         -0.         -0.         -0.         -0.         -0.37373874\n",
      " -0.         -0.         -0.         -0.         -0.         -0.\n",
      " -0.         -0.         -0.         -0.        ]\n"
     ]
    }
   ],
   "source": [
    "lasso_mode1_1 = lasso_optimized_weight(X_1_poly_d16_scaled_coloumn_added,Y_1,0.1)"
   ]
  },
  {
   "cell_type": "markdown",
   "metadata": {},
   "source": [
    "#### RMSE lasso λ = 0.1"
   ]
  },
  {
   "cell_type": "code",
   "execution_count": 460,
   "metadata": {},
   "outputs": [
    {
     "name": "stdout",
     "output_type": "stream",
     "text": [
      "0.34466712593964577\n"
     ]
    }
   ],
   "source": [
    "rms_lasso_1 = ridge_lasso_rmse(X_1_poly_d16_scaled_coloumn_added,Y_1,lasso_mode1_1)\n",
    "print(rms_lasso_1)"
   ]
  },
  {
   "cell_type": "markdown",
   "metadata": {},
   "source": [
    "#### Optimized_Weights lasso λ = 1"
   ]
  },
  {
   "cell_type": "code",
   "execution_count": 461,
   "metadata": {},
   "outputs": [
    {
     "name": "stdout",
     "output_type": "stream",
     "text": [
      "Model-Intercept [0.45269151]\n",
      "Model-Co-ef [-0. -0. -0. -0. -0. -0. -0. -0. -0. -0. -0. -0. -0. -0. -0. -0.]\n"
     ]
    }
   ],
   "source": [
    "lasso_mode1_2 = lasso_optimized_weight(X_1_poly_d16_scaled_coloumn_added,Y_1,1)"
   ]
  },
  {
   "cell_type": "markdown",
   "metadata": {},
   "source": [
    "#### RMSE lasso λ = 1"
   ]
  },
  {
   "cell_type": "code",
   "execution_count": 464,
   "metadata": {},
   "outputs": [
    {
     "name": "stdout",
     "output_type": "stream",
     "text": [
      "0.5772554182087681\n"
     ]
    }
   ],
   "source": [
    "rms_lasso_2 = ridge_lasso_rmse(X_1_poly_d16_scaled_coloumn_added,Y_1,lasso_mode1_2)\n",
    "print(rms_lasso_2)"
   ]
  },
  {
   "cell_type": "markdown",
   "metadata": {},
   "source": [
    "#### Optimized_Weights lasso λ = 10"
   ]
  },
  {
   "cell_type": "code",
   "execution_count": 466,
   "metadata": {},
   "outputs": [
    {
     "name": "stdout",
     "output_type": "stream",
     "text": [
      "Model-Intercept [0.45269151]\n",
      "Model-Co-ef [-0. -0. -0. -0. -0. -0. -0. -0. -0. -0. -0. -0. -0. -0. -0. -0.]\n"
     ]
    }
   ],
   "source": [
    "lasso_mode1_3 = lasso_optimized_weight(X_1_poly_d16_scaled_coloumn_added,Y_1,10)"
   ]
  },
  {
   "cell_type": "markdown",
   "metadata": {},
   "source": [
    "#### RMSE lasso λ = 10"
   ]
  },
  {
   "cell_type": "code",
   "execution_count": 468,
   "metadata": {},
   "outputs": [
    {
     "name": "stdout",
     "output_type": "stream",
     "text": [
      "0.5772554182087681\n"
     ]
    }
   ],
   "source": [
    "rms_lasso_3 = ridge_lasso_rmse(X_1_poly_d16_scaled_coloumn_added,Y_1,lasso_mode1_3)\n",
    "print(rms_lasso_3)"
   ]
  },
  {
   "cell_type": "markdown",
   "metadata": {},
   "source": [
    "#### Graph Plot Lasso λ = 0.1,1,10\n"
   ]
  },
  {
   "cell_type": "code",
   "execution_count": 469,
   "metadata": {},
   "outputs": [
    {
     "data": {
      "image/png": "[encoded data removed]",
      "text/plain": [
       "<matplotlib.figure.Figure at 0x11f92b2e8>"
      ]
     },
     "metadata": {},
     "output_type": "display_data"
    }
   ],
   "source": [
    "ridge_lasso_graph_plotter(X_1_poly_d16_scaled_coloumn_added,Y_1,lasso_mode1_1,graph_label=\"Lasso 0.1\")\n",
    "ridge_lasso_graph_plotter(X_1_poly_d16_scaled_coloumn_added,Y_1,lasso_mode1_2,graph_label=\"Lasso 1\")\n",
    "ridge_lasso_graph_plotter(X_1_poly_d16_scaled_coloumn_added,Y_1,lasso_mode1_3,graph_label=\"Lasso 10\")"
   ]
  },
  {
   "cell_type": "markdown",
   "metadata": {},
   "source": [
    "## 2.Polynomial regression with train/validation/test\n",
    "### You need to split the data into training/validation/testing data set as 60% / 20% / 20%.\n",
    "### Please use np.random.seed(1) to have consistent data for evaluation\n"
   ]
  },
  {
   "cell_type": "markdown",
   "metadata": {},
   "source": [
    "### Fit the data using linear (1st order) regression model (matrix form, gradient descent method)."
   ]
  },
  {
   "cell_type": "code",
   "execution_count": null,
   "metadata": {},
   "outputs": [],
   "source": [
    "\n",
    "from sklearn.model_selection import train_test_split\n",
    "\n",
    "def plot_learning_curves(model, X, y):\n",
    "    X_train, X_val, y_train, y_val = train_test_split(X, y, test_size=0.2)\n",
    "    train_errors, val_errors = [], []\n",
    "    for m in range(1, len(X_train)):\n",
    "        model.fit(X_train[:m], y_train[:m])\n",
    "        y_train_predict = model.predict(X_train[:m])\n",
    "        y_val_predict = model.predict(X_val)\n",
    "        train_errors.append(mean_squared_error(y_train_predict, y_train[:m]))\n",
    "        val_errors.append(mean_squared_error(y_val_predict, y_val))\n",
    "    plt.plot(np.sqrt(train_errors), \"r-+\", linewidth=2, label=\"train\")\n",
    "    plt.plot(np.sqrt(val_errors), \"b-\", linewidth=3, label=\"val\")"
   ]
  }
 ],
 "metadata": {
  "kernelspec": {
   "display_name": "Python 3",
   "language": "python",
   "name": "python3"
  },
  "language_info": {
   "codemirror_mode": {
    "name": "ipython",
    "version": 3
   },
   "file_extension": ".py",
   "mimetype": "text/x-python",
   "name": "python",
   "nbconvert_exporter": "python",
   "pygments_lexer": "ipython3",
   "version": "3.5.2"
  },
  "widgets": {
   "state": {},
   "version": "1.1.2"
  }
 },
 "nbformat": 4,
 "nbformat_minor": 2
}
