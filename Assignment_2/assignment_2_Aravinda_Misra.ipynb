{
 "cells": [
  {
   "cell_type": "code",
   "execution_count": 197,
   "metadata": {},
   "outputs": [],
   "source": [
    "import matplotlib\n",
    "import matplotlib.pyplot as plt\n",
    "import numpy as np\n",
    "import pandas as pd\n",
    "from sklearn import linear_model\n",
    "from sklearn.preprocessing import StandardScaler\n",
    "from sklearn.metrics import mean_squared_error\n",
    "from math import sqrt\n",
    "import tensorflow as tf\n",
    "from sklearn.preprocessing import PolynomialFeatures\n",
    "from sklearn.linear_model import Ridge\n",
    "from sklearn.linear_model import Lasso\n",
    "from sklearn.model_selection import train_test_split\n",
    "from sklearn.utils import resample"
   ]
  },
  {
   "cell_type": "markdown",
   "metadata": {},
   "source": [
    "# 1-1. Fit the data using linear (1st order) regression model (matrix form, gradient descent method).\n",
    "### Plot the data with the fitted line. Print optimized weights. Print Root Mean Squared Error (RMSE)."
   ]
  },
  {
   "cell_type": "code",
   "execution_count": 198,
   "metadata": {},
   "outputs": [],
   "source": [
    "data1 = pd.read_csv(\"ex2data1.csv\")\n",
    "X_1 = data1.as_matrix(columns=data1.columns[0:1])\n",
    "Y_1 = data1.as_matrix(columns=data1.columns[1:])\n",
    "X_1_coloumn_added = np.c_[np.ones((data1.shape[0], 1)), X_1]"
   ]
  },
  {
   "cell_type": "code",
   "execution_count": 199,
   "metadata": {},
   "outputs": [],
   "source": [
    "def weight_optimizer(data,degree,Label,learn_rate = .01,epochs = 100000,regularisation_alpha=0):\n",
    "    theta_1 = np.random.randn(degree+1,1)\n",
    "    for epoch in range(epochs):\n",
    "        gradients = (2/data.shape[0])* (data.T.dot(data.dot(theta_1)- Label)+regularisation_alpha*theta_1)\n",
    "        theta_1 = theta_1 - learn_rate * gradients\n",
    "    return theta_1"
   ]
  },
  {
   "cell_type": "code",
   "execution_count": 200,
   "metadata": {},
   "outputs": [],
   "source": [
    "def rmse_calculator(data,weights,actual_label):\n",
    "    predict_y = data.dot(weights)\n",
    "    rms = sqrt(mean_squared_error(actual_label, predict_y))\n",
    "    return rms"
   ]
  },
  {
   "cell_type": "code",
   "execution_count": 201,
   "metadata": {},
   "outputs": [],
   "source": [
    "# Please input sorted data\n",
    "def graph_plotter(X_1_poly_dn_scaled_coloumn_added,weights,actual_label,graph_label=None):\n",
    "    X_1_poly_dn_scaled_coloumn_added_sorted = X_1_poly_dn_scaled_coloumn_added [X_1_poly_dn_scaled_coloumn_added [:,1].argsort()]\n",
    "    plt.plot(X_1_poly_dn_scaled_coloumn_added_sorted[:,1:2], actual_label, 'bo')\n",
    "    y_1_dn_plot = X_1_poly_dn_scaled_coloumn_added_sorted.dot(weights)\n",
    "    plt.plot(X_1_poly_dn_scaled_coloumn_added_sorted[:,1:2], y_1_dn_plot,label=graph_label)\n",
    "    legend = plt.legend(loc='upper right', shadow=True)"
   ]
  },
  {
   "cell_type": "code",
   "execution_count": 202,
   "metadata": {},
   "outputs": [],
   "source": [
    "scaler = StandardScaler()"
   ]
  },
  {
   "cell_type": "code",
   "execution_count": 203,
   "metadata": {},
   "outputs": [],
   "source": [
    "def polynomial_adder(data,degree):\n",
    "    poly_features = PolynomialFeatures(degree=degree, include_bias=False)\n",
    "    X_1_poly_dn = poly_features.fit_transform(data)\n",
    "    X_1_poly_dn_scaled = scaler.fit_transform(X_1_poly_dn)\n",
    "    X_1_poly_dn_scaled_coloumn_added = np.c_[np.ones((data.shape[0], 1)), X_1_poly_dn_scaled]\n",
    "    ## Sorting for graph plotting\n",
    "    #X_1_poly_dn_scaled_coloumn_added = X_1_poly_dn_scaled_coloumn_added [X_1_poly_dn_scaled_coloumn_added [:,1].argsort()]\n",
    "    return X_1_poly_dn_scaled_coloumn_added"
   ]
  },
  {
   "cell_type": "markdown",
   "metadata": {},
   "source": [
    "## Optimized Weight - Deg1\n"
   ]
  },
  {
   "cell_type": "code",
   "execution_count": 204,
   "metadata": {},
   "outputs": [
    {
     "name": "stdout",
     "output_type": "stream",
     "text": [
      "[[ 1.07581132]\n",
      " [-1.1887203 ]]\n"
     ]
    }
   ],
   "source": [
    "theta_1 = weight_optimizer(X_1_coloumn_added,1,Y_1)\n",
    "print (theta_1)"
   ]
  },
  {
   "cell_type": "markdown",
   "metadata": {},
   "source": [
    "## RMSE - Deg1\n"
   ]
  },
  {
   "cell_type": "code",
   "execution_count": 205,
   "metadata": {},
   "outputs": [
    {
     "name": "stdout",
     "output_type": "stream",
     "text": [
      "0.47624021947640577\n"
     ]
    }
   ],
   "source": [
    "rms_1 = rmse_calculator(X_1_coloumn_added,theta_1,Y_1)\n",
    "print (rms_1)"
   ]
  },
  {
   "cell_type": "markdown",
   "metadata": {},
   "source": [
    "## Plot - Deg1"
   ]
  },
  {
   "cell_type": "code",
   "execution_count": 206,
   "metadata": {},
   "outputs": [
    {
     "name": "stderr",
     "output_type": "stream",
     "text": [
      "No handles with labels found to put in legend.\n"
     ]
    },
    {
     "data": {
      "image/png": "[encoded data removed]",
      "text/plain": [
       "<matplotlib.figure.Figure at 0x11c2a4320>"
      ]
     },
     "metadata": {},
     "output_type": "display_data"
    }
   ],
   "source": [
    "graph_plotter(X_1_coloumn_added,theta_1,Y_1)"
   ]
  },
  {
   "cell_type": "markdown",
   "metadata": {},
   "source": [
    "# 1-2. Fit the data using 2nd order polynomial regression model (matrix form, gradient descent method)."
   ]
  },
  {
   "cell_type": "code",
   "execution_count": 207,
   "metadata": {},
   "outputs": [],
   "source": [
    "X_1_poly_d2_scaled_coloumn_added = polynomial_adder(X_1,2)"
   ]
  },
  {
   "cell_type": "markdown",
   "metadata": {},
   "source": [
    "## Optimized Weight - deg2"
   ]
  },
  {
   "cell_type": "code",
   "execution_count": 208,
   "metadata": {},
   "outputs": [
    {
     "name": "stdout",
     "output_type": "stream",
     "text": [
      "[[ 0.45269151]\n",
      " [ 1.13735736]\n",
      " [-1.51236155]]\n"
     ]
    }
   ],
   "source": [
    "theta_1_d2 = weight_optimizer(X_1_poly_d2_scaled_coloumn_added,2,Y_1,epochs=1000000)\n",
    "print (theta_1_d2)"
   ]
  },
  {
   "cell_type": "markdown",
   "metadata": {},
   "source": [
    "## RMSE"
   ]
  },
  {
   "cell_type": "code",
   "execution_count": 209,
   "metadata": {},
   "outputs": [
    {
     "name": "stdout",
     "output_type": "stream",
     "text": [
      "0.2856992946970416\n"
     ]
    }
   ],
   "source": [
    "rms_1_d2 = rmse_calculator(X_1_poly_d2_scaled_coloumn_added,theta_1_d2,Y_1)\n",
    "print (rms_1_d2)"
   ]
  },
  {
   "cell_type": "markdown",
   "metadata": {},
   "source": [
    "## Plot - deg2"
   ]
  },
  {
   "cell_type": "code",
   "execution_count": 210,
   "metadata": {},
   "outputs": [
    {
     "name": "stderr",
     "output_type": "stream",
     "text": [
      "No handles with labels found to put in legend.\n"
     ]
    },
    {
     "data": {
      "image/png": "[encoded data removed]",
      "text/plain": [
       "<matplotlib.figure.Figure at 0x11c204c88>"
      ]
     },
     "metadata": {},
     "output_type": "display_data"
    }
   ],
   "source": [
    "graph_plotter(X_1_poly_d2_scaled_coloumn_added,theta_1_d2,Y_1)"
   ]
  },
  {
   "cell_type": "markdown",
   "metadata": {},
   "source": [
    "# 1-3. Fit the data using 4th order polynomial regression model (matrix form, gradient descent method)."
   ]
  },
  {
   "cell_type": "code",
   "execution_count": 211,
   "metadata": {},
   "outputs": [],
   "source": [
    "X_1_poly_d4_scaled_coloumn_added = polynomial_adder(X_1,4)"
   ]
  },
  {
   "cell_type": "markdown",
   "metadata": {},
   "source": [
    "## Optimized Weight - deg4"
   ]
  },
  {
   "cell_type": "code",
   "execution_count": 212,
   "metadata": {},
   "outputs": [
    {
     "name": "stdout",
     "output_type": "stream",
     "text": [
      "[[ 0.45269151]\n",
      " [ 1.29328167]\n",
      " [-1.97124121]\n",
      " [ 0.40758024]\n",
      " [-0.09772327]]\n"
     ]
    }
   ],
   "source": [
    "theta_1_d4 = weight_optimizer(X_1_poly_d4_scaled_coloumn_added,4,Y_1,epochs=1000000)\n",
    "print (theta_1_d4)"
   ]
  },
  {
   "cell_type": "markdown",
   "metadata": {},
   "source": [
    "## RMSE Deg-4"
   ]
  },
  {
   "cell_type": "code",
   "execution_count": 213,
   "metadata": {},
   "outputs": [
    {
     "name": "stdout",
     "output_type": "stream",
     "text": [
      "0.2853539310798953\n"
     ]
    }
   ],
   "source": [
    "rms_1_d4 = rmse_calculator(X_1_poly_d4_scaled_coloumn_added,theta_1_d4,Y_1)\n",
    "print (rms_1_d4)"
   ]
  },
  {
   "cell_type": "markdown",
   "metadata": {},
   "source": [
    "## Graph_Deg 4"
   ]
  },
  {
   "cell_type": "code",
   "execution_count": 214,
   "metadata": {},
   "outputs": [
    {
     "name": "stderr",
     "output_type": "stream",
     "text": [
      "No handles with labels found to put in legend.\n"
     ]
    },
    {
     "data": {
      "image/png": "[encoded data removed]",
      "text/plain": [
       "<matplotlib.figure.Figure at 0x11bb983c8>"
      ]
     },
     "metadata": {},
     "output_type": "display_data"
    }
   ],
   "source": [
    "graph_plotter(X_1_poly_d4_scaled_coloumn_added,theta_1_d4,Y_1)"
   ]
  },
  {
   "cell_type": "markdown",
   "metadata": {},
   "source": [
    "# 1-4. Fit the data using 16th order polynomial regression model (matrix form, gradient descent method)."
   ]
  },
  {
   "cell_type": "code",
   "execution_count": 215,
   "metadata": {},
   "outputs": [],
   "source": [
    "X_1_poly_d16_scaled_coloumn_added = polynomial_adder(X_1,16)"
   ]
  },
  {
   "cell_type": "markdown",
   "metadata": {},
   "source": [
    "## Optimized Weight - deg16"
   ]
  },
  {
   "cell_type": "code",
   "execution_count": 216,
   "metadata": {},
   "outputs": [
    {
     "name": "stdout",
     "output_type": "stream",
     "text": [
      "[[ 0.45269151]\n",
      " [ 0.90569215]\n",
      " [-0.63905604]\n",
      " [ 0.58174172]\n",
      " [-2.18981068]\n",
      " [-0.36381962]\n",
      " [-0.48679136]\n",
      " [ 0.03242304]\n",
      " [ 1.22399681]\n",
      " [ 1.3783914 ]\n",
      " [ 0.51790883]\n",
      " [ 0.54350124]\n",
      " [-1.12891568]\n",
      " [ 0.26915691]\n",
      " [ 0.5333662 ]\n",
      " [-0.19490954]\n",
      " [-1.39357019]]\n"
     ]
    }
   ],
   "source": [
    "theta_1_d16 = weight_optimizer(X_1_poly_d16_scaled_coloumn_added,16,Y_1,epochs=1000000)\n",
    "print (theta_1_d16)"
   ]
  },
  {
   "cell_type": "markdown",
   "metadata": {},
   "source": [
    "## RMSE - Deg4"
   ]
  },
  {
   "cell_type": "code",
   "execution_count": 217,
   "metadata": {},
   "outputs": [
    {
     "name": "stdout",
     "output_type": "stream",
     "text": [
      "0.2625062559634639\n"
     ]
    }
   ],
   "source": [
    "rms_1_d16 = rmse_calculator(X_1_poly_d16_scaled_coloumn_added,theta_1_d16,Y_1)\n",
    "print (rms_1_d16)"
   ]
  },
  {
   "cell_type": "markdown",
   "metadata": {},
   "source": [
    "## Graph_Deg 16"
   ]
  },
  {
   "cell_type": "code",
   "execution_count": 218,
   "metadata": {},
   "outputs": [
    {
     "name": "stderr",
     "output_type": "stream",
     "text": [
      "No handles with labels found to put in legend.\n"
     ]
    },
    {
     "data": {
      "image/png": "[encoded data removed]",
      "text/plain": [
       "<matplotlib.figure.Figure at 0x11ba192e8>"
      ]
     },
     "metadata": {},
     "output_type": "display_data"
    }
   ],
   "source": [
    "graph_plotter(X_1_poly_d16_scaled_coloumn_added,theta_1_d16,Y_1)"
   ]
  },
  {
   "cell_type": "markdown",
   "metadata": {},
   "source": [
    "# 1-5. Fit the data using 16th order polynomial regression model with ridge (L2 penalty) regularization (matrix form, gradient descent method).\n",
    "## You need to try at least 3 different L2 penalty (for example, λ = 0.1, 1, 10)."
   ]
  },
  {
   "cell_type": "markdown",
   "metadata": {},
   "source": [
    "### λ = 0.1"
   ]
  },
  {
   "cell_type": "markdown",
   "metadata": {},
   "source": [
    "#### Optimized weights λ = 0.1"
   ]
  },
  {
   "cell_type": "code",
   "execution_count": 219,
   "metadata": {},
   "outputs": [
    {
     "name": "stdout",
     "output_type": "stream",
     "text": [
      "[[ 0.45118755]\n",
      " [ 0.78496938]\n",
      " [-0.41986364]\n",
      " [-0.64770631]\n",
      " [-0.48516438]\n",
      " [-0.22691241]\n",
      " [ 0.00677979]\n",
      " [ 0.17744631]\n",
      " [ 0.27520327]\n",
      " [ 0.30862102]\n",
      " [ 0.28991242]\n",
      " [ 0.22673522]\n",
      " [ 0.12928467]\n",
      " [ 0.01020639]\n",
      " [-0.12850398]\n",
      " [-0.27605485]\n",
      " [-0.43514748]]\n"
     ]
    }
   ],
   "source": [
    "theta_1_d16_regularised_1 = weight_optimizer(X_1_poly_d16_scaled_coloumn_added,16,Y_1,regularisation_alpha=0.1)\n",
    "print (theta_1_d16_regularised_1)"
   ]
  },
  {
   "cell_type": "markdown",
   "metadata": {},
   "source": [
    "#### RMSE - λ = 0.1"
   ]
  },
  {
   "cell_type": "code",
   "execution_count": 220,
   "metadata": {},
   "outputs": [
    {
     "name": "stdout",
     "output_type": "stream",
     "text": [
      "0.2693872247572115\n"
     ]
    }
   ],
   "source": [
    "rms_1_d16_regularised_1 = rmse_calculator(X_1_poly_d16_scaled_coloumn_added,theta_1_d16_regularised_1,Y_1)\n",
    "print (rms_1_d16_regularised_1)"
   ]
  },
  {
   "cell_type": "markdown",
   "metadata": {},
   "source": [
    "### λ = 1"
   ]
  },
  {
   "cell_type": "markdown",
   "metadata": {},
   "source": [
    "#### Optimized weights λ = 1"
   ]
  },
  {
   "cell_type": "code",
   "execution_count": 221,
   "metadata": {},
   "outputs": [
    {
     "name": "stdout",
     "output_type": "stream",
     "text": [
      "[[ 0.43808856]\n",
      " [ 0.30532714]\n",
      " [-0.11714469]\n",
      " [-0.21555533]\n",
      " [-0.18959658]\n",
      " [-0.12931817]\n",
      " [-0.06945018]\n",
      " [-0.02187918]\n",
      " [ 0.01069068]\n",
      " [ 0.02911397]\n",
      " [ 0.03545038]\n",
      " [ 0.03198174]\n",
      " [ 0.02082246]\n",
      " [ 0.00379041]\n",
      " [-0.01760999]\n",
      " [-0.04215991]\n",
      " [-0.06888419]]\n"
     ]
    }
   ],
   "source": [
    "theta_1_d16_regularised_2 = weight_optimizer(X_1_poly_d16_scaled_coloumn_added,16,Y_1,regularisation_alpha=1)\n",
    "print (theta_1_d16_regularised_2)"
   ]
  },
  {
   "cell_type": "markdown",
   "metadata": {},
   "source": [
    "#### RMSE - λ = 1\n"
   ]
  },
  {
   "cell_type": "code",
   "execution_count": 222,
   "metadata": {},
   "outputs": [
    {
     "name": "stdout",
     "output_type": "stream",
     "text": [
      "0.30190806311237905\n"
     ]
    }
   ],
   "source": [
    "rms_1_d16_regularised_2 = rmse_calculator(X_1_poly_d16_scaled_coloumn_added,theta_1_d16_regularised_2,Y_1)\n",
    "print (rms_1_d16_regularised_2)"
   ]
  },
  {
   "cell_type": "markdown",
   "metadata": {},
   "source": [
    "### λ = 10"
   ]
  },
  {
   "cell_type": "markdown",
   "metadata": {},
   "source": [
    "#### Optimized weights λ = 10"
   ]
  },
  {
   "cell_type": "code",
   "execution_count": 223,
   "metadata": {},
   "outputs": [
    {
     "name": "stdout",
     "output_type": "stream",
     "text": [
      "[[ 0.33951863]\n",
      " [ 0.05560105]\n",
      " [-0.02707079]\n",
      " [-0.0564417 ]\n",
      " [-0.06173571]\n",
      " [-0.05764355]\n",
      " [-0.05057775]\n",
      " [-0.04323712]\n",
      " [-0.03668487]\n",
      " [-0.03126116]\n",
      " [-0.02699188]\n",
      " [-0.02377544]\n",
      " [-0.02146823]\n",
      " [-0.01992273]\n",
      " [-0.01900323]\n",
      " [-0.01859114]\n",
      " [-0.01858551]]\n"
     ]
    }
   ],
   "source": [
    "theta_1_d16_regularised_3 = weight_optimizer(X_1_poly_d16_scaled_coloumn_added,16,Y_1,regularisation_alpha=10)\n",
    "print (theta_1_d16_regularised_3)"
   ]
  },
  {
   "cell_type": "markdown",
   "metadata": {},
   "source": [
    "#### RMSE - λ = 10"
   ]
  },
  {
   "cell_type": "code",
   "execution_count": 224,
   "metadata": {},
   "outputs": [
    {
     "name": "stdout",
     "output_type": "stream",
     "text": [
      "0.34575123097106086\n"
     ]
    }
   ],
   "source": [
    "rms_1_d16_regularised_3 = rmse_calculator(X_1_poly_d16_scaled_coloumn_added,theta_1_d16_regularised_3,Y_1)\n",
    "print (rms_1_d16_regularised_3)"
   ]
  },
  {
   "cell_type": "markdown",
   "metadata": {},
   "source": [
    "#### Graph Plot λ = 0.1,1,10"
   ]
  },
  {
   "cell_type": "code",
   "execution_count": 225,
   "metadata": {},
   "outputs": [
    {
     "data": {
      "image/png": "[encoded data removed]",
      "text/plain": [
       "<matplotlib.figure.Figure at 0x11c159940>"
      ]
     },
     "metadata": {},
     "output_type": "display_data"
    }
   ],
   "source": [
    "graph_plotter(X_1_poly_d16_scaled_coloumn_added,theta_1_d16_regularised_1,Y_1,graph_label=\"λ = 0.1\")\n",
    "graph_plotter(X_1_poly_d16_scaled_coloumn_added,theta_1_d16_regularised_2,Y_1,graph_label= \"λ = 1\")\n",
    "graph_plotter(X_1_poly_d16_scaled_coloumn_added,theta_1_d16_regularised_3,Y_1,graph_label= \"λ = 10\")"
   ]
  },
  {
   "cell_type": "markdown",
   "metadata": {},
   "source": [
    "# 1-6. Fit the data using 16th order polynomial regression model with scikit-learn Ridge model.\n",
    "## You need to try at least 3 different L2 penalty (for example, λ = 0.1, 1, 10)."
   ]
  },
  {
   "cell_type": "code",
   "execution_count": 226,
   "metadata": {},
   "outputs": [],
   "source": [
    "alpha = [0.1, 1, 10]"
   ]
  },
  {
   "cell_type": "code",
   "execution_count": 227,
   "metadata": {},
   "outputs": [],
   "source": [
    "def ridge_optimized_weight(data,label,alpha=0.1):\n",
    "    ridge_reg = Ridge(alpha=alpha, solver=\"cholesky\")\n",
    "    ridge_mode1 = ridge_reg.fit(data[:,1:], label)\n",
    "    print (\"Model-Intercept\",ridge_mode1.intercept_)\n",
    "    print (\"Model-Co-ef\",ridge_mode1.coef_.T)\n",
    "    return ridge_mode1"
   ]
  },
  {
   "cell_type": "code",
   "execution_count": 228,
   "metadata": {},
   "outputs": [],
   "source": [
    "def ridge_lasso_graph_plotter(data,actual_label,ridge_model,graph_label=None):\n",
    "    X_1_poly_dn_scaled_coloumn_added_sorted = data[data[:,1].argsort()]\n",
    "    Y_ridge_mode1_1_predict = ridge_model.predict(X_1_poly_dn_scaled_coloumn_added_sorted[:,1:])\n",
    "    plt.plot(X_1_poly_dn_scaled_coloumn_added_sorted[:,1:2], actual_label, 'bo')\n",
    "    plt.plot(X_1_poly_dn_scaled_coloumn_added_sorted[:,1:2], Y_ridge_mode1_1_predict,label=graph_label)\n",
    "    legend = plt.legend(loc='upper right', shadow=True)"
   ]
  },
  {
   "cell_type": "code",
   "execution_count": 229,
   "metadata": {},
   "outputs": [],
   "source": [
    "def ridge_lasso_rmse(data,actual_label,ridge_model):\n",
    "    Y_ridge_mode1_1_predict = ridge_model.predict(data[:,1:])\n",
    "    rms = sqrt(mean_squared_error(actual_label, Y_ridge_mode1_1_predict))\n",
    "    return rms\n",
    "    "
   ]
  },
  {
   "cell_type": "markdown",
   "metadata": {},
   "source": [
    "#### Optimized_Weights ridge λ = 0.1"
   ]
  },
  {
   "cell_type": "code",
   "execution_count": 230,
   "metadata": {},
   "outputs": [
    {
     "name": "stdout",
     "output_type": "stream",
     "text": [
      "Model-Intercept [0.45269151]\n",
      "Model-Co-ef [[ 0.78485691]\n",
      " [-0.41980483]\n",
      " [-0.6474652 ]\n",
      " [-0.48475686]\n",
      " [-0.22708056]\n",
      " [ 0.00646183]\n",
      " [ 0.17607267]\n",
      " [ 0.27503508]\n",
      " [ 0.30951311]\n",
      " [ 0.28986803]\n",
      " [ 0.22699526]\n",
      " [ 0.13087521]\n",
      " [ 0.01010497]\n",
      " [-0.12814542]\n",
      " [-0.27800671]\n",
      " [-0.43473061]]\n"
     ]
    }
   ],
   "source": [
    "ridge_mode1_1 = ridge_optimized_weight(X_1_poly_d16_scaled_coloumn_added,Y_1,0.1)"
   ]
  },
  {
   "cell_type": "markdown",
   "metadata": {},
   "source": [
    "#### RMSE ridge λ = 0.1"
   ]
  },
  {
   "cell_type": "code",
   "execution_count": 231,
   "metadata": {},
   "outputs": [
    {
     "name": "stdout",
     "output_type": "stream",
     "text": [
      "0.2693814634185468\n"
     ]
    }
   ],
   "source": [
    "rms_ridge_1 = ridge_lasso_rmse(X_1_poly_d16_scaled_coloumn_added,Y_1,ridge_mode1_1)\n",
    "print(rms_ridge_1)"
   ]
  },
  {
   "cell_type": "markdown",
   "metadata": {},
   "source": [
    "#### Optimized Weights Ridge λ = 1"
   ]
  },
  {
   "cell_type": "code",
   "execution_count": 232,
   "metadata": {},
   "outputs": [
    {
     "name": "stdout",
     "output_type": "stream",
     "text": [
      "Model-Intercept [0.45269151]\n",
      "Model-Co-ef [[ 0.30532714]\n",
      " [-0.11714469]\n",
      " [-0.21555533]\n",
      " [-0.18959658]\n",
      " [-0.12931817]\n",
      " [-0.06945018]\n",
      " [-0.02187918]\n",
      " [ 0.01069068]\n",
      " [ 0.02911397]\n",
      " [ 0.03545038]\n",
      " [ 0.03198174]\n",
      " [ 0.02082246]\n",
      " [ 0.00379041]\n",
      " [-0.01760999]\n",
      " [-0.04215991]\n",
      " [-0.06888419]]\n"
     ]
    }
   ],
   "source": [
    "ridge_mode1_2 = ridge_optimized_weight(X_1_poly_d16_scaled_coloumn_added,Y_1,1)"
   ]
  },
  {
   "cell_type": "markdown",
   "metadata": {},
   "source": [
    "#### RMSE ridge λ = 1\n"
   ]
  },
  {
   "cell_type": "code",
   "execution_count": 233,
   "metadata": {},
   "outputs": [
    {
     "name": "stdout",
     "output_type": "stream",
     "text": [
      "0.3015546921663988\n"
     ]
    }
   ],
   "source": [
    "rms_ridge_2 = ridge_lasso_rmse(X_1_poly_d16_scaled_coloumn_added,Y_1,ridge_mode1_2)\n",
    "print(rms_ridge_2)"
   ]
  },
  {
   "cell_type": "markdown",
   "metadata": {},
   "source": [
    "#### Optimized Weights Ridge λ = 10"
   ]
  },
  {
   "cell_type": "code",
   "execution_count": 234,
   "metadata": {},
   "outputs": [
    {
     "name": "stdout",
     "output_type": "stream",
     "text": [
      "Model-Intercept [0.45269151]\n",
      "Model-Co-ef [[ 0.05560105]\n",
      " [-0.02707079]\n",
      " [-0.0564417 ]\n",
      " [-0.06173571]\n",
      " [-0.05764355]\n",
      " [-0.05057775]\n",
      " [-0.04323712]\n",
      " [-0.03668487]\n",
      " [-0.03126116]\n",
      " [-0.02699188]\n",
      " [-0.02377544]\n",
      " [-0.02146823]\n",
      " [-0.01992273]\n",
      " [-0.01900323]\n",
      " [-0.01859114]\n",
      " [-0.01858551]]\n"
     ]
    }
   ],
   "source": [
    "ridge_mode1_3 = ridge_optimized_weight(X_1_poly_d16_scaled_coloumn_added,Y_1,10)"
   ]
  },
  {
   "cell_type": "markdown",
   "metadata": {},
   "source": [
    "#### RMSE ridge λ = 10"
   ]
  },
  {
   "cell_type": "code",
   "execution_count": 235,
   "metadata": {},
   "outputs": [
    {
     "name": "stdout",
     "output_type": "stream",
     "text": [
      "0.3267044743318329\n"
     ]
    }
   ],
   "source": [
    "rms_ridge_3 = ridge_lasso_rmse(X_1_poly_d16_scaled_coloumn_added,Y_1,ridge_mode1_3)\n",
    "print(rms_ridge_3)"
   ]
  },
  {
   "cell_type": "markdown",
   "metadata": {},
   "source": [
    "#### Graph Plot Ridge λ = 0.1,1,10\n"
   ]
  },
  {
   "cell_type": "code",
   "execution_count": 236,
   "metadata": {},
   "outputs": [
    {
     "data": {
      "image/png": "[encoded data removed]",
      "text/plain": [
       "<matplotlib.figure.Figure at 0x11cb4add8>"
      ]
     },
     "metadata": {},
     "output_type": "display_data"
    }
   ],
   "source": [
    "ridge_lasso_graph_plotter(X_1_poly_d16_scaled_coloumn_added,Y_1,ridge_mode1_1,graph_label=\"ridge 0.1\")\n",
    "ridge_lasso_graph_plotter(X_1_poly_d16_scaled_coloumn_added,Y_1,ridge_mode1_2,graph_label=\"ridge 1\")\n",
    "ridge_lasso_graph_plotter(X_1_poly_d16_scaled_coloumn_added,Y_1,ridge_mode1_3,graph_label=\"ridge 10\")"
   ]
  },
  {
   "cell_type": "markdown",
   "metadata": {},
   "source": [
    "## 1-7. Fit the data using 16th order polynomial regression model with scikit-learn Lasso model."
   ]
  },
  {
   "cell_type": "code",
   "execution_count": 237,
   "metadata": {},
   "outputs": [],
   "source": [
    "def lasso_optimized_weight(data,label,alpha=0.1):\n",
    "    lasso_reg = Lasso(alpha)\n",
    "    lasso_mode1 = lasso_reg.fit(data[:,1:], label)\n",
    "    print (\"Model-Intercept\",lasso_mode1.intercept_)\n",
    "    print (\"Model-Co-ef\",lasso_mode1.coef_.T)\n",
    "    return lasso_mode1"
   ]
  },
  {
   "cell_type": "markdown",
   "metadata": {},
   "source": [
    "#### Optimized_Weights lasso λ = 0.1\n"
   ]
  },
  {
   "cell_type": "code",
   "execution_count": 238,
   "metadata": {},
   "outputs": [
    {
     "name": "stdout",
     "output_type": "stream",
     "text": [
      "Model-Intercept [0.45269151]\n",
      "Model-Co-ef [-0.         -0.         -0.         -0.         -0.         -0.37373874\n",
      " -0.         -0.         -0.         -0.         -0.         -0.\n",
      " -0.         -0.         -0.         -0.        ]\n"
     ]
    }
   ],
   "source": [
    "lasso_mode1_1 = lasso_optimized_weight(X_1_poly_d16_scaled_coloumn_added,Y_1,0.1)"
   ]
  },
  {
   "cell_type": "markdown",
   "metadata": {},
   "source": [
    "#### RMSE lasso λ = 0.1"
   ]
  },
  {
   "cell_type": "code",
   "execution_count": 239,
   "metadata": {},
   "outputs": [
    {
     "name": "stdout",
     "output_type": "stream",
     "text": [
      "0.34466712593964577\n"
     ]
    }
   ],
   "source": [
    "rms_lasso_1 = ridge_lasso_rmse(X_1_poly_d16_scaled_coloumn_added,Y_1,lasso_mode1_1)\n",
    "print(rms_lasso_1)"
   ]
  },
  {
   "cell_type": "markdown",
   "metadata": {},
   "source": [
    "#### Optimized_Weights lasso λ = 1"
   ]
  },
  {
   "cell_type": "code",
   "execution_count": 240,
   "metadata": {},
   "outputs": [
    {
     "name": "stdout",
     "output_type": "stream",
     "text": [
      "Model-Intercept [0.45269151]\n",
      "Model-Co-ef [-0. -0. -0. -0. -0. -0. -0. -0. -0. -0. -0. -0. -0. -0. -0. -0.]\n"
     ]
    }
   ],
   "source": [
    "lasso_mode1_2 = lasso_optimized_weight(X_1_poly_d16_scaled_coloumn_added,Y_1,1)"
   ]
  },
  {
   "cell_type": "markdown",
   "metadata": {},
   "source": [
    "#### RMSE lasso λ = 1"
   ]
  },
  {
   "cell_type": "code",
   "execution_count": 241,
   "metadata": {},
   "outputs": [
    {
     "name": "stdout",
     "output_type": "stream",
     "text": [
      "0.5772554182087681\n"
     ]
    }
   ],
   "source": [
    "rms_lasso_2 = ridge_lasso_rmse(X_1_poly_d16_scaled_coloumn_added,Y_1,lasso_mode1_2)\n",
    "print(rms_lasso_2)"
   ]
  },
  {
   "cell_type": "markdown",
   "metadata": {},
   "source": [
    "#### Optimized_Weights lasso λ = 10"
   ]
  },
  {
   "cell_type": "code",
   "execution_count": 242,
   "metadata": {},
   "outputs": [
    {
     "name": "stdout",
     "output_type": "stream",
     "text": [
      "Model-Intercept [0.45269151]\n",
      "Model-Co-ef [-0. -0. -0. -0. -0. -0. -0. -0. -0. -0. -0. -0. -0. -0. -0. -0.]\n"
     ]
    }
   ],
   "source": [
    "lasso_mode1_3 = lasso_optimized_weight(X_1_poly_d16_scaled_coloumn_added,Y_1,10)"
   ]
  },
  {
   "cell_type": "markdown",
   "metadata": {},
   "source": [
    "#### RMSE lasso λ = 10"
   ]
  },
  {
   "cell_type": "code",
   "execution_count": 243,
   "metadata": {},
   "outputs": [
    {
     "name": "stdout",
     "output_type": "stream",
     "text": [
      "0.5772554182087681\n"
     ]
    }
   ],
   "source": [
    "rms_lasso_3 = ridge_lasso_rmse(X_1_poly_d16_scaled_coloumn_added,Y_1,lasso_mode1_3)\n",
    "print(rms_lasso_3)"
   ]
  },
  {
   "cell_type": "markdown",
   "metadata": {},
   "source": [
    "#### Graph Plot Lasso λ = 0.1,1,10\n"
   ]
  },
  {
   "cell_type": "code",
   "execution_count": 244,
   "metadata": {},
   "outputs": [
    {
     "data": {
      "image/png": "[encoded data removed]",
      "text/plain": [
       "<matplotlib.figure.Figure at 0x11cb79588>"
      ]
     },
     "metadata": {},
     "output_type": "display_data"
    }
   ],
   "source": [
    "ridge_lasso_graph_plotter(X_1_poly_d16_scaled_coloumn_added,Y_1,lasso_mode1_1,graph_label=\"Lasso 0.1\")\n",
    "ridge_lasso_graph_plotter(X_1_poly_d16_scaled_coloumn_added,Y_1,lasso_mode1_2,graph_label=\"Lasso 1\")\n",
    "ridge_lasso_graph_plotter(X_1_poly_d16_scaled_coloumn_added,Y_1,lasso_mode1_3,graph_label=\"Lasso 10\")"
   ]
  },
  {
   "cell_type": "markdown",
   "metadata": {},
   "source": [
    "## 2.Polynomial regression with train/validation/test\n",
    "### You need to split the data into training/validation/testing data set as 60% / 20% / 20%.\n",
    "### Please use np.random.seed(1) to have consistent data for evaluation\n"
   ]
  },
  {
   "cell_type": "markdown",
   "metadata": {},
   "source": [
    "### 2-1. Fit the data using linear (1st order) regression model (matrix form, gradient descent method)."
   ]
  },
  {
   "cell_type": "code",
   "execution_count": 245,
   "metadata": {},
   "outputs": [],
   "source": [
    "# def plot_learning_curves(model, X, y):\n",
    "#     X_train, X_val, y_train, y_val = train_test_split(X, y, test_size=0.2)\n",
    "#     train_errors, val_errors = [], []\n",
    "#     for m in range(1, len(X_train)):\n",
    "#         model.fit(X_train[:m], y_train[:m])\n",
    "#         y_train_predict = model.predict(X_train[:m])\n",
    "#         y_val_predict = model.predict(X_val)\n",
    "#         train_errors.append(mean_squared_error(y_train_predict, y_train[:m]))\n",
    "#         val_errors.append(mean_squared_error(y_val_predict, y_val))\n",
    "#     plt.plot(np.sqrt(train_errors), \"r-+\", linewidth=2, label=\"train\")\n",
    "#     plt.plot(np.sqrt(val_errors), \"b-\", linewidth=3, label=\"val\")\n",
    "    \n",
    "# lin_reg = LinearRegression()\n",
    "# plot_learning_curves(lin_reg, X, y)\n",
    "    \n",
    "# from sklearn.pipeline import Pipeline\n",
    "\n",
    "# polynomial_regression = Pipeline([\n",
    "#         (\"poly_features\", PolynomialFeatures(degree=10, include_bias=False)),\n",
    "#         (\"lin_reg\", LinearRegression()),\n",
    "#     ])\n",
    "\n",
    "# plot_learning_curves(polynomial_regression, X, y)"
   ]
  },
  {
   "cell_type": "code",
   "execution_count": 246,
   "metadata": {},
   "outputs": [
    {
     "name": "stderr",
     "output_type": "stream",
     "text": [
      "/anaconda2/envs/carnd-term1/lib/python3.5/site-packages/sklearn/utils/validation.py:475: DataConversionWarning: Data with input dtype int64 was converted to float64 by StandardScaler.\n",
      "  warnings.warn(msg, DataConversionWarning)\n"
     ]
    }
   ],
   "source": [
    "data2 = pd.read_csv(\"ex2data2.csv\")\n",
    "X_2 = data2.as_matrix(columns=data2.columns[0:1])\n",
    "Y_2 = data2.as_matrix(columns=data2.columns[1:])\n",
    "X_2_poly_d1_scaled = scaler.fit_transform(X_2)\n",
    "X_2_coloumn_added = np.c_[np.ones((data2.shape[0], 1)), X_2]\n",
    "X_2_poly_d1_scaled_coloumn_added = np.c_[np.ones((data2.shape[0], 1)), X_2_poly_d1_scaled]\n"
   ]
  },
  {
   "cell_type": "code",
   "execution_count": 247,
   "metadata": {},
   "outputs": [
    {
     "data": {
      "text/plain": [
       "(array([2.266e+03, 2.393e+03, 6.040e+02, 1.050e+02, 2.100e+01, 1.200e+01,\n",
       "        1.000e+00, 0.000e+00, 1.000e+00, 1.000e+00]),\n",
       " array([  430.,  1741.,  3052.,  4363.,  5674.,  6985.,  8296.,  9607.,\n",
       "        10918., 12229., 13540.]),\n",
       " <a list of 10 Patch objects>)"
      ]
     },
     "execution_count": 247,
     "metadata": {},
     "output_type": "execute_result"
    },
    {
     "data": {
      "image/png": "[encoded data removed]",
      "text/plain": [
       "<matplotlib.figure.Figure at 0x11bd9a550>"
      ]
     },
     "metadata": {},
     "output_type": "display_data"
    }
   ],
   "source": [
    "plt.hist(X_2)"
   ]
  },
  {
   "cell_type": "code",
   "execution_count": 248,
   "metadata": {},
   "outputs": [
    {
     "name": "stdout",
     "output_type": "stream",
     "text": [
      "(5404, 2)\n",
      "(4323, 2)\n",
      "(3242, 2)\n"
     ]
    }
   ],
   "source": [
    "X_2_train_val, X_2_test, y_2_train_val, y_2_test = train_test_split(X_2_poly_d1_scaled_coloumn_added , Y_2, test_size=0.2,random_state=1)\n",
    "X_2_train, X_2_val, y_2_train, y_2_val = train_test_split(X_2_train_val, y_2_train_val, test_size=0.25,random_state=1)\n",
    "print (X_2_coloumn_added.shape)\n",
    "print (X_2_train_val.shape)\n",
    "print (X_2_train.shape)"
   ]
  },
  {
   "cell_type": "code",
   "execution_count": 249,
   "metadata": {},
   "outputs": [],
   "source": [
    "def Mean_Square_Error_calculator(data,weights,actual_label):\n",
    "    predict_y = data.dot(weights)\n",
    "    rms = mean_squared_error(actual_label, predict_y)\n",
    "    return rms"
   ]
  },
  {
   "cell_type": "code",
   "execution_count": 250,
   "metadata": {},
   "outputs": [],
   "source": [
    "def train_val_best_model(X_train, X_val, y_train, y_val,degree):\n",
    "    epochs = [1000,10000,100000]\n",
    "    learning_rate = [.001,.01,.1]\n",
    "    train_errors, val_errors = [], []\n",
    "    counter = 1\n",
    "    combination = {}\n",
    "    for epoch in epochs:\n",
    "        for rate in learning_rate:\n",
    "            weights = weight_optimizer(X_train,degree,y_train,learn_rate = rate,epochs = epoch,regularisation_alpha=0)\n",
    "            rmse_train = rmse_calculator(X_train,weights,y_train)\n",
    "            rmse_val = rmse_calculator(X_val,weights,y_val)\n",
    "            train_errors.append(rmse_train)\n",
    "            val_errors.append(rmse_val)\n",
    "            combination[counter] = (epoch,rate)\n",
    "            counter += 1\n",
    "    plt.plot(train_errors, \"r-+\", linewidth=2, label=\"train\")\n",
    "    plt.plot(val_errors, \"b-\", linewidth=3, label=\"val\")\n",
    "    legend = plt.legend(loc='upper right', shadow=True)\n",
    "    ## Find the lowest validation error\n",
    "    counter_val_error = list(enumerate(val_errors, 1))\n",
    "    counter_val_error_sorted = sorted(counter_val_error, key=lambda x:x[1])\n",
    "    best_model = combination[(counter_val_error_sorted[0][0])]\n",
    "    print(counter_val_error)\n",
    "    print(\"Epoch and Learning Rate Combination\",counter_val_error_sorted[0][0],best_model)\n",
    "    return best_model\n",
    "      "
   ]
  },
  {
   "cell_type": "code",
   "execution_count": 251,
   "metadata": {},
   "outputs": [
    {
     "name": "stdout",
     "output_type": "stream",
     "text": [
      "[(1, 257488.04094283126), (2, 249622.42769314421), (3, 249622.4277054363), (4, 249622.4276900577), (5, 249622.42770543642), (6, 249622.4277054363), (7, 249622.42770543747), (8, 249622.42770543642), (9, 249622.4277054363)]\n",
      "Epoch and Learning Rate Combination 4 (10000, 0.001)\n"
     ]
    },
    {
     "data": {
      "image/png": "[encoded data removed]",
      "text/plain": [
       "<matplotlib.figure.Figure at 0x11c89a898>"
      ]
     },
     "metadata": {},
     "output_type": "display_data"
    }
   ],
   "source": [
    "best_model_2 = train_val_best_model(X_2_train, X_2_val, y_2_train, y_2_val,1)\n",
    "weights_best_model_2 = weight_optimizer(X_2_train,1,y_2_train,learn_rate = best_model_2 [1],epochs = best_model_2 [0],regularisation_alpha=0)"
   ]
  },
  {
   "cell_type": "markdown",
   "metadata": {},
   "source": [
    "#### RMSE - Train,test Deg -1"
   ]
  },
  {
   "cell_type": "code",
   "execution_count": 252,
   "metadata": {},
   "outputs": [
    {
     "name": "stdout",
     "output_type": "stream",
     "text": [
      "rmse_train 275355.0256953383\n",
      "rmse_test 264311.94247884274\n"
     ]
    }
   ],
   "source": [
    "rmse_train_2 = rmse_calculator(X_2_train,weights_best_model_2,y_2_train)\n",
    "rmse_test_2 = rmse_calculator(X_2_test,weights_best_model_2,y_2_test)\n",
    "print(\"rmse_train\",rmse_train_2)\n",
    "print(\"rmse_test\",rmse_test_2)"
   ]
  },
  {
   "cell_type": "markdown",
   "metadata": {},
   "source": [
    "#### Graph Train Deg-1"
   ]
  },
  {
   "cell_type": "code",
   "execution_count": 253,
   "metadata": {},
   "outputs": [
    {
     "name": "stderr",
     "output_type": "stream",
     "text": [
      "No handles with labels found to put in legend.\n"
     ]
    },
    {
     "data": {
      "image/png": "[encoded data removed]",
      "text/plain": [
       "<matplotlib.figure.Figure at 0x11c17ccc0>"
      ]
     },
     "metadata": {},
     "output_type": "display_data"
    }
   ],
   "source": [
    "graph_plotter(X_2_train,weights_best_model_2,y_2_train,graph_label=None)"
   ]
  },
  {
   "cell_type": "markdown",
   "metadata": {},
   "source": [
    "## 2-2. Fit the data using 2nd order polynomial regression model (matrix form, gradient descent method)."
   ]
  },
  {
   "cell_type": "code",
   "execution_count": 254,
   "metadata": {},
   "outputs": [],
   "source": [
    "X_2_poly_d2_scaled_coloumn_added = polynomial_adder(X_2,2)"
   ]
  },
  {
   "cell_type": "code",
   "execution_count": 255,
   "metadata": {},
   "outputs": [],
   "source": [
    "X_22_train_val, X_22_test, y_22_train_val, y_22_test = train_test_split(X_2_poly_d2_scaled_coloumn_added, Y_2, test_size=0.2,random_state=1)\n",
    "X_22_train, X_22_val, y_22_train, y_22_val = train_test_split(X_22_train_val, y_22_train_val, test_size=0.25,random_state=1)"
   ]
  },
  {
   "cell_type": "code",
   "execution_count": 256,
   "metadata": {},
   "outputs": [
    {
     "name": "stdout",
     "output_type": "stream",
     "text": [
      "[(1, 254082.7389780978), (2, 244029.3535573043), (3, 244071.59635894437), (4, 244029.2686895008), (5, 244071.5963589144), (6, 244071.59635907054), (7, 244071.59635891087), (8, 244071.59635907042), (9, 244071.59635907054)]\n",
      "Epoch and Learning Rate Combination 4 (10000, 0.001)\n"
     ]
    },
    {
     "data": {
      "image/png": "[encoded data removed]",
      "text/plain": [
       "<matplotlib.figure.Figure at 0x11cb47ba8>"
      ]
     },
     "metadata": {},
     "output_type": "display_data"
    }
   ],
   "source": [
    "best_model_22 = train_val_best_model(X_22_train, X_22_val, y_22_train, y_22_val,2)\n",
    "weights_best_model_22 = weight_optimizer(X_22_train,2,y_22_train,learn_rate = best_model_22 [1],epochs = best_model_22 [0],regularisation_alpha=0)"
   ]
  },
  {
   "cell_type": "markdown",
   "metadata": {},
   "source": [
    "#### RMSE - Train,test Deg -2"
   ]
  },
  {
   "cell_type": "code",
   "execution_count": 257,
   "metadata": {},
   "outputs": [
    {
     "name": "stdout",
     "output_type": "stream",
     "text": [
      "rmse_train 267719.7117411374\n",
      "rmse_test 254533.92847752557\n"
     ]
    }
   ],
   "source": [
    "rmse_train_22 = rmse_calculator(X_22_train,weights_best_model_22,y_22_train)\n",
    "rmse_test_22 = rmse_calculator(X_22_test,weights_best_model_22,y_22_test)\n",
    "print(\"rmse_train\",rmse_train_22)\n",
    "print(\"rmse_test\",rmse_test_22)"
   ]
  },
  {
   "cell_type": "markdown",
   "metadata": {},
   "source": [
    "#### Graph Train Deg-2"
   ]
  },
  {
   "cell_type": "code",
   "execution_count": 258,
   "metadata": {},
   "outputs": [
    {
     "name": "stderr",
     "output_type": "stream",
     "text": [
      "No handles with labels found to put in legend.\n"
     ]
    },
    {
     "data": {
      "image/png": "[encoded data removed]",
      "text/plain": [
       "<matplotlib.figure.Figure at 0x11c17c630>"
      ]
     },
     "metadata": {},
     "output_type": "display_data"
    }
   ],
   "source": [
    "graph_plotter(X_22_train,weights_best_model_22,y_22_train,graph_label=None)"
   ]
  },
  {
   "cell_type": "markdown",
   "metadata": {},
   "source": [
    "## 2-3. Fit the data using 4th order polynomial regression model (matrix form, gradient descent method)."
   ]
  },
  {
   "cell_type": "code",
   "execution_count": 259,
   "metadata": {},
   "outputs": [],
   "source": [
    "X_2_poly_d4_scaled_coloumn_added = polynomial_adder(X_2,4)"
   ]
  },
  {
   "cell_type": "code",
   "execution_count": 260,
   "metadata": {},
   "outputs": [],
   "source": [
    "X_24_train_val, X_24_test, y_24_train_val, y_24_test = train_test_split(X_2_poly_d4_scaled_coloumn_added, Y_2, test_size=0.2,random_state=1)\n",
    "X_24_train, X_24_val, y_24_train, y_24_val = train_test_split(X_24_train_val, y_24_train_val, test_size=0.25,random_state=1)"
   ]
  },
  {
   "cell_type": "code",
   "execution_count": 261,
   "metadata": {},
   "outputs": [
    {
     "name": "stdout",
     "output_type": "stream",
     "text": [
      "[(1, 254205.33656847285), (2, 243001.66458493247), (3, 243544.8531816557), (4, 243001.8240493743), (5, 243544.6655575537), (6, 243854.6229242246), (7, 243544.64619277278), (8, 243854.612717776), (9, 244304.69676459354)]\n",
      "Epoch and Learning Rate Combination 2 (1000, 0.01)\n"
     ]
    },
    {
     "data": {
      "image/png": "[encoded data removed]",
      "text/plain": [
       "<matplotlib.figure.Figure at 0x10caf6320>"
      ]
     },
     "metadata": {},
     "output_type": "display_data"
    }
   ],
   "source": [
    "best_model_24 = train_val_best_model(X_24_train, X_24_val, y_24_train, y_24_val,4)\n",
    "weights_best_model_24 = weight_optimizer(X_24_train,4,y_24_train,learn_rate = best_model_24 [1],epochs = best_model_24 [0],regularisation_alpha=0)"
   ]
  },
  {
   "cell_type": "markdown",
   "metadata": {},
   "source": [
    "#### RMSE - Train,test Deg -4"
   ]
  },
  {
   "cell_type": "code",
   "execution_count": 262,
   "metadata": {},
   "outputs": [
    {
     "name": "stdout",
     "output_type": "stream",
     "text": [
      "rmse_train 260919.45768952757\n",
      "rmse_test 251751.42950903866\n"
     ]
    }
   ],
   "source": [
    "rmse_train_24 = rmse_calculator(X_24_train,weights_best_model_24,y_24_train)\n",
    "rmse_test_24 = rmse_calculator(X_24_test,weights_best_model_24,y_24_test)\n",
    "print(\"rmse_train\",rmse_train_24)\n",
    "print(\"rmse_test\",rmse_test_24)"
   ]
  },
  {
   "cell_type": "code",
   "execution_count": 263,
   "metadata": {},
   "outputs": [
    {
     "name": "stderr",
     "output_type": "stream",
     "text": [
      "No handles with labels found to put in legend.\n"
     ]
    },
    {
     "data": {
      "image/png": "[encoded data removed]",
      "text/plain": [
       "<matplotlib.figure.Figure at 0x112571cf8>"
      ]
     },
     "metadata": {},
     "output_type": "display_data"
    }
   ],
   "source": [
    "graph_plotter(X_24_train,weights_best_model_24,y_24_train,graph_label=None)"
   ]
  },
  {
   "cell_type": "markdown",
   "metadata": {},
   "source": [
    "## 2-4. Fit the data using 16th order polynomial regression model (matrix form, gradient descent method)."
   ]
  },
  {
   "cell_type": "code",
   "execution_count": 357,
   "metadata": {},
   "outputs": [],
   "source": [
    "\n",
    "def weight_optimizer_stoc_batch(data,degree,Label,learn_rate = .01,epochs = 100000,regularisation_alpha=0):\n",
    "    theta_1 = np.random.randn(degree+1,1)\n",
    "    data_size = data.shape[0]\n",
    "    print (data_size)\n",
    "    batch_size = data_size // 16\n",
    "    print (batch_size)\n",
    "    for epoch in range(epochs):\n",
    "        for batch in range(batch_size):\n",
    "            X_batch, y_batch = resample(data, Label, n_samples=16, random_state=0,replace=False)\n",
    "            gradients = (2/X_batch.shape[0])* (X_batch.T.dot(X_batch.dot(theta_1)- y_batch)+ \\\n",
    "                                               regularisation_alpha*theta_1)\n",
    "            theta_1 = theta_1 - learn_rate * gradients\n",
    "    return theta_1"
   ]
  },
  {
   "cell_type": "code",
   "execution_count": 370,
   "metadata": {},
   "outputs": [],
   "source": [
    "def train_val_best_model_stoc_batch(X_train, X_val, y_train, y_val,degree):\n",
    "    epochs = [10000]\n",
    "    learning_rate = [.001,.01,.1]\n",
    "    train_errors, val_errors = [], []\n",
    "    counter = 1\n",
    "    combination = {}\n",
    "    for epoch in epochs:\n",
    "        for rate in learning_rate:\n",
    "            weights = weight_optimizer_stoc_batch(X_train,degree,y_train,learn_rate = rate,epochs = epoch,regularisation_alpha=0)\n",
    "            rmse_train = rmse_calculator(X_train,weights,y_train)\n",
    "            rmse_val = rmse_calculator(X_val,weights,y_val)\n",
    "            train_errors.append(rmse_train)\n",
    "            val_errors.append(rmse_val)\n",
    "            combination[counter] = (epoch,rate)\n",
    "            counter += 1\n",
    "    plt.plot(train_errors, \"r-+\", linewidth=2, label=\"train\")\n",
    "    plt.plot(val_errors, \"b-\", linewidth=3, label=\"val\")\n",
    "    legend = plt.legend(loc='upper right', shadow=True)\n",
    "    ## Find the lowest validation error\n",
    "    counter_val_error = list(enumerate(val_errors, 1))\n",
    "    counter_val_error_sorted = sorted(counter_val_error, key=lambda x:x[1])\n",
    "    best_model = combination[(counter_val_error_sorted[0][0])]\n",
    "    print(counter_val_error)\n",
    "    print(\"Epoch and Learning Rate Combination\",counter_val_error_sorted[0][0],best_model)\n",
    "    return best_model"
   ]
  },
  {
   "cell_type": "code",
   "execution_count": 371,
   "metadata": {},
   "outputs": [],
   "source": [
    "X_2_poly_d16_scaled_coloumn_added = polynomial_adder(X_2,16)"
   ]
  },
  {
   "cell_type": "code",
   "execution_count": 372,
   "metadata": {},
   "outputs": [],
   "source": [
    "X_216_train_val, X_216_test, y_216_train_val, y_216_test = train_test_split(X_2_poly_d16_scaled_coloumn_added, Y_2, test_size=0.2,random_state=1)\n",
    "X_216_train, X_216_val, y_216_train, y_216_val = train_test_split(X_216_train_val, y_216_train_val, test_size=0.25,random_state=1)"
   ]
  },
  {
   "cell_type": "markdown",
   "metadata": {},
   "source": [
    "#### Implemented Mini-batch Gradient Descent as I was getting error with full batch "
   ]
  },
  {
   "cell_type": "code",
   "execution_count": 373,
   "metadata": {},
   "outputs": [
    {
     "name": "stdout",
     "output_type": "stream",
     "text": [
      "3242\n",
      "202\n",
      "3242\n",
      "202\n",
      "3242\n",
      "202\n",
      "[(1, 271431.84548393165), (2, 621086.9719878328), (3, 1715299.1157242693)]\n",
      "Epoch and Learning Rate Combination 1 (10000, 0.001)\n",
      "3242\n",
      "202\n"
     ]
    },
    {
     "data": {
      "image/png": "[encoded data removed]",
      "text/plain": [
       "<matplotlib.figure.Figure at 0x11bd9e630>"
      ]
     },
     "metadata": {},
     "output_type": "display_data"
    }
   ],
   "source": [
    "best_model_216 = train_val_best_model_stoc_batch(X_216_train, X_216_val, y_216_train, y_216_val,16)\n",
    "weights_best_model_216 = weight_optimizer_stoc_batch(X_216_train,16,y_216_train,learn_rate = best_model_216 [1],epochs = best_model_216 [0],regularisation_alpha=0)"
   ]
  },
  {
   "cell_type": "code",
   "execution_count": 374,
   "metadata": {},
   "outputs": [
    {
     "name": "stdout",
     "output_type": "stream",
     "text": [
      "rmse_train 656156.7479793766\n",
      "rmse_test 274794.112255375\n"
     ]
    }
   ],
   "source": [
    "rmse_train_216 = rmse_calculator(X_216_train,weights_best_model_216,y_216_train)\n",
    "rmse_test_216 = rmse_calculator(X_216_test,weights_best_model_216,y_216_test)\n",
    "print(\"rmse_train\",rmse_train_216)\n",
    "print(\"rmse_test\",rmse_test_216)"
   ]
  },
  {
   "cell_type": "code",
   "execution_count": 375,
   "metadata": {},
   "outputs": [
    {
     "name": "stderr",
     "output_type": "stream",
     "text": [
      "WARNING:matplotlib.legend:No handles with labels found to put in legend.\n"
     ]
    },
    {
     "data": {
      "image/png": "[encoded data removed]",
      "text/plain": [
       "<matplotlib.figure.Figure at 0x11b5f7898>"
      ]
     },
     "metadata": {},
     "output_type": "display_data"
    }
   ],
   "source": [
    "graph_plotter(X_216_train,weights_best_model_216,y_216_train,graph_label=None)"
   ]
  },
  {
   "cell_type": "markdown",
   "metadata": {},
   "source": [
    "## 2-5. Fit the data using 16th order polynomial regression model with ridge (L2 penalty) regularization."
   ]
  },
  {
   "cell_type": "code",
   "execution_count": 379,
   "metadata": {},
   "outputs": [],
   "source": [
    "def train_val_best_model_ridge_stoc_batch(X_train, X_val, y_train, y_val,degree):\n",
    "    epochs = [10000]\n",
    "    learning_rate = [.01]\n",
    "    regularisation_alpa = [.1,1,10]\n",
    "    train_errors, val_errors = [], []\n",
    "    counter = 1\n",
    "    combination = {}\n",
    "    for epoch in epochs:\n",
    "        for rate in learning_rate:\n",
    "            for alpha in regularisation_alpa:\n",
    "                weights = weight_optimizer_stoc_batch(X_train,degree,y_train,learn_rate = rate,epochs = epoch, \\\n",
    "                                           regularisation_alpha=alpha)\n",
    "                rmse_train = rmse_calculator(X_train,weights,y_train)\n",
    "                rmse_val = rmse_calculator(X_val,weights,y_val)\n",
    "                train_errors.append(rmse_train)\n",
    "                val_errors.append(rmse_val)\n",
    "                combination[counter] = (epoch,rate,alpha)\n",
    "                counter += 1\n",
    "    plt.plot(train_errors, \"r-+\", linewidth=2, label=\"train\")\n",
    "    plt.plot(val_errors, \"b-\", linewidth=3, label=\"val\")\n",
    "    legend = plt.legend(loc='upper right', shadow=True)\n",
    "    ## Find the lowest validation error\n",
    "    counter_val_error = list(enumerate(val_errors, 1))\n",
    "    counter_val_error_sorted = sorted(counter_val_error, key=lambda x:x[1])\n",
    "    best_model = combination[(counter_val_error_sorted[0][0])]\n",
    "    print(best_model)\n",
    "    return best_model"
   ]
  },
  {
   "cell_type": "markdown",
   "metadata": {},
   "source": [
    "#### Implemented Mini-batch Gradient Descent as I was getting error with full batch "
   ]
  },
  {
   "cell_type": "code",
   "execution_count": 380,
   "metadata": {},
   "outputs": [
    {
     "name": "stdout",
     "output_type": "stream",
     "text": [
      "3242\n",
      "202\n",
      "3242\n",
      "202\n",
      "3242\n",
      "202\n",
      "(10000, 0.01, 0.1)\n",
      "3242\n",
      "202\n"
     ]
    },
    {
     "data": {
      "image/png": "[encoded data removed]",
      "text/plain": [
       "<matplotlib.figure.Figure at 0x11b4d8c88>"
      ]
     },
     "metadata": {},
     "output_type": "display_data"
    }
   ],
   "source": [
    "best_model_216_ridge = train_val_best_model_ridge_stoc_batch(X_216_train, X_216_val, y_216_train, y_216_val,16)\n",
    "weights_best_model_216_ridge = weight_optimizer_stoc_batch(X_216_train,16,y_216_train,learn_rate = best_model_216_ridge [1],epochs = best_model_216_ridge [0],regularisation_alpha=best_model_216_ridge [2])"
   ]
  },
  {
   "cell_type": "code",
   "execution_count": 383,
   "metadata": {},
   "outputs": [
    {
     "name": "stdout",
     "output_type": "stream",
     "text": [
      "rmse_train 415963.5773494703\n",
      "rmse_test 321415.22175827075\n"
     ]
    }
   ],
   "source": [
    "rmse_train_216_ridge = rmse_calculator(X_216_train,weights_best_model_216_ridge,y_216_train)\n",
    "rmse_test_216_ridge = rmse_calculator(X_216_test,weights_best_model_216_ridge,y_216_test)\n",
    "print(\"rmse_train\",rmse_train_216_ridge)\n",
    "print(\"rmse_test\",rmse_test_216_ridge)"
   ]
  },
  {
   "cell_type": "code",
   "execution_count": 385,
   "metadata": {},
   "outputs": [
    {
     "name": "stderr",
     "output_type": "stream",
     "text": [
      "WARNING:matplotlib.legend:No handles with labels found to put in legend.\n"
     ]
    },
    {
     "data": {
      "image/png": "[encoded data removed]",
      "text/plain": [
       "<matplotlib.figure.Figure at 0x10c22db70>"
      ]
     },
     "metadata": {},
     "output_type": "display_data"
    }
   ],
   "source": [
    "graph_plotter(X_216_train,weights_best_model_216_ridge,y_216_train,graph_label=None)"
   ]
  },
  {
   "cell_type": "markdown",
   "metadata": {},
   "source": [
    "## 2-6. Fit the data using 16th order polynomial regression model with scikit-learn Ridge model."
   ]
  },
  {
   "cell_type": "code",
   "execution_count": 268,
   "metadata": {},
   "outputs": [],
   "source": [
    "def train_val_best_model_scikit_ridge(X_train, X_val, y_train, y_val):\n",
    "    regularisation_alpa = [0.1,1,10] \n",
    "    train_errors, val_errors = [], []\n",
    "    counter = 1\n",
    "    combination = {}\n",
    "    for alpha in regularisation_alpa:\n",
    "        ridge_model = ridge_optimized_weight(X_train,y_train,alpha)\n",
    "        rmse_train = ridge_lasso_rmse(X_train,y_train,ridge_model)\n",
    "        rmse_val = ridge_lasso_rmse(X_val,y_val,ridge_model)\n",
    "        train_errors.append(rmse_train)\n",
    "        val_errors.append(rmse_val)\n",
    "        combination[counter] = (alpha,ridge_model)\n",
    "        counter += 1\n",
    "    plt.plot(train_errors, \"r-+\", linewidth=2, label=\"train\")\n",
    "    plt.plot(val_errors, \"b-\", linewidth=3, label=\"val\")\n",
    "    legend = plt.legend(loc='upper right', shadow=True)\n",
    "    ## Find the lowest validation error\n",
    "    counter_val_error = list(enumerate(val_errors, 1))\n",
    "    counter_val_error_sorted = sorted(counter_val_error, key=lambda x:x[1])\n",
    "    best_model = combination[(counter_val_error_sorted[0][0])]\n",
    "    print(\"alpha\",best_model[0])\n",
    "    return best_model[1]"
   ]
  },
  {
   "cell_type": "code",
   "execution_count": 269,
   "metadata": {},
   "outputs": [
    {
     "name": "stdout",
     "output_type": "stream",
     "text": [
      "Model-Intercept [547704.506878]\n",
      "Model-Co-ef [[  47149.02303585]\n",
      " [  97806.15914125]\n",
      " [ 494262.89050946]\n",
      " [-227237.60901432]\n",
      " [-422132.21976636]\n",
      " [-199882.87630559]\n",
      " [  64994.59063826]\n",
      " [ 230729.38940244]\n",
      " [ 287757.59283936]\n",
      " [ 265072.70818138]\n",
      " [ 193352.45983527]\n",
      " [  95486.86500499]\n",
      " [ -13592.57195474]\n",
      " [-124860.40617845]\n",
      " [-233169.41195629]\n",
      " [-335762.59926058]]\n",
      "Model-Intercept [547718.99272249]\n",
      "Model-Co-ef [[ -16344.34115262]\n",
      " [ 320155.60757134]\n",
      " [ 172666.68142153]\n",
      " [-173831.65937522]\n",
      " [-211992.23283438]\n",
      " [ -77256.72585303]\n",
      " [  64972.77614043]\n",
      " [ 152621.76687899]\n",
      " [ 180680.13409481]\n",
      " [ 162984.49861422]\n",
      " [ 115562.95467406]\n",
      " [  51361.29686543]\n",
      " [ -20522.80095625]\n",
      " [ -94191.55415056]\n",
      " [-166059.86068628]\n",
      " [-234099.56514392]]\n",
      "Model-Intercept [547547.03238267]\n",
      "Model-Co-ef [[  36166.43778387]\n",
      " [ 269023.40114305]\n",
      " [  77631.40011951]\n",
      " [ -81988.69738317]\n",
      " [ -71553.92749472]\n",
      " [  -5369.60495591]\n",
      " [  48807.03808062]\n",
      " [  74843.22643076]\n",
      " [  76275.4587262 ]\n",
      " [  60869.18534266]\n",
      " [  35528.32733298]\n",
      " [   5236.22544228]\n",
      " [ -26747.06366153]\n",
      " [ -58427.80688802]\n",
      " [ -88665.61666554]\n",
      " [-116867.58253742]]\n",
      "alpha 1\n"
     ]
    },
    {
     "data": {
      "image/png": "[encoded data removed]",
      "text/plain": [
       "<matplotlib.figure.Figure at 0x11b7e2160>"
      ]
     },
     "metadata": {},
     "output_type": "display_data"
    }
   ],
   "source": [
    "best_model_216_scikit_ridge = train_val_best_model_scikit_ridge(X_216_train, X_216_val, y_216_train, y_216_val)\n"
   ]
  },
  {
   "cell_type": "code",
   "execution_count": 270,
   "metadata": {},
   "outputs": [
    {
     "name": "stdout",
     "output_type": "stream",
     "text": [
      "rmse_train 250700.05033093243\n",
      "rmse_test 251065.74316573926\n"
     ]
    }
   ],
   "source": [
    "rmse_train_216_scikit_ridge = ridge_lasso_rmse(X_216_train, y_216_train,best_model_216_scikit_ridge)\n",
    "rmse_test_216_scikit_ridge = ridge_lasso_rmse(X_216_test,y_216_test,best_model_216_scikit_ridge)\n",
    "print(\"rmse_train\",rmse_train_216_scikit_ridge)\n",
    "print(\"rmse_test\",rmse_test_216_scikit_ridge)"
   ]
  },
  {
   "cell_type": "code",
   "execution_count": 271,
   "metadata": {},
   "outputs": [
    {
     "data": {
      "image/png": "[encoded data removed]",
      "text/plain": [
       "<matplotlib.figure.Figure at 0x11cb65f60>"
      ]
     },
     "metadata": {},
     "output_type": "display_data"
    }
   ],
   "source": [
    "ridge_lasso_graph_plotter(X_216_train,y_216_train,best_model_216_scikit_ridge,graph_label=\"λ = 1\")"
   ]
  },
  {
   "cell_type": "markdown",
   "metadata": {},
   "source": [
    "## 2-7. Fit the data using 16th order polynomial regression model with scikit-learn Lasso model."
   ]
  },
  {
   "cell_type": "code",
   "execution_count": 272,
   "metadata": {},
   "outputs": [],
   "source": [
    "def train_val_best_model_scikit_lasso(X_train, X_val, y_train, y_val):\n",
    "    regularisation_alpa = [0.1,1,10] \n",
    "    train_errors, val_errors = [], []\n",
    "    counter = 1\n",
    "    combination = {}\n",
    "    for alpha in regularisation_alpa:\n",
    "        lasso_model = lasso_optimized_weight(X_train,y_train,alpha)\n",
    "        rmse_train = ridge_lasso_rmse(X_train,y_train,lasso_model)\n",
    "        rmse_val = ridge_lasso_rmse(X_val,y_val,lasso_model)\n",
    "        train_errors.append(rmse_train)\n",
    "        val_errors.append(rmse_val)\n",
    "        combination[counter] = (alpha,lasso_model)\n",
    "        counter += 1\n",
    "    plt.plot(train_errors, \"r-+\", linewidth=2, label=\"train\")\n",
    "    plt.plot(val_errors, \"b-\", linewidth=3, label=\"val\")\n",
    "    legend = plt.legend(loc='upper right', shadow=True)\n",
    "    ## Find the lowest validation error\n",
    "    counter_val_error = list(enumerate(val_errors, 1))\n",
    "    counter_val_error_sorted = sorted(counter_val_error, key=lambda x:x[1])\n",
    "    best_model = combination[(counter_val_error_sorted[0][0])]\n",
    "    print(\"alpha\",best_model[0])\n",
    "    return best_model[1]"
   ]
  },
  {
   "cell_type": "code",
   "execution_count": 273,
   "metadata": {},
   "outputs": [
    {
     "name": "stderr",
     "output_type": "stream",
     "text": [
      "/anaconda2/envs/carnd-term1/lib/python3.5/site-packages/sklearn/linear_model/coordinate_descent.py:491: ConvergenceWarning: Objective did not converge. You might want to increase the number of iterations. Fitting data with very small alpha may cause precision problems.\n",
      "  ConvergenceWarning)\n"
     ]
    },
    {
     "name": "stdout",
     "output_type": "stream",
     "text": [
      "Model-Intercept [547780.08000696]\n",
      "Model-Co-ef [-125318.97003623  666197.50707237 -261841.01303223 -187309.44448817\n",
      "   77160.31260774  155957.01757717  125786.49836694   69160.91493416\n",
      "   19708.08956119  -14840.20562329  -36093.17315681  -47445.45636661\n",
      "  -52259.47895543  -52993.40874272  -51325.09359054  -48343.58909978]\n",
      "Model-Intercept [547779.73592156]\n",
      "Model-Co-ef [-124992.36217718  665263.70260852 -260753.01353071 -187340.17063375\n",
      "   76345.133887    155967.41656718  125762.63818031   69164.76212111\n",
      "   19900.84319741  -14276.41829556  -36175.49317507  -47521.03245514\n",
      "  -52327.97275879  -53055.02152518  -51380.27127648  -48392.87104231]\n",
      "Model-Intercept [547776.26865725]\n",
      "Model-Co-ef [-121721.55990706  655932.64030426 -249919.8823818  -187602.71597435\n",
      "   68214.49580173  156107.22185177  125530.49711011   69166.91275706\n",
      "   21367.94806767   -8139.49732978  -37011.24562008  -48290.1479555\n",
      "  -53026.14960449  -53683.77064736  -51943.80255891  -48896.47767207]\n",
      "alpha 0.1\n"
     ]
    },
    {
     "data": {
      "image/png": "[encoded data removed]",
      "text/plain": [
       "<matplotlib.figure.Figure at 0x105cda080>"
      ]
     },
     "metadata": {},
     "output_type": "display_data"
    }
   ],
   "source": [
    "best_model_216_scikit_lasso = train_val_best_model_scikit_lasso(X_216_train, X_216_val, y_216_train, y_216_val)\n"
   ]
  },
  {
   "cell_type": "code",
   "execution_count": 274,
   "metadata": {},
   "outputs": [
    {
     "name": "stdout",
     "output_type": "stream",
     "text": [
      "rmse_train 251063.94309086326\n",
      "rmse_test 250161.4085909059\n"
     ]
    }
   ],
   "source": [
    "rmse_train_216_scikit_lasso = ridge_lasso_rmse(X_216_train, y_216_train,best_model_216_scikit_lasso)\n",
    "rmse_test_216_scikit_lasso = ridge_lasso_rmse(X_216_test,y_216_test,best_model_216_scikit_lasso)\n",
    "print(\"rmse_train\",rmse_train_216_scikit_lasso)\n",
    "print(\"rmse_test\",rmse_test_216_scikit_lasso)"
   ]
  },
  {
   "cell_type": "code",
   "execution_count": 275,
   "metadata": {},
   "outputs": [
    {
     "data": {
      "image/png": "[encoded data removed]",
      "text/plain": [
       "<matplotlib.figure.Figure at 0x11c364358>"
      ]
     },
     "metadata": {},
     "output_type": "display_data"
    }
   ],
   "source": [
    "ridge_lasso_graph_plotter(X_216_train,y_216_train,best_model_216_scikit_lasso,graph_label=\"λ = .1\")"
   ]
  },
  {
   "cell_type": "markdown",
   "metadata": {},
   "source": [
    "## 3-1. Fit the training data using regression model with ridge (L2 penalty) regularization with scikit-learn Ridge model."
   ]
  },
  {
   "cell_type": "code",
   "execution_count": 276,
   "metadata": {},
   "outputs": [],
   "source": [
    "data3 = pd.read_csv(\"ex2data3.csv\")\n",
    "del data3['Unnamed: 0']"
   ]
  },
  {
   "cell_type": "code",
   "execution_count": 277,
   "metadata": {},
   "outputs": [],
   "source": [
    "X_3 = data3.as_matrix(columns=data3.columns[0:8])\n",
    "Y_3 = data3.as_matrix(columns=data3.columns[8:])\n",
    "X_3_scaled = scaler.fit_transform(X_3)\n",
    "X_3_scaled_coloumn_added = np.c_[np.ones((data3.shape[0], 1)), X_3_scaled]"
   ]
  },
  {
   "cell_type": "code",
   "execution_count": 278,
   "metadata": {},
   "outputs": [],
   "source": [
    "X_3_train_val, X_3_test, y_3_train_val, y_3_test = train_test_split(X_3_scaled_coloumn_added, Y_3, test_size=0.2,random_state=1)\n",
    "X_3_train, X_3_val, y_3_train, y_3_val = train_test_split(X_3_train_val, y_3_train_val, test_size=0.25,random_state=1)"
   ]
  },
  {
   "cell_type": "code",
   "execution_count": 279,
   "metadata": {},
   "outputs": [
    {
     "name": "stdout",
     "output_type": "stream",
     "text": [
      "Model-Intercept [2.07192364]\n",
      "Model-Co-ef [[ 0.82501033]\n",
      " [ 0.12438917]\n",
      " [-0.23245061]\n",
      " [ 0.2778601 ]\n",
      " [-0.00178963]\n",
      " [-0.03738571]\n",
      " [-0.9098153 ]\n",
      " [-0.88498937]]\n",
      "Model-Intercept [2.07192619]\n",
      "Model-Co-ef [[ 0.82499755]\n",
      " [ 0.12448827]\n",
      " [-0.23231252]\n",
      " [ 0.27766071]\n",
      " [-0.0017563 ]\n",
      " [-0.03738623]\n",
      " [-0.90885179]\n",
      " [-0.88401781]]\n",
      "Model-Intercept [2.07195156]\n",
      "Model-Co-ef [[ 0.82484941]\n",
      " [ 0.12546401]\n",
      " [-0.23091504]\n",
      " [ 0.27566139]\n",
      " [-0.00142815]\n",
      " [-0.03739063]\n",
      " [-0.89934824]\n",
      " [-0.87443278]]\n",
      "alpha 0.1\n"
     ]
    },
    {
     "data": {
      "image/png": "[encoded data removed]",
      "text/plain": [
       "<matplotlib.figure.Figure at 0x11c2124a8>"
      ]
     },
     "metadata": {},
     "output_type": "display_data"
    }
   ],
   "source": [
    "best_model_3_scikit_ridge = train_val_best_model_scikit_ridge(X_3_train, X_3_val, y_3_train, y_3_val)\n"
   ]
  },
  {
   "cell_type": "code",
   "execution_count": 280,
   "metadata": {},
   "outputs": [
    {
     "name": "stdout",
     "output_type": "stream",
     "text": [
      "rmse_train 0.7274577804827311\n",
      "rmse_test 0.7276608037847032\n"
     ]
    }
   ],
   "source": [
    "rmse_train_3_scikit_ridge = ridge_lasso_rmse(X_3_train, y_3_train,best_model_3_scikit_ridge)\n",
    "rmse_test_3_scikit_ridge = ridge_lasso_rmse(X_3_test,y_3_test,best_model_3_scikit_ridge)\n",
    "print(\"rmse_train\",rmse_train_3_scikit_ridge)\n",
    "print(\"rmse_test\",rmse_test_3_scikit_ridge)"
   ]
  },
  {
   "cell_type": "markdown",
   "metadata": {},
   "source": [
    "## 3-2. Fit the training data using regression model with lasso (L1 penalty) regularization with scikit-learn Lasso model."
   ]
  },
  {
   "cell_type": "code",
   "execution_count": 281,
   "metadata": {},
   "outputs": [
    {
     "name": "stdout",
     "output_type": "stream",
     "text": [
      "Model-Intercept [2.07432847]\n",
      "Model-Co-ef [ 0.71386457  0.11001596 -0.          0.         -0.         -0.\n",
      " -0.00645422 -0.        ]\n",
      "Model-Intercept [2.07444727]\n",
      "Model-Co-ef [ 0.  0.  0. -0. -0. -0. -0. -0.]\n",
      "Model-Intercept [2.07444727]\n",
      "Model-Co-ef [ 0.  0.  0. -0. -0. -0. -0. -0.]\n",
      "alpha 0.1\n"
     ]
    },
    {
     "data": {
      "image/png": "[encoded data removed]",
      "text/plain": [
       "<matplotlib.figure.Figure at 0x11c20dda0>"
      ]
     },
     "metadata": {},
     "output_type": "display_data"
    }
   ],
   "source": [
    "best_model_3_scikit_lasso = train_val_best_model_scikit_lasso(X_3_train, X_3_val, y_3_train, y_3_val)\n"
   ]
  },
  {
   "cell_type": "code",
   "execution_count": 282,
   "metadata": {},
   "outputs": [
    {
     "name": "stdout",
     "output_type": "stream",
     "text": [
      "rmse_train 0.8239579515519808\n",
      "rmse_test 0.8147268457966831\n"
     ]
    }
   ],
   "source": [
    "rmse_train_3_scikit_lasso = ridge_lasso_rmse(X_3_train, y_3_train,best_model_3_scikit_lasso)\n",
    "rmse_test_3_scikit_lasso = ridge_lasso_rmse(X_3_test,y_3_test,best_model_3_scikit_lasso)\n",
    "print(\"rmse_train\",rmse_train_3_scikit_lasso)\n",
    "print(\"rmse_test\",rmse_test_3_scikit_lasso)"
   ]
  },
  {
   "cell_type": "markdown",
   "metadata": {},
   "source": [
    "## 3-3. Fit the training data using regression model with ridge (L2 penalty) regularization using TensorFlow."
   ]
  },
  {
   "cell_type": "code",
   "execution_count": 345,
   "metadata": {},
   "outputs": [
    {
     "name": "stdout",
     "output_type": "stream",
     "text": [
      "[(1, 0.712454827014997), (2, 0.7112967432688554), (3, 0.7112968182739148), (4, 0.7113039267849257), (5, 0.711304166648072), (6, 0.7113041664887844), (7, 0.7113825753435046), (8, 0.7113889004585454), (9, 0.7113888992949285)]\n",
      "Epoch ,Learning Rate and alpha Combination (10000, 0.01, 0.1)\n",
      "train_error 0.7274706274995454\n",
      "test_error 0.7275337175750082\n"
     ]
    },
    {
     "name": "stderr",
     "output_type": "stream",
     "text": [
      "Exception ignored in: <generator object get_controller at 0x11bd75f10>\n",
      "Traceback (most recent call last):\n",
      "  File \"/anaconda2/envs/carnd-term1/lib/python3.5/site-packages/tensorflow/python/framework/ops.py\", line 3523, in get_controller\n",
      "    % type(default))\n",
      "AssertionError: Nesting violated for default stack of <class 'tensorflow.python.framework.ops.Graph'> objects\n"
     ]
    },
    {
     "data": {
      "image/png": "[encoded data removed]",
      "text/plain": [
       "<matplotlib.figure.Figure at 0x11c89f358>"
      ]
     },
     "metadata": {},
     "output_type": "display_data"
    }
   ],
   "source": [
    "epochs_list = [10000]\n",
    "alpha_list = [.1,1,10]\n",
    "learning_rate_list = [.001,.01,.1]\n",
    "\n",
    "#n_epochs = 10000\n",
    "#learning_rate = 0.01\n",
    "#alpha = 0.1\n",
    "\n",
    "tf.reset_default_graph()\n",
    "\n",
    "X_3 = tf.placeholder(tf.float64)\n",
    "Y_3 = tf.placeholder(tf.float64)\n",
    "theta = tf.Variable(tf.random_uniform([data3.shape[1], 1], -1.0, 1.0, dtype=tf.float64, name=\"theta\"))\n",
    "learning_rate = tf.placeholder(dtype=tf.float64)\n",
    "alpha = tf.placeholder(dtype=tf.float64)\n",
    "train_errors = []\n",
    "val_errors = []\n",
    "counter = 1\n",
    "combination = {}\n",
    "\n",
    "\n",
    "y_pred_3 = tf.matmul(X_3, theta, name=\"predictions\")\n",
    "error = y_pred_3 - Y_3\n",
    "mse = tf.sqrt(tf.reduce_mean(tf.square(error), name=\"mse\"))\n",
    "gradients = 2/tf.shape(X_3)[0] * (tf.matmul(tf.transpose(X_3), error)+alpha*theta)\n",
    "training_op = tf.assign(theta, theta - learning_rate * gradients)\n",
    "\n",
    "init = tf.global_variables_initializer()\n",
    "\n",
    "with tf.Session() as sess:\n",
    "    sess.run(init)\n",
    "    for n_epochs in epochs_list:\n",
    "        for alpha_value in alpha_list:\n",
    "            for learning_rate_value in learning_rate_list:\n",
    "                    for epoch in range(n_epochs):\n",
    "                                sess.run(training_op,feed_dict={X_3: X_3_train, Y_3: y_3_train, \\\n",
    "                                                                learning_rate: learning_rate_value,alpha: alpha_value})\n",
    "                    train_errors.append(sess.run(mse,feed_dict={X_3: X_3_train, Y_3: y_3_train, \\\n",
    "                                                               learning_rate: learning_rate_value,alpha: alpha_value}))\n",
    "                    val_errors.append(sess.run(mse,feed_dict={X_3: X_3_val, Y_3: y_3_val, \\\n",
    "                                                             learning_rate: learning_rate_value,alpha: alpha_value}))\n",
    "                    combination[counter] = (n_epochs,learning_rate_value,alpha_value)\n",
    "                    counter += 1\n",
    "        ## Find the lowest validation error\n",
    "    plt.plot(train_errors, \"r-+\", linewidth=2, label=\"train\")\n",
    "    plt.plot(val_errors, \"b-\", linewidth=3, label=\"val\")\n",
    "    legend = plt.legend(loc='upper right', shadow=True)\n",
    "    counter_val_error = list(enumerate(val_errors, 1))\n",
    "    counter_val_error_sorted = sorted(counter_val_error, key=lambda x:x[1])\n",
    "    best_model = combination[(counter_val_error_sorted[0][0])]\n",
    "    print(counter_val_error)\n",
    "    print(\"Epoch ,Learning Rate and alpha Combination\",best_model)\n",
    "    ##print train,test error\n",
    "    print(\"train_error\",sess.run(mse,feed_dict={X_3: X_3_train, Y_3: y_3_train, \\\n",
    "                                                               learning_rate: best_model[1],alpha: best_model[2]}))\n",
    "    print(\"test_error\",sess.run(mse,feed_dict={X_3: X_3_test, Y_3: y_3_test, \\\n",
    "                                                           learning_rate: best_model[1],alpha: best_model[2]}))\n",
    "\n",
    "    \n",
    "\n",
    "    "
   ]
  },
  {
   "cell_type": "markdown",
   "metadata": {},
   "source": [
    "## 3-4. Fit the training data using regression model with lasso (L1 penalty) regularization using TensorFlow."
   ]
  }
 ],
 "metadata": {
  "kernelspec": {
   "display_name": "Python 3",
   "language": "python",
   "name": "python3"
  },
  "language_info": {
   "codemirror_mode": {
    "name": "ipython",
    "version": 3
   },
   "file_extension": ".py",
   "mimetype": "text/x-python",
   "name": "python",
   "nbconvert_exporter": "python",
   "pygments_lexer": "ipython3",
   "version": "3.5.2"
  },
  "widgets": {
   "state": {},
   "version": "1.1.2"
  }
 },
 "nbformat": 4,
 "nbformat_minor": 2
}
