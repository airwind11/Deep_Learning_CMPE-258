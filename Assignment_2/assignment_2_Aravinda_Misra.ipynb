{
 "cells": [
  {
   "cell_type": "code",
   "execution_count": 1,
   "metadata": {},
   "outputs": [],
   "source": [
    "import matplotlib\n",
    "import matplotlib.pyplot as plt\n",
    "import numpy as np\n",
    "import pandas as pd\n",
    "from sklearn import linear_model\n",
    "from sklearn.preprocessing import StandardScaler\n",
    "from sklearn.metrics import mean_squared_error\n",
    "from math import sqrt\n",
    "import tensorflow as tf\n",
    "from sklearn.preprocessing import PolynomialFeatures\n",
    "from sklearn.linear_model import Ridge\n",
    "from sklearn.linear_model import Lasso\n",
    "from sklearn.model_selection import train_test_split"
   ]
  },
  {
   "cell_type": "markdown",
   "metadata": {},
   "source": [
    "# 1-1. Fit the data using linear (1st order) regression model (matrix form, gradient descent method).\n",
    "### Plot the data with the fitted line. Print optimized weights. Print Root Mean Squared Error (RMSE)."
   ]
  },
  {
   "cell_type": "code",
   "execution_count": 2,
   "metadata": {},
   "outputs": [],
   "source": [
    "data1 = pd.read_csv(\"ex2data1.csv\")\n",
    "X_1 = data1.as_matrix(columns=data1.columns[0:1])\n",
    "Y_1 = data1.as_matrix(columns=data1.columns[1:])\n",
    "X_1_coloumn_added = np.c_[np.ones((data1.shape[0], 1)), X_1]"
   ]
  },
  {
   "cell_type": "code",
   "execution_count": 3,
   "metadata": {},
   "outputs": [],
   "source": [
    "def weight_optimizer(data,degree,Label,learn_rate = .01,epochs = 100000,regularisation_alpha=0):\n",
    "    theta_1 = np.random.randn(degree+1,1)\n",
    "    for epoch in range(epochs):\n",
    "        gradients = (2/data.shape[0])* (data.T.dot(data.dot(theta_1)- Label)+regularisation_alpha*theta_1)\n",
    "        theta_1 = theta_1 - learn_rate * gradients\n",
    "    return theta_1"
   ]
  },
  {
   "cell_type": "code",
   "execution_count": 4,
   "metadata": {},
   "outputs": [],
   "source": [
    "def rmse_calculator(data,weights,actual_label):\n",
    "    predict_y = data.dot(weights)\n",
    "    rms = sqrt(mean_squared_error(actual_label, predict_y))\n",
    "    return rms"
   ]
  },
  {
   "cell_type": "code",
   "execution_count": 5,
   "metadata": {},
   "outputs": [],
   "source": [
    "# Please input sorted data\n",
    "def graph_plotter(X_1_poly_dn_scaled_coloumn_added,weights,actual_label,graph_label=None):\n",
    "    X_1_poly_dn_scaled_coloumn_added_sorted = X_1_poly_dn_scaled_coloumn_added [X_1_poly_dn_scaled_coloumn_added [:,1].argsort()]\n",
    "    plt.plot(X_1_poly_dn_scaled_coloumn_added_sorted[:,1:2], actual_label, 'bo')\n",
    "    y_1_dn_plot = X_1_poly_dn_scaled_coloumn_added_sorted.dot(weights)\n",
    "    plt.plot(X_1_poly_dn_scaled_coloumn_added_sorted[:,1:2], y_1_dn_plot,label=graph_label)\n",
    "    legend = plt.legend(loc='upper right', shadow=True)"
   ]
  },
  {
   "cell_type": "code",
   "execution_count": 6,
   "metadata": {},
   "outputs": [],
   "source": [
    "scaler = StandardScaler()"
   ]
  },
  {
   "cell_type": "code",
   "execution_count": 7,
   "metadata": {},
   "outputs": [],
   "source": [
    "def polynomial_adder(data,degree):\n",
    "    poly_features = PolynomialFeatures(degree=degree, include_bias=False)\n",
    "    X_1_poly_dn = poly_features.fit_transform(data)\n",
    "    X_1_poly_dn_scaled = scaler.fit_transform(X_1_poly_dn)\n",
    "    X_1_poly_dn_scaled_coloumn_added = np.c_[np.ones((data.shape[0], 1)), X_1_poly_dn_scaled]\n",
    "    ## Sorting for graph plotting\n",
    "    #X_1_poly_dn_scaled_coloumn_added = X_1_poly_dn_scaled_coloumn_added [X_1_poly_dn_scaled_coloumn_added [:,1].argsort()]\n",
    "    return X_1_poly_dn_scaled_coloumn_added"
   ]
  },
  {
   "cell_type": "markdown",
   "metadata": {},
   "source": [
    "## Optimized Weight - Deg1\n"
   ]
  },
  {
   "cell_type": "code",
   "execution_count": 8,
   "metadata": {},
   "outputs": [
    {
     "name": "stdout",
     "output_type": "stream",
     "text": [
      "[[ 1.07581132]\n",
      " [-1.1887203 ]]\n"
     ]
    }
   ],
   "source": [
    "theta_1 = weight_optimizer(X_1_coloumn_added,1,Y_1)\n",
    "print (theta_1)"
   ]
  },
  {
   "cell_type": "markdown",
   "metadata": {},
   "source": [
    "## RMSE - Deg1\n"
   ]
  },
  {
   "cell_type": "code",
   "execution_count": 9,
   "metadata": {},
   "outputs": [
    {
     "name": "stdout",
     "output_type": "stream",
     "text": [
      "0.47624021947640577\n"
     ]
    }
   ],
   "source": [
    "rms_1 = rmse_calculator(X_1_coloumn_added,theta_1,Y_1)\n",
    "print (rms_1)"
   ]
  },
  {
   "cell_type": "markdown",
   "metadata": {},
   "source": [
    "## Plot - Deg1"
   ]
  },
  {
   "cell_type": "code",
   "execution_count": 10,
   "metadata": {},
   "outputs": [
    {
     "name": "stderr",
     "output_type": "stream",
     "text": [
      "No handles with labels found to put in legend.\n"
     ]
    },
    {
     "data": {
      "image/png": "[encoded data removed]",
      "text/plain": [
       "<matplotlib.figure.Figure at 0x10ba67278>"
      ]
     },
     "metadata": {},
     "output_type": "display_data"
    }
   ],
   "source": [
    "graph_plotter(X_1_coloumn_added,theta_1,Y_1)"
   ]
  },
  {
   "cell_type": "markdown",
   "metadata": {},
   "source": [
    "# 1-2. Fit the data using 2nd order polynomial regression model (matrix form, gradient descent method)."
   ]
  },
  {
   "cell_type": "code",
   "execution_count": 11,
   "metadata": {},
   "outputs": [],
   "source": [
    "X_1_poly_d2_scaled_coloumn_added = polynomial_adder(X_1,2)"
   ]
  },
  {
   "cell_type": "markdown",
   "metadata": {},
   "source": [
    "## Optimized Weight - deg2"
   ]
  },
  {
   "cell_type": "code",
   "execution_count": 12,
   "metadata": {},
   "outputs": [
    {
     "name": "stdout",
     "output_type": "stream",
     "text": [
      "[[ 0.45269151]\n",
      " [ 1.13735736]\n",
      " [-1.51236155]]\n"
     ]
    }
   ],
   "source": [
    "theta_1_d2 = weight_optimizer(X_1_poly_d2_scaled_coloumn_added,2,Y_1,epochs=1000000)\n",
    "print (theta_1_d2)"
   ]
  },
  {
   "cell_type": "markdown",
   "metadata": {},
   "source": [
    "## RMSE"
   ]
  },
  {
   "cell_type": "code",
   "execution_count": 13,
   "metadata": {},
   "outputs": [
    {
     "name": "stdout",
     "output_type": "stream",
     "text": [
      "0.2856992946970416\n"
     ]
    }
   ],
   "source": [
    "rms_1_d2 = rmse_calculator(X_1_poly_d2_scaled_coloumn_added,theta_1_d2,Y_1)\n",
    "print (rms_1_d2)"
   ]
  },
  {
   "cell_type": "markdown",
   "metadata": {},
   "source": [
    "## Plot - deg2"
   ]
  },
  {
   "cell_type": "code",
   "execution_count": 14,
   "metadata": {},
   "outputs": [
    {
     "name": "stderr",
     "output_type": "stream",
     "text": [
      "No handles with labels found to put in legend.\n"
     ]
    },
    {
     "data": {
      "image/png": "[encoded data removed]",
      "text/plain": [
       "<matplotlib.figure.Figure at 0x11e8947b8>"
      ]
     },
     "metadata": {},
     "output_type": "display_data"
    }
   ],
   "source": [
    "graph_plotter(X_1_poly_d2_scaled_coloumn_added,theta_1_d2,Y_1)"
   ]
  },
  {
   "cell_type": "markdown",
   "metadata": {},
   "source": [
    "# 1-3. Fit the data using 4th order polynomial regression model (matrix form, gradient descent method)."
   ]
  },
  {
   "cell_type": "code",
   "execution_count": 15,
   "metadata": {},
   "outputs": [],
   "source": [
    "X_1_poly_d4_scaled_coloumn_added = polynomial_adder(X_1,4)"
   ]
  },
  {
   "cell_type": "markdown",
   "metadata": {},
   "source": [
    "## Optimized Weight - deg4"
   ]
  },
  {
   "cell_type": "code",
   "execution_count": 16,
   "metadata": {},
   "outputs": [
    {
     "name": "stdout",
     "output_type": "stream",
     "text": [
      "[[ 0.45269151]\n",
      " [ 1.21953159]\n",
      " [-1.64185924]\n",
      " [-0.07517517]\n",
      " [ 0.12926937]]\n"
     ]
    }
   ],
   "source": [
    "theta_1_d4 = weight_optimizer(X_1_poly_d4_scaled_coloumn_added,4,Y_1,epochs=1000000)\n",
    "print (theta_1_d4)"
   ]
  },
  {
   "cell_type": "markdown",
   "metadata": {},
   "source": [
    "## RMSE Deg-4"
   ]
  },
  {
   "cell_type": "code",
   "execution_count": 17,
   "metadata": {},
   "outputs": [
    {
     "name": "stdout",
     "output_type": "stream",
     "text": [
      "0.28549123570198065\n"
     ]
    }
   ],
   "source": [
    "rms_1_d4 = rmse_calculator(X_1_poly_d4_scaled_coloumn_added,theta_1_d4,Y_1)\n",
    "print (rms_1_d4)"
   ]
  },
  {
   "cell_type": "markdown",
   "metadata": {},
   "source": [
    "## Graph_Deg 4"
   ]
  },
  {
   "cell_type": "code",
   "execution_count": 18,
   "metadata": {},
   "outputs": [
    {
     "name": "stderr",
     "output_type": "stream",
     "text": [
      "No handles with labels found to put in legend.\n"
     ]
    },
    {
     "data": {
      "image/png": "[encoded data removed]",
      "text/plain": [
       "<matplotlib.figure.Figure at 0x120a0be10>"
      ]
     },
     "metadata": {},
     "output_type": "display_data"
    }
   ],
   "source": [
    "graph_plotter(X_1_poly_d4_scaled_coloumn_added,theta_1_d4,Y_1)"
   ]
  },
  {
   "cell_type": "markdown",
   "metadata": {},
   "source": [
    "# 1-4. Fit the data using 16th order polynomial regression model (matrix form, gradient descent method)."
   ]
  },
  {
   "cell_type": "code",
   "execution_count": 19,
   "metadata": {},
   "outputs": [],
   "source": [
    "X_1_poly_d16_scaled_coloumn_added = polynomial_adder(X_1,16)"
   ]
  },
  {
   "cell_type": "markdown",
   "metadata": {},
   "source": [
    "## Optimized Weight - deg16"
   ]
  },
  {
   "cell_type": "code",
   "execution_count": 20,
   "metadata": {},
   "outputs": [
    {
     "name": "stdout",
     "output_type": "stream",
     "text": [
      "[[ 0.45269151]\n",
      " [ 0.7722609 ]\n",
      " [ 0.12119529]\n",
      " [-0.81910108]\n",
      " [-1.3383823 ]\n",
      " [-0.78793764]\n",
      " [ 0.58602271]\n",
      " [-0.21499428]\n",
      " [-0.06350163]\n",
      " [ 1.5354596 ]\n",
      " [ 1.72160859]\n",
      " [ 0.21985303]\n",
      " [-0.52896061]\n",
      " [ 0.18488835]\n",
      " [-0.93493415]\n",
      " [-0.43173151]\n",
      " [-0.4313412 ]]\n"
     ]
    }
   ],
   "source": [
    "theta_1_d16 = weight_optimizer(X_1_poly_d16_scaled_coloumn_added,16,Y_1,epochs=1000000)\n",
    "print (theta_1_d16)"
   ]
  },
  {
   "cell_type": "markdown",
   "metadata": {},
   "source": [
    "## RMSE - Deg4"
   ]
  },
  {
   "cell_type": "code",
   "execution_count": 21,
   "metadata": {},
   "outputs": [
    {
     "name": "stdout",
     "output_type": "stream",
     "text": [
      "0.2623786428310596\n"
     ]
    }
   ],
   "source": [
    "rms_1_d16 = rmse_calculator(X_1_poly_d16_scaled_coloumn_added,theta_1_d16,Y_1)\n",
    "print (rms_1_d16)"
   ]
  },
  {
   "cell_type": "markdown",
   "metadata": {},
   "source": [
    "## Graph_Deg 16"
   ]
  },
  {
   "cell_type": "code",
   "execution_count": 22,
   "metadata": {},
   "outputs": [
    {
     "name": "stderr",
     "output_type": "stream",
     "text": [
      "No handles with labels found to put in legend.\n"
     ]
    },
    {
     "data": {
      "image/png": "[encoded data removed]",
      "text/plain": [
       "<matplotlib.figure.Figure at 0x120a110b8>"
      ]
     },
     "metadata": {},
     "output_type": "display_data"
    }
   ],
   "source": [
    "graph_plotter(X_1_poly_d16_scaled_coloumn_added,theta_1_d16,Y_1)"
   ]
  },
  {
   "cell_type": "markdown",
   "metadata": {},
   "source": [
    "# 1-5. Fit the data using 16th order polynomial regression model with ridge (L2 penalty) regularization (matrix form, gradient descent method).\n",
    "## You need to try at least 3 different L2 penalty (for example, λ = 0.1, 1, 10)."
   ]
  },
  {
   "cell_type": "markdown",
   "metadata": {},
   "source": [
    "### λ = 0.1"
   ]
  },
  {
   "cell_type": "markdown",
   "metadata": {},
   "source": [
    "#### Optimized weights λ = 0.1"
   ]
  },
  {
   "cell_type": "code",
   "execution_count": 23,
   "metadata": {},
   "outputs": [
    {
     "name": "stdout",
     "output_type": "stream",
     "text": [
      "[[ 0.45118755]\n",
      " [ 0.78481591]\n",
      " [-0.41947298]\n",
      " [-0.64863125]\n",
      " [-0.4828538 ]\n",
      " [-0.22799224]\n",
      " [ 0.00627385]\n",
      " [ 0.17515824]\n",
      " [ 0.27501698]\n",
      " [ 0.31127663]\n",
      " [ 0.28925116]\n",
      " [ 0.22803818]\n",
      " [ 0.13100676]\n",
      " [ 0.00857716]\n",
      " [-0.12897922]\n",
      " [-0.27769236]\n",
      " [-0.43399934]]\n"
     ]
    }
   ],
   "source": [
    "theta_1_d16_regularised_1 = weight_optimizer(X_1_poly_d16_scaled_coloumn_added,16,Y_1,regularisation_alpha=0.1)\n",
    "print (theta_1_d16_regularised_1)"
   ]
  },
  {
   "cell_type": "markdown",
   "metadata": {},
   "source": [
    "#### RMSE - λ = 0.1"
   ]
  },
  {
   "cell_type": "code",
   "execution_count": 24,
   "metadata": {},
   "outputs": [
    {
     "name": "stdout",
     "output_type": "stream",
     "text": [
      "0.26938556417504217\n"
     ]
    }
   ],
   "source": [
    "rms_1_d16_regularised_1 = rmse_calculator(X_1_poly_d16_scaled_coloumn_added,theta_1_d16_regularised_1,Y_1)\n",
    "print (rms_1_d16_regularised_1)"
   ]
  },
  {
   "cell_type": "markdown",
   "metadata": {},
   "source": [
    "### λ = 1"
   ]
  },
  {
   "cell_type": "markdown",
   "metadata": {},
   "source": [
    "#### Optimized weights λ = 1"
   ]
  },
  {
   "cell_type": "code",
   "execution_count": 25,
   "metadata": {},
   "outputs": [
    {
     "name": "stdout",
     "output_type": "stream",
     "text": [
      "[[ 0.43808856]\n",
      " [ 0.30532714]\n",
      " [-0.11714469]\n",
      " [-0.21555533]\n",
      " [-0.18959658]\n",
      " [-0.12931817]\n",
      " [-0.06945018]\n",
      " [-0.02187918]\n",
      " [ 0.01069068]\n",
      " [ 0.02911397]\n",
      " [ 0.03545038]\n",
      " [ 0.03198174]\n",
      " [ 0.02082246]\n",
      " [ 0.00379041]\n",
      " [-0.01760999]\n",
      " [-0.04215991]\n",
      " [-0.06888419]]\n"
     ]
    }
   ],
   "source": [
    "theta_1_d16_regularised_2 = weight_optimizer(X_1_poly_d16_scaled_coloumn_added,16,Y_1,regularisation_alpha=1)\n",
    "print (theta_1_d16_regularised_2)"
   ]
  },
  {
   "cell_type": "markdown",
   "metadata": {},
   "source": [
    "#### RMSE - λ = 1\n"
   ]
  },
  {
   "cell_type": "code",
   "execution_count": 26,
   "metadata": {},
   "outputs": [
    {
     "name": "stdout",
     "output_type": "stream",
     "text": [
      "0.3019080631123778\n"
     ]
    }
   ],
   "source": [
    "rms_1_d16_regularised_2 = rmse_calculator(X_1_poly_d16_scaled_coloumn_added,theta_1_d16_regularised_2,Y_1)\n",
    "print (rms_1_d16_regularised_2)"
   ]
  },
  {
   "cell_type": "markdown",
   "metadata": {},
   "source": [
    "### λ = 10"
   ]
  },
  {
   "cell_type": "markdown",
   "metadata": {},
   "source": [
    "#### Optimized weights λ = 10"
   ]
  },
  {
   "cell_type": "code",
   "execution_count": 27,
   "metadata": {},
   "outputs": [
    {
     "name": "stdout",
     "output_type": "stream",
     "text": [
      "[[ 0.33951863]\n",
      " [ 0.05560105]\n",
      " [-0.02707079]\n",
      " [-0.0564417 ]\n",
      " [-0.06173571]\n",
      " [-0.05764355]\n",
      " [-0.05057775]\n",
      " [-0.04323712]\n",
      " [-0.03668487]\n",
      " [-0.03126116]\n",
      " [-0.02699188]\n",
      " [-0.02377544]\n",
      " [-0.02146823]\n",
      " [-0.01992273]\n",
      " [-0.01900323]\n",
      " [-0.01859114]\n",
      " [-0.01858551]]\n"
     ]
    }
   ],
   "source": [
    "theta_1_d16_regularised_3 = weight_optimizer(X_1_poly_d16_scaled_coloumn_added,16,Y_1,regularisation_alpha=10)\n",
    "print (theta_1_d16_regularised_3)"
   ]
  },
  {
   "cell_type": "markdown",
   "metadata": {},
   "source": [
    "#### RMSE - λ = 10"
   ]
  },
  {
   "cell_type": "code",
   "execution_count": 28,
   "metadata": {},
   "outputs": [
    {
     "name": "stdout",
     "output_type": "stream",
     "text": [
      "0.3457512309710601\n"
     ]
    }
   ],
   "source": [
    "rms_1_d16_regularised_3 = rmse_calculator(X_1_poly_d16_scaled_coloumn_added,theta_1_d16_regularised_3,Y_1)\n",
    "print (rms_1_d16_regularised_3)"
   ]
  },
  {
   "cell_type": "markdown",
   "metadata": {},
   "source": [
    "#### Graph Plot λ = 0.1,1,10"
   ]
  },
  {
   "cell_type": "code",
   "execution_count": 29,
   "metadata": {},
   "outputs": [
    {
     "data": {
      "image/png": "[encoded data removed]",
      "text/plain": [
       "<matplotlib.figure.Figure at 0x11e9279b0>"
      ]
     },
     "metadata": {},
     "output_type": "display_data"
    }
   ],
   "source": [
    "graph_plotter(X_1_poly_d16_scaled_coloumn_added,theta_1_d16_regularised_1,Y_1,graph_label=\"λ = 0.1\")\n",
    "graph_plotter(X_1_poly_d16_scaled_coloumn_added,theta_1_d16_regularised_2,Y_1,graph_label= \"λ = 1\")\n",
    "graph_plotter(X_1_poly_d16_scaled_coloumn_added,theta_1_d16_regularised_3,Y_1,graph_label= \"λ = 10\")"
   ]
  },
  {
   "cell_type": "markdown",
   "metadata": {},
   "source": [
    "# 1-6. Fit the data using 16th order polynomial regression model with scikit-learn Ridge model.\n",
    "## You need to try at least 3 different L2 penalty (for example, λ = 0.1, 1, 10)."
   ]
  },
  {
   "cell_type": "code",
   "execution_count": 30,
   "metadata": {},
   "outputs": [],
   "source": [
    "alpha = [0.1, 1, 10]"
   ]
  },
  {
   "cell_type": "code",
   "execution_count": 31,
   "metadata": {},
   "outputs": [],
   "source": [
    "def ridge_optimized_weight(data,label,alpha=0.1):\n",
    "    ridge_reg = Ridge(alpha=alpha, solver=\"cholesky\")\n",
    "    ridge_mode1 = ridge_reg.fit(data[:,1:], label)\n",
    "    print (\"Model-Intercept\",ridge_mode1.intercept_)\n",
    "    print (\"Model-Co-ef\",ridge_mode1.coef_.T)\n",
    "    return ridge_mode1"
   ]
  },
  {
   "cell_type": "code",
   "execution_count": 32,
   "metadata": {},
   "outputs": [],
   "source": [
    "def ridge_lasso_graph_plotter(data,actual_label,ridge_model,graph_label=None):\n",
    "    X_1_poly_dn_scaled_coloumn_added_sorted = data[data[:,1].argsort()]\n",
    "    Y_ridge_mode1_1_predict = ridge_model.predict(X_1_poly_dn_scaled_coloumn_added_sorted[:,1:])\n",
    "    plt.plot(X_1_poly_dn_scaled_coloumn_added_sorted[:,1:2], actual_label, 'bo')\n",
    "    plt.plot(X_1_poly_dn_scaled_coloumn_added_sorted[:,1:2], Y_ridge_mode1_1_predict,label=graph_label)\n",
    "    legend = plt.legend(loc='upper right', shadow=True)"
   ]
  },
  {
   "cell_type": "code",
   "execution_count": 33,
   "metadata": {},
   "outputs": [],
   "source": [
    "def ridge_lasso_rmse(data,actual_label,ridge_model):\n",
    "    Y_ridge_mode1_1_predict = ridge_model.predict(data[:,1:])\n",
    "    rms = sqrt(mean_squared_error(actual_label, Y_ridge_mode1_1_predict))\n",
    "    return rms\n",
    "    "
   ]
  },
  {
   "cell_type": "markdown",
   "metadata": {},
   "source": [
    "#### Optimized_Weights ridge λ = 0.1"
   ]
  },
  {
   "cell_type": "code",
   "execution_count": 34,
   "metadata": {},
   "outputs": [
    {
     "name": "stdout",
     "output_type": "stream",
     "text": [
      "Model-Intercept [0.45269151]\n",
      "Model-Co-ef [[ 0.78485691]\n",
      " [-0.41980483]\n",
      " [-0.6474652 ]\n",
      " [-0.48475686]\n",
      " [-0.22708056]\n",
      " [ 0.00646183]\n",
      " [ 0.17607267]\n",
      " [ 0.27503508]\n",
      " [ 0.30951311]\n",
      " [ 0.28986803]\n",
      " [ 0.22699526]\n",
      " [ 0.13087521]\n",
      " [ 0.01010497]\n",
      " [-0.12814542]\n",
      " [-0.27800671]\n",
      " [-0.43473061]]\n"
     ]
    }
   ],
   "source": [
    "ridge_mode1_1 = ridge_optimized_weight(X_1_poly_d16_scaled_coloumn_added,Y_1,0.1)"
   ]
  },
  {
   "cell_type": "markdown",
   "metadata": {},
   "source": [
    "#### RMSE ridge λ = 0.1"
   ]
  },
  {
   "cell_type": "code",
   "execution_count": 35,
   "metadata": {},
   "outputs": [
    {
     "name": "stdout",
     "output_type": "stream",
     "text": [
      "0.2693814634185468\n"
     ]
    }
   ],
   "source": [
    "rms_ridge_1 = ridge_lasso_rmse(X_1_poly_d16_scaled_coloumn_added,Y_1,ridge_mode1_1)\n",
    "print(rms_ridge_1)"
   ]
  },
  {
   "cell_type": "markdown",
   "metadata": {},
   "source": [
    "#### Optimized Weights Ridge λ = 1"
   ]
  },
  {
   "cell_type": "code",
   "execution_count": 36,
   "metadata": {},
   "outputs": [
    {
     "name": "stdout",
     "output_type": "stream",
     "text": [
      "Model-Intercept [0.45269151]\n",
      "Model-Co-ef [[ 0.30532714]\n",
      " [-0.11714469]\n",
      " [-0.21555533]\n",
      " [-0.18959658]\n",
      " [-0.12931817]\n",
      " [-0.06945018]\n",
      " [-0.02187918]\n",
      " [ 0.01069068]\n",
      " [ 0.02911397]\n",
      " [ 0.03545038]\n",
      " [ 0.03198174]\n",
      " [ 0.02082246]\n",
      " [ 0.00379041]\n",
      " [-0.01760999]\n",
      " [-0.04215991]\n",
      " [-0.06888419]]\n"
     ]
    }
   ],
   "source": [
    "ridge_mode1_2 = ridge_optimized_weight(X_1_poly_d16_scaled_coloumn_added,Y_1,1)"
   ]
  },
  {
   "cell_type": "markdown",
   "metadata": {},
   "source": [
    "#### RMSE ridge λ = 1\n"
   ]
  },
  {
   "cell_type": "code",
   "execution_count": 37,
   "metadata": {},
   "outputs": [
    {
     "name": "stdout",
     "output_type": "stream",
     "text": [
      "0.3015546921663988\n"
     ]
    }
   ],
   "source": [
    "rms_ridge_2 = ridge_lasso_rmse(X_1_poly_d16_scaled_coloumn_added,Y_1,ridge_mode1_2)\n",
    "print(rms_ridge_2)"
   ]
  },
  {
   "cell_type": "markdown",
   "metadata": {},
   "source": [
    "#### Optimized Weights Ridge λ = 10"
   ]
  },
  {
   "cell_type": "code",
   "execution_count": 38,
   "metadata": {},
   "outputs": [
    {
     "name": "stdout",
     "output_type": "stream",
     "text": [
      "Model-Intercept [0.45269151]\n",
      "Model-Co-ef [[ 0.05560105]\n",
      " [-0.02707079]\n",
      " [-0.0564417 ]\n",
      " [-0.06173571]\n",
      " [-0.05764355]\n",
      " [-0.05057775]\n",
      " [-0.04323712]\n",
      " [-0.03668487]\n",
      " [-0.03126116]\n",
      " [-0.02699188]\n",
      " [-0.02377544]\n",
      " [-0.02146823]\n",
      " [-0.01992273]\n",
      " [-0.01900323]\n",
      " [-0.01859114]\n",
      " [-0.01858551]]\n"
     ]
    }
   ],
   "source": [
    "ridge_mode1_3 = ridge_optimized_weight(X_1_poly_d16_scaled_coloumn_added,Y_1,10)"
   ]
  },
  {
   "cell_type": "markdown",
   "metadata": {},
   "source": [
    "#### RMSE ridge λ = 10"
   ]
  },
  {
   "cell_type": "code",
   "execution_count": 39,
   "metadata": {},
   "outputs": [
    {
     "name": "stdout",
     "output_type": "stream",
     "text": [
      "0.3267044743318329\n"
     ]
    }
   ],
   "source": [
    "rms_ridge_3 = ridge_lasso_rmse(X_1_poly_d16_scaled_coloumn_added,Y_1,ridge_mode1_3)\n",
    "print(rms_ridge_3)"
   ]
  },
  {
   "cell_type": "markdown",
   "metadata": {},
   "source": [
    "#### Graph Plot Ridge λ = 0.1,1,10\n"
   ]
  },
  {
   "cell_type": "code",
   "execution_count": 40,
   "metadata": {},
   "outputs": [
    {
     "data": {
      "image/png": "[encoded data removed]",
      "text/plain": [
       "<matplotlib.figure.Figure at 0x1209a03c8>"
      ]
     },
     "metadata": {},
     "output_type": "display_data"
    }
   ],
   "source": [
    "ridge_lasso_graph_plotter(X_1_poly_d16_scaled_coloumn_added,Y_1,ridge_mode1_1,graph_label=\"ridge 0.1\")\n",
    "ridge_lasso_graph_plotter(X_1_poly_d16_scaled_coloumn_added,Y_1,ridge_mode1_2,graph_label=\"ridge 1\")\n",
    "ridge_lasso_graph_plotter(X_1_poly_d16_scaled_coloumn_added,Y_1,ridge_mode1_3,graph_label=\"ridge 10\")"
   ]
  },
  {
   "cell_type": "markdown",
   "metadata": {},
   "source": [
    "## 1-7. Fit the data using 16th order polynomial regression model with scikit-learn Lasso model."
   ]
  },
  {
   "cell_type": "code",
   "execution_count": 41,
   "metadata": {},
   "outputs": [],
   "source": [
    "def lasso_optimized_weight(data,label,alpha=0.1):\n",
    "    lasso_reg = Lasso(alpha)\n",
    "    lasso_mode1 = lasso_reg.fit(data[:,1:], label)\n",
    "    print (\"Model-Intercept\",lasso_mode1.intercept_)\n",
    "    print (\"Model-Co-ef\",lasso_mode1.coef_.T)\n",
    "    return lasso_mode1"
   ]
  },
  {
   "cell_type": "markdown",
   "metadata": {},
   "source": [
    "#### Optimized_Weights lasso λ = 0.1\n"
   ]
  },
  {
   "cell_type": "code",
   "execution_count": 42,
   "metadata": {},
   "outputs": [
    {
     "name": "stdout",
     "output_type": "stream",
     "text": [
      "Model-Intercept [0.45269151]\n",
      "Model-Co-ef [-0.         -0.         -0.         -0.         -0.         -0.37373874\n",
      " -0.         -0.         -0.         -0.         -0.         -0.\n",
      " -0.         -0.         -0.         -0.        ]\n"
     ]
    }
   ],
   "source": [
    "lasso_mode1_1 = lasso_optimized_weight(X_1_poly_d16_scaled_coloumn_added,Y_1,0.1)"
   ]
  },
  {
   "cell_type": "markdown",
   "metadata": {},
   "source": [
    "#### RMSE lasso λ = 0.1"
   ]
  },
  {
   "cell_type": "code",
   "execution_count": 43,
   "metadata": {},
   "outputs": [
    {
     "name": "stdout",
     "output_type": "stream",
     "text": [
      "0.34466712593964577\n"
     ]
    }
   ],
   "source": [
    "rms_lasso_1 = ridge_lasso_rmse(X_1_poly_d16_scaled_coloumn_added,Y_1,lasso_mode1_1)\n",
    "print(rms_lasso_1)"
   ]
  },
  {
   "cell_type": "markdown",
   "metadata": {},
   "source": [
    "#### Optimized_Weights lasso λ = 1"
   ]
  },
  {
   "cell_type": "code",
   "execution_count": 44,
   "metadata": {},
   "outputs": [
    {
     "name": "stdout",
     "output_type": "stream",
     "text": [
      "Model-Intercept [0.45269151]\n",
      "Model-Co-ef [-0. -0. -0. -0. -0. -0. -0. -0. -0. -0. -0. -0. -0. -0. -0. -0.]\n"
     ]
    }
   ],
   "source": [
    "lasso_mode1_2 = lasso_optimized_weight(X_1_poly_d16_scaled_coloumn_added,Y_1,1)"
   ]
  },
  {
   "cell_type": "markdown",
   "metadata": {},
   "source": [
    "#### RMSE lasso λ = 1"
   ]
  },
  {
   "cell_type": "code",
   "execution_count": 45,
   "metadata": {},
   "outputs": [
    {
     "name": "stdout",
     "output_type": "stream",
     "text": [
      "0.5772554182087681\n"
     ]
    }
   ],
   "source": [
    "rms_lasso_2 = ridge_lasso_rmse(X_1_poly_d16_scaled_coloumn_added,Y_1,lasso_mode1_2)\n",
    "print(rms_lasso_2)"
   ]
  },
  {
   "cell_type": "markdown",
   "metadata": {},
   "source": [
    "#### Optimized_Weights lasso λ = 10"
   ]
  },
  {
   "cell_type": "code",
   "execution_count": 46,
   "metadata": {},
   "outputs": [
    {
     "name": "stdout",
     "output_type": "stream",
     "text": [
      "Model-Intercept [0.45269151]\n",
      "Model-Co-ef [-0. -0. -0. -0. -0. -0. -0. -0. -0. -0. -0. -0. -0. -0. -0. -0.]\n"
     ]
    }
   ],
   "source": [
    "lasso_mode1_3 = lasso_optimized_weight(X_1_poly_d16_scaled_coloumn_added,Y_1,10)"
   ]
  },
  {
   "cell_type": "markdown",
   "metadata": {},
   "source": [
    "#### RMSE lasso λ = 10"
   ]
  },
  {
   "cell_type": "code",
   "execution_count": 47,
   "metadata": {},
   "outputs": [
    {
     "name": "stdout",
     "output_type": "stream",
     "text": [
      "0.5772554182087681\n"
     ]
    }
   ],
   "source": [
    "rms_lasso_3 = ridge_lasso_rmse(X_1_poly_d16_scaled_coloumn_added,Y_1,lasso_mode1_3)\n",
    "print(rms_lasso_3)"
   ]
  },
  {
   "cell_type": "markdown",
   "metadata": {},
   "source": [
    "#### Graph Plot Lasso λ = 0.1,1,10\n"
   ]
  },
  {
   "cell_type": "code",
   "execution_count": 48,
   "metadata": {},
   "outputs": [
    {
     "data": {
      "image/png": "[encoded data removed]",
      "text/plain": [
       "<matplotlib.figure.Figure at 0x120b64f98>"
      ]
     },
     "metadata": {},
     "output_type": "display_data"
    }
   ],
   "source": [
    "ridge_lasso_graph_plotter(X_1_poly_d16_scaled_coloumn_added,Y_1,lasso_mode1_1,graph_label=\"Lasso 0.1\")\n",
    "ridge_lasso_graph_plotter(X_1_poly_d16_scaled_coloumn_added,Y_1,lasso_mode1_2,graph_label=\"Lasso 1\")\n",
    "ridge_lasso_graph_plotter(X_1_poly_d16_scaled_coloumn_added,Y_1,lasso_mode1_3,graph_label=\"Lasso 10\")"
   ]
  },
  {
   "cell_type": "markdown",
   "metadata": {},
   "source": [
    "## 2.Polynomial regression with train/validation/test\n",
    "### You need to split the data into training/validation/testing data set as 60% / 20% / 20%.\n",
    "### Please use np.random.seed(1) to have consistent data for evaluation\n"
   ]
  },
  {
   "cell_type": "markdown",
   "metadata": {},
   "source": [
    "### 2-1. Fit the data using linear (1st order) regression model (matrix form, gradient descent method)."
   ]
  },
  {
   "cell_type": "code",
   "execution_count": 49,
   "metadata": {},
   "outputs": [],
   "source": [
    "# def plot_learning_curves(model, X, y):\n",
    "#     X_train, X_val, y_train, y_val = train_test_split(X, y, test_size=0.2)\n",
    "#     train_errors, val_errors = [], []\n",
    "#     for m in range(1, len(X_train)):\n",
    "#         model.fit(X_train[:m], y_train[:m])\n",
    "#         y_train_predict = model.predict(X_train[:m])\n",
    "#         y_val_predict = model.predict(X_val)\n",
    "#         train_errors.append(mean_squared_error(y_train_predict, y_train[:m]))\n",
    "#         val_errors.append(mean_squared_error(y_val_predict, y_val))\n",
    "#     plt.plot(np.sqrt(train_errors), \"r-+\", linewidth=2, label=\"train\")\n",
    "#     plt.plot(np.sqrt(val_errors), \"b-\", linewidth=3, label=\"val\")\n",
    "    \n",
    "# lin_reg = LinearRegression()\n",
    "# plot_learning_curves(lin_reg, X, y)\n",
    "    \n",
    "# from sklearn.pipeline import Pipeline\n",
    "\n",
    "# polynomial_regression = Pipeline([\n",
    "#         (\"poly_features\", PolynomialFeatures(degree=10, include_bias=False)),\n",
    "#         (\"lin_reg\", LinearRegression()),\n",
    "#     ])\n",
    "\n",
    "# plot_learning_curves(polynomial_regression, X, y)"
   ]
  },
  {
   "cell_type": "code",
   "execution_count": 174,
   "metadata": {},
   "outputs": [],
   "source": [
    "data2 = pd.read_csv(\"ex2data2.csv\")\n",
    "X_2 = data2.as_matrix(columns=data1.columns[0:1])\n",
    "Y_2 = data2.as_matrix(columns=data1.columns[1:])\n",
    "X_2_coloumn_added = np.c_[np.ones((data2.shape[0], 1)), X_2]\n"
   ]
  },
  {
   "cell_type": "code",
   "execution_count": 175,
   "metadata": {},
   "outputs": [
    {
     "data": {
      "text/plain": [
       "(5404, 2)"
      ]
     },
     "execution_count": 175,
     "metadata": {},
     "output_type": "execute_result"
    }
   ],
   "source": [
    "data2.shape"
   ]
  },
  {
   "cell_type": "code",
   "execution_count": 177,
   "metadata": {},
   "outputs": [
    {
     "name": "stdout",
     "output_type": "stream",
     "text": [
      "(5404, 2)\n",
      "(4323, 2)\n",
      "(3242, 2)\n"
     ]
    }
   ],
   "source": [
    "X_2_train_val, X_2_test, y_2_train_val, y_2_test = train_test_split(X_2_coloumn_added , Y_2, test_size=0.2,random_state=1)\n",
    "X_2_train, X_2_val, y_2_train, y_2_val = train_test_split(X_2_train_val, y_2_train_val, test_size=0.25,random_state=1)\n",
    "print (X_2_coloumn_added.shape)\n",
    "print (X_2_train_val.shape)\n",
    "print (X_2_train.shape)"
   ]
  },
  {
   "cell_type": "code",
   "execution_count": 164,
   "metadata": {},
   "outputs": [],
   "source": [
    "def Mean_Square_Error_calculator(data,weights,actual_label):\n",
    "    predict_y = data.dot(weights)\n",
    "    rms = mean_squared_error(actual_label, predict_y)\n",
    "    return rms"
   ]
  },
  {
   "cell_type": "code",
   "execution_count": 181,
   "metadata": {},
   "outputs": [],
   "source": [
    "def train_val_best_model(X_1_train, X_1_val, y_1_train, y_1_val,degree):\n",
    "    epochs = [10000]\n",
    "    learning_rate = [.01]\n",
    "    train_errors, val_errors = [], []\n",
    "    counter = 1\n",
    "    combination = {}\n",
    "    for epoch in epochs:\n",
    "        for rate in learning_rate:\n",
    "            weights = weight_optimizer(X_1_train,degree,y_1_train,learn_rate = rate,epochs = epoch,regularisation_alpha=0)\n",
    "            rmse_train = rmse_calculator(X_1_train,weights,y_1_train)\n",
    "            rmse_val = rmse_calculator(X_1_val,weights,y_1_val)\n",
    "            train_errors.append(rmse_train)\n",
    "            val_errors.append(rmse_val)\n",
    "            combination[counter] = (epoch,rate)\n",
    "            counter += 1\n",
    "    plt.plot(train_errors, \"r-+\", linewidth=2, label=\"train\")\n",
    "    plt.plot(val_errors, \"b-\", linewidth=3, label=\"val\")\n",
    "    legend = plt.legend(loc='upper right', shadow=True)\n",
    "    ## Find the lowest validation error\n",
    "    counter_val_error = list(enumerate(val_errors, 1))\n",
    "    counter_val_error_sorted = sorted(counter_val_error, key=lambda x:x[1])\n",
    "    best_model = combination[(counter_val_error_sorted[0][0])]\n",
    "    print(best_model)\n",
    "    return best_model\n"
   ]
  },
  {
   "cell_type": "code",
   "execution_count": 182,
   "metadata": {},
   "outputs": [
    {
     "ename": "ValueError",
     "evalue": "Input contains NaN, infinity or a value too large for dtype('float64').",
     "output_type": "error",
     "traceback": [
      "\u001b[0;31m---------------------------------------------------------------------------\u001b[0m",
      "\u001b[0;31mValueError\u001b[0m                                Traceback (most recent call last)",
      "\u001b[0;32m<ipython-input-182-cde0d7056e31>\u001b[0m in \u001b[0;36m<module>\u001b[0;34m()\u001b[0m\n\u001b[0;32m----> 1\u001b[0;31m \u001b[0mbest_model\u001b[0m \u001b[0;34m=\u001b[0m \u001b[0mtrain_val_best_model\u001b[0m\u001b[0;34m(\u001b[0m\u001b[0mX_2_train\u001b[0m\u001b[0;34m,\u001b[0m \u001b[0mX_2_val\u001b[0m\u001b[0;34m,\u001b[0m \u001b[0my_2_train\u001b[0m\u001b[0;34m,\u001b[0m \u001b[0my_2_val\u001b[0m\u001b[0;34m,\u001b[0m\u001b[0;36m1\u001b[0m\u001b[0;34m)\u001b[0m\u001b[0;34m\u001b[0m\u001b[0m\n\u001b[0m\u001b[1;32m      2\u001b[0m \u001b[0mweights_best_model\u001b[0m \u001b[0;34m=\u001b[0m \u001b[0mweight_optimizer\u001b[0m\u001b[0;34m(\u001b[0m\u001b[0mX_2_train\u001b[0m\u001b[0;34m,\u001b[0m\u001b[0;36m1\u001b[0m\u001b[0;34m,\u001b[0m\u001b[0my_2_train\u001b[0m\u001b[0;34m,\u001b[0m\u001b[0mlearn_rate\u001b[0m \u001b[0;34m=\u001b[0m \u001b[0mbest_model\u001b[0m\u001b[0;34m[\u001b[0m\u001b[0;36m1\u001b[0m\u001b[0;34m]\u001b[0m\u001b[0;34m,\u001b[0m\u001b[0mepochs\u001b[0m \u001b[0;34m=\u001b[0m \u001b[0mbest_model\u001b[0m\u001b[0;34m[\u001b[0m\u001b[0;36m0\u001b[0m\u001b[0;34m]\u001b[0m\u001b[0;34m,\u001b[0m\u001b[0mregularisation_alpha\u001b[0m\u001b[0;34m=\u001b[0m\u001b[0;36m0\u001b[0m\u001b[0;34m)\u001b[0m\u001b[0;34m\u001b[0m\u001b[0m\n",
      "\u001b[0;32m<ipython-input-181-5dc7f80dcd88>\u001b[0m in \u001b[0;36mtrain_val_best_model\u001b[0;34m(X_1_train, X_1_val, y_1_train, y_1_val, degree)\u001b[0m\n\u001b[1;32m      8\u001b[0m         \u001b[0;32mfor\u001b[0m \u001b[0mrate\u001b[0m \u001b[0;32min\u001b[0m \u001b[0mlearning_rate\u001b[0m\u001b[0;34m:\u001b[0m\u001b[0;34m\u001b[0m\u001b[0m\n\u001b[1;32m      9\u001b[0m             \u001b[0mweights\u001b[0m \u001b[0;34m=\u001b[0m \u001b[0mweight_optimizer\u001b[0m\u001b[0;34m(\u001b[0m\u001b[0mX_1_train\u001b[0m\u001b[0;34m,\u001b[0m\u001b[0mdegree\u001b[0m\u001b[0;34m,\u001b[0m\u001b[0my_1_train\u001b[0m\u001b[0;34m,\u001b[0m\u001b[0mlearn_rate\u001b[0m \u001b[0;34m=\u001b[0m \u001b[0mrate\u001b[0m\u001b[0;34m,\u001b[0m\u001b[0mepochs\u001b[0m \u001b[0;34m=\u001b[0m \u001b[0mepoch\u001b[0m\u001b[0;34m,\u001b[0m\u001b[0mregularisation_alpha\u001b[0m\u001b[0;34m=\u001b[0m\u001b[0;36m0\u001b[0m\u001b[0;34m)\u001b[0m\u001b[0;34m\u001b[0m\u001b[0m\n\u001b[0;32m---> 10\u001b[0;31m             \u001b[0mrmse_train\u001b[0m \u001b[0;34m=\u001b[0m \u001b[0mrmse_calculator\u001b[0m\u001b[0;34m(\u001b[0m\u001b[0mX_1_train\u001b[0m\u001b[0;34m,\u001b[0m\u001b[0mweights\u001b[0m\u001b[0;34m,\u001b[0m\u001b[0my_1_train\u001b[0m\u001b[0;34m)\u001b[0m\u001b[0;34m\u001b[0m\u001b[0m\n\u001b[0m\u001b[1;32m     11\u001b[0m             \u001b[0mrmse_val\u001b[0m \u001b[0;34m=\u001b[0m \u001b[0mrmse_calculator\u001b[0m\u001b[0;34m(\u001b[0m\u001b[0mX_1_val\u001b[0m\u001b[0;34m,\u001b[0m\u001b[0mweights\u001b[0m\u001b[0;34m,\u001b[0m\u001b[0my_1_val\u001b[0m\u001b[0;34m)\u001b[0m\u001b[0;34m\u001b[0m\u001b[0m\n\u001b[1;32m     12\u001b[0m             \u001b[0mtrain_errors\u001b[0m\u001b[0;34m.\u001b[0m\u001b[0mappend\u001b[0m\u001b[0;34m(\u001b[0m\u001b[0mrmse_train\u001b[0m\u001b[0;34m)\u001b[0m\u001b[0;34m\u001b[0m\u001b[0m\n",
      "\u001b[0;32m<ipython-input-4-32e339e74eff>\u001b[0m in \u001b[0;36mrmse_calculator\u001b[0;34m(data, weights, actual_label)\u001b[0m\n\u001b[1;32m      1\u001b[0m \u001b[0;32mdef\u001b[0m \u001b[0mrmse_calculator\u001b[0m\u001b[0;34m(\u001b[0m\u001b[0mdata\u001b[0m\u001b[0;34m,\u001b[0m\u001b[0mweights\u001b[0m\u001b[0;34m,\u001b[0m\u001b[0mactual_label\u001b[0m\u001b[0;34m)\u001b[0m\u001b[0;34m:\u001b[0m\u001b[0;34m\u001b[0m\u001b[0m\n\u001b[1;32m      2\u001b[0m     \u001b[0mpredict_y\u001b[0m \u001b[0;34m=\u001b[0m \u001b[0mdata\u001b[0m\u001b[0;34m.\u001b[0m\u001b[0mdot\u001b[0m\u001b[0;34m(\u001b[0m\u001b[0mweights\u001b[0m\u001b[0;34m)\u001b[0m\u001b[0;34m\u001b[0m\u001b[0m\n\u001b[0;32m----> 3\u001b[0;31m     \u001b[0mrms\u001b[0m \u001b[0;34m=\u001b[0m \u001b[0msqrt\u001b[0m\u001b[0;34m(\u001b[0m\u001b[0mmean_squared_error\u001b[0m\u001b[0;34m(\u001b[0m\u001b[0mactual_label\u001b[0m\u001b[0;34m,\u001b[0m \u001b[0mpredict_y\u001b[0m\u001b[0;34m)\u001b[0m\u001b[0;34m)\u001b[0m\u001b[0;34m\u001b[0m\u001b[0m\n\u001b[0m\u001b[1;32m      4\u001b[0m     \u001b[0;32mreturn\u001b[0m \u001b[0mrms\u001b[0m\u001b[0;34m\u001b[0m\u001b[0m\n",
      "\u001b[0;32m/anaconda2/envs/carnd-term1/lib/python3.5/site-packages/sklearn/metrics/regression.py\u001b[0m in \u001b[0;36mmean_squared_error\u001b[0;34m(y_true, y_pred, sample_weight, multioutput)\u001b[0m\n\u001b[1;32m    236\u001b[0m     \"\"\"\n\u001b[1;32m    237\u001b[0m     y_type, y_true, y_pred, multioutput = _check_reg_targets(\n\u001b[0;32m--> 238\u001b[0;31m         y_true, y_pred, multioutput)\n\u001b[0m\u001b[1;32m    239\u001b[0m     output_errors = np.average((y_true - y_pred) ** 2, axis=0,\n\u001b[1;32m    240\u001b[0m                                weights=sample_weight)\n",
      "\u001b[0;32m/anaconda2/envs/carnd-term1/lib/python3.5/site-packages/sklearn/metrics/regression.py\u001b[0m in \u001b[0;36m_check_reg_targets\u001b[0;34m(y_true, y_pred, multioutput)\u001b[0m\n\u001b[1;32m     74\u001b[0m     \"\"\"\n\u001b[1;32m     75\u001b[0m     \u001b[0mcheck_consistent_length\u001b[0m\u001b[0;34m(\u001b[0m\u001b[0my_true\u001b[0m\u001b[0;34m,\u001b[0m \u001b[0my_pred\u001b[0m\u001b[0;34m)\u001b[0m\u001b[0;34m\u001b[0m\u001b[0m\n\u001b[0;32m---> 76\u001b[0;31m     \u001b[0my_true\u001b[0m \u001b[0;34m=\u001b[0m \u001b[0mcheck_array\u001b[0m\u001b[0;34m(\u001b[0m\u001b[0my_true\u001b[0m\u001b[0;34m,\u001b[0m \u001b[0mensure_2d\u001b[0m\u001b[0;34m=\u001b[0m\u001b[0;32mFalse\u001b[0m\u001b[0;34m)\u001b[0m\u001b[0;34m\u001b[0m\u001b[0m\n\u001b[0m\u001b[1;32m     77\u001b[0m     \u001b[0my_pred\u001b[0m \u001b[0;34m=\u001b[0m \u001b[0mcheck_array\u001b[0m\u001b[0;34m(\u001b[0m\u001b[0my_pred\u001b[0m\u001b[0;34m,\u001b[0m \u001b[0mensure_2d\u001b[0m\u001b[0;34m=\u001b[0m\u001b[0;32mFalse\u001b[0m\u001b[0;34m)\u001b[0m\u001b[0;34m\u001b[0m\u001b[0m\n\u001b[1;32m     78\u001b[0m \u001b[0;34m\u001b[0m\u001b[0m\n",
      "\u001b[0;32m/anaconda2/envs/carnd-term1/lib/python3.5/site-packages/sklearn/utils/validation.py\u001b[0m in \u001b[0;36mcheck_array\u001b[0;34m(array, accept_sparse, dtype, order, copy, force_all_finite, ensure_2d, allow_nd, ensure_min_samples, ensure_min_features, warn_on_dtype, estimator)\u001b[0m\n\u001b[1;32m    451\u001b[0m                              % (array.ndim, estimator_name))\n\u001b[1;32m    452\u001b[0m         \u001b[0;32mif\u001b[0m \u001b[0mforce_all_finite\u001b[0m\u001b[0;34m:\u001b[0m\u001b[0;34m\u001b[0m\u001b[0m\n\u001b[0;32m--> 453\u001b[0;31m             \u001b[0m_assert_all_finite\u001b[0m\u001b[0;34m(\u001b[0m\u001b[0marray\u001b[0m\u001b[0;34m)\u001b[0m\u001b[0;34m\u001b[0m\u001b[0m\n\u001b[0m\u001b[1;32m    454\u001b[0m \u001b[0;34m\u001b[0m\u001b[0m\n\u001b[1;32m    455\u001b[0m     \u001b[0mshape_repr\u001b[0m \u001b[0;34m=\u001b[0m \u001b[0m_shape_repr\u001b[0m\u001b[0;34m(\u001b[0m\u001b[0marray\u001b[0m\u001b[0;34m.\u001b[0m\u001b[0mshape\u001b[0m\u001b[0;34m)\u001b[0m\u001b[0;34m\u001b[0m\u001b[0m\n",
      "\u001b[0;32m/anaconda2/envs/carnd-term1/lib/python3.5/site-packages/sklearn/utils/validation.py\u001b[0m in \u001b[0;36m_assert_all_finite\u001b[0;34m(X)\u001b[0m\n\u001b[1;32m     42\u001b[0m             and not np.isfinite(X).all()):\n\u001b[1;32m     43\u001b[0m         raise ValueError(\"Input contains NaN, infinity\"\n\u001b[0;32m---> 44\u001b[0;31m                          \" or a value too large for %r.\" % X.dtype)\n\u001b[0m\u001b[1;32m     45\u001b[0m \u001b[0;34m\u001b[0m\u001b[0m\n\u001b[1;32m     46\u001b[0m \u001b[0;34m\u001b[0m\u001b[0m\n",
      "\u001b[0;31mValueError\u001b[0m: Input contains NaN, infinity or a value too large for dtype('float64')."
     ]
    }
   ],
   "source": [
    "best_model = train_val_best_model(X_2_train, X_2_val, y_2_train, y_2_val,1)\n",
    "weights_best_model = weight_optimizer(X_2_train,1,y_2_train,learn_rate = best_model[1],epochs = best_model[0],regularisation_alpha=0)"
   ]
  },
  {
   "cell_type": "markdown",
   "metadata": {},
   "source": [
    "#### RMSE - Train,test Deg -1"
   ]
  },
  {
   "cell_type": "code",
   "execution_count": 167,
   "metadata": {},
   "outputs": [
    {
     "name": "stdout",
     "output_type": "stream",
     "text": [
      "rmse_train 0.5451525266511789\n",
      "rmse_test 0.5391290008187478\n"
     ]
    }
   ],
   "source": [
    "rmse_train = rmse_calculator(X_2_train,weights_best_model,y_2_train)\n",
    "rmse_test = rmse_calculator(X_2_test,weights_best_model,y_2_test)\n",
    "print(\"rmse_train\",rmse_train)\n",
    "print(\"rmse_test\",rmse_test)"
   ]
  },
  {
   "cell_type": "markdown",
   "metadata": {},
   "source": [
    "#### Graph Train Deg-1"
   ]
  },
  {
   "cell_type": "code",
   "execution_count": 169,
   "metadata": {},
   "outputs": [
    {
     "name": "stderr",
     "output_type": "stream",
     "text": [
      "No handles with labels found to put in legend.\n"
     ]
    },
    {
     "data": {
      "image/png": "[encoded data removed]",
      "text/plain": [
       "<matplotlib.figure.Figure at 0x117a48b38>"
      ]
     },
     "metadata": {},
     "output_type": "display_data"
    }
   ],
   "source": [
    "graph_plotter(X_2_train,weights_best_model,y_2_train,graph_label=None)"
   ]
  },
  {
   "cell_type": "markdown",
   "metadata": {},
   "source": [
    "## 2-2. Fit the data using 2nd order polynomial regression model (matrix form, gradient descent method)."
   ]
  },
  {
   "cell_type": "code",
   "execution_count": 113,
   "metadata": {},
   "outputs": [],
   "source": [
    "X_2_train_val, X_2_test, y_2_train_val, y_2_test = train_test_split(X_1_poly_d2_scaled_coloumn_added, Y_1, test_size=0.2,random_state=1)\n",
    "X_2_train, X_2_val, y_2_train, y_2_val = train_test_split(X_2_train_val, y_2_train_val, test_size=0.25,random_state=1)"
   ]
  },
  {
   "cell_type": "code",
   "execution_count": 114,
   "metadata": {},
   "outputs": [
    {
     "name": "stdout",
     "output_type": "stream",
     "text": [
      "(10000, 0.1)\n"
     ]
    },
    {
     "data": {
      "image/png": "[encoded data removed]",
      "text/plain": [
       "<matplotlib.figure.Figure at 0x120e464e0>"
      ]
     },
     "metadata": {},
     "output_type": "display_data"
    }
   ],
   "source": [
    "best_model_2 = train_val_best_model(X_2_train, X_2_val, y_2_train, y_2_val,2)\n",
    "weights_best_model_2 = weight_optimizer(X_2_train,2,y_2_train,learn_rate = best_model_2 [1],epochs = best_model_2 [0],regularisation_alpha=0)"
   ]
  },
  {
   "cell_type": "markdown",
   "metadata": {},
   "source": [
    "#### RMSE - Train,test Deg -2"
   ]
  },
  {
   "cell_type": "code",
   "execution_count": 115,
   "metadata": {},
   "outputs": [
    {
     "name": "stdout",
     "output_type": "stream",
     "text": [
      "rmse_train 0.211396286675897\n",
      "rmse_test 0.4818349795838404\n"
     ]
    }
   ],
   "source": [
    "rmse_train_2 = rmse_calculator(X_2_train,weights_best_model_2,y_2_train)\n",
    "rmse_test_2 = rmse_calculator(X_2_test,weights_best_model_2,y_2_test)\n",
    "print(\"rmse_train\",rmse_train_2)\n",
    "print(\"rmse_test\",rmse_test_2)"
   ]
  },
  {
   "cell_type": "markdown",
   "metadata": {},
   "source": [
    "#### Graph Train Deg-2"
   ]
  },
  {
   "cell_type": "code",
   "execution_count": 116,
   "metadata": {},
   "outputs": [
    {
     "name": "stderr",
     "output_type": "stream",
     "text": [
      "No handles with labels found to put in legend.\n"
     ]
    },
    {
     "data": {
      "image/png": "[encoded data removed]",
      "text/plain": [
       "<matplotlib.figure.Figure at 0x120f1e828>"
      ]
     },
     "metadata": {},
     "output_type": "display_data"
    }
   ],
   "source": [
    "graph_plotter(X_2_train,weights_best_model_2,y_2_train,graph_label=None)"
   ]
  },
  {
   "cell_type": "markdown",
   "metadata": {},
   "source": [
    "## 2-3. Fit the data using 4th order polynomial regression model (matrix form, gradient descent method)."
   ]
  },
  {
   "cell_type": "code",
   "execution_count": 140,
   "metadata": {},
   "outputs": [],
   "source": [
    "X_4_train_val, X_4_test, y_4_train_val, y_4_test = train_test_split(X_1_poly_d4_scaled_coloumn_added, Y_1, test_size=0.2,random_state=1)\n",
    "X_4_train, X_4_val, y_4_train, y_4_val = train_test_split(X_4_train_val, y_4_train_val, test_size=0.25,random_state=1)"
   ]
  },
  {
   "cell_type": "code",
   "execution_count": 141,
   "metadata": {},
   "outputs": [
    {
     "name": "stdout",
     "output_type": "stream",
     "text": [
      "(10000, 0.01)\n"
     ]
    },
    {
     "data": {
      "image/png": "[encoded data removed]",
      "text/plain": [
       "<matplotlib.figure.Figure at 0x120d7e320>"
      ]
     },
     "metadata": {},
     "output_type": "display_data"
    }
   ],
   "source": [
    "best_model_4 = train_val_best_model(X_4_train, X_4_val, y_4_train, y_4_val,4)\n",
    "weights_best_model_4 = weight_optimizer(X_4_train,4,y_4_train,learn_rate = best_model_4 [1],epochs = best_model_4 [0],regularisation_alpha=0)"
   ]
  },
  {
   "cell_type": "markdown",
   "metadata": {},
   "source": [
    "#### RMSE - Train,test Deg -4"
   ]
  },
  {
   "cell_type": "code",
   "execution_count": 142,
   "metadata": {},
   "outputs": [
    {
     "name": "stdout",
     "output_type": "stream",
     "text": [
      "rmse_train 0.20310265799692462\n",
      "rmse_test 0.4811868089582346\n"
     ]
    }
   ],
   "source": [
    "rmse_train_4 = rmse_calculator(X_4_train,weights_best_model_4,y_4_train)\n",
    "rmse_test_4 = rmse_calculator(X_4_test,weights_best_model_4,y_4_test)\n",
    "print(\"rmse_train\",rmse_train_4)\n",
    "print(\"rmse_test\",rmse_test_4)"
   ]
  },
  {
   "cell_type": "code",
   "execution_count": 143,
   "metadata": {},
   "outputs": [
    {
     "name": "stderr",
     "output_type": "stream",
     "text": [
      "No handles with labels found to put in legend.\n"
     ]
    },
    {
     "data": {
      "image/png": "[encoded data removed]",
      "text/plain": [
       "<matplotlib.figure.Figure at 0x120d7e828>"
      ]
     },
     "metadata": {},
     "output_type": "display_data"
    }
   ],
   "source": [
    "graph_plotter(X_4_train,weights_best_model_4,y_4_train,graph_label=None)"
   ]
  },
  {
   "cell_type": "markdown",
   "metadata": {},
   "source": [
    "## 2-4. Fit the data using 16th order polynomial regression model (matrix form, gradient descent method)."
   ]
  },
  {
   "cell_type": "code",
   "execution_count": 121,
   "metadata": {},
   "outputs": [],
   "source": [
    "X_16_train_val, X_16_test, y_16_train_val, y_16_test = train_test_split(X_1_poly_d16_scaled_coloumn_added, Y_1, test_size=0.2,random_state=1)\n",
    "X_16_train, X_16_val, y_16_train, y_16_val = train_test_split(X_16_train_val, y_16_train_val, test_size=0.25,random_state=1)"
   ]
  },
  {
   "cell_type": "markdown",
   "metadata": {},
   "source": [
    "#### Train_validation_causes_error !!!"
   ]
  },
  {
   "cell_type": "code",
   "execution_count": null,
   "metadata": {},
   "outputs": [],
   "source": [
    "best_model_16 = train_val_best_model(X_16_train, X_16_val, y_16_train, y_16_val,16)\n",
    "weights_best_model_16 = weight_optimizer(X_16_train,16,y_16_train,learn_rate = best_model_16 [1],epochs = best_model_16 [0],regularisation_alpha=0)"
   ]
  },
  {
   "cell_type": "markdown",
   "metadata": {},
   "source": [
    "## 2-5. Fit the data using 16th order polynomial regression model with ridge (L2 penalty) regularization."
   ]
  },
  {
   "cell_type": "code",
   "execution_count": 148,
   "metadata": {},
   "outputs": [],
   "source": [
    "def train_val_best_model_ridge(X_1_train, X_1_val, y_1_train, y_1_val,degree):\n",
    "    epochs = [10000]\n",
    "    learning_rate = [.01]\n",
    "    regularisation_alpa = [0.1] \n",
    "    train_errors, val_errors = [], []\n",
    "    counter = 1\n",
    "    combination = {}\n",
    "    for epoch in epochs:\n",
    "        for rate in learning_rate:\n",
    "            for alpha in regularisation_alpa:\n",
    "                weights = weight_optimizer(X_1_train,degree,y_1_train,learn_rate = rate,epochs = epoch, \\\n",
    "                                           regularisation_alpha=alpha)\n",
    "                rmse_train = rmse_calculator(X_1_train,weights,y_1_train)\n",
    "                rmse_val = rmse_calculator(X_1_val,weights,y_1_val)\n",
    "                train_errors.append(rmse_train)\n",
    "                val_errors.append(rmse_val)\n",
    "                combination[counter] = (epoch,rate,alpha)\n",
    "                counter += 1\n",
    "    plt.plot(train_errors, \"r-+\", linewidth=2, label=\"train\")\n",
    "    plt.plot(val_errors, \"b-\", linewidth=3, label=\"val\")\n",
    "    legend = plt.legend(loc='upper right', shadow=True)\n",
    "    ## Find the lowest validation error\n",
    "    counter_val_error = list(enumerate(val_errors, 1))\n",
    "    counter_val_error_sorted = sorted(counter_val_error, key=lambda x:x[1])\n",
    "    best_model = combination[(counter_val_error_sorted[0][0])]\n",
    "    print(best_model)\n",
    "    return best_model"
   ]
  },
  {
   "cell_type": "code",
   "execution_count": null,
   "metadata": {},
   "outputs": [],
   "source": [
    "best_model_16_ridge = train_val_best_model(X_16_train, X_16_val, y_16_train, y_16_val,16)\n",
    "weights_best_model_16_ridge = weight_optimizer(X_16_train,16,y_16_train,learn_rate = best_model_16_ridge [1],epochs = best_model_16_ridge [0],regularisation_alpha=best_model_16_ridge [2])"
   ]
  },
  {
   "cell_type": "code",
   "execution_count": null,
   "metadata": {},
   "outputs": [],
   "source": []
  }
 ],
 "metadata": {
  "kernelspec": {
   "display_name": "Python 3",
   "language": "python",
   "name": "python3"
  },
  "language_info": {
   "codemirror_mode": {
    "name": "ipython",
    "version": 3
   },
   "file_extension": ".py",
   "mimetype": "text/x-python",
   "name": "python",
   "nbconvert_exporter": "python",
   "pygments_lexer": "ipython3",
   "version": "3.5.2"
  },
  "widgets": {
   "state": {},
   "version": "1.1.2"
  }
 },
 "nbformat": 4,
 "nbformat_minor": 2
}
