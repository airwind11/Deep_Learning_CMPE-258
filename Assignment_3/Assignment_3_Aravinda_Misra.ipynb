{
 "cells": [
  {
   "cell_type": "code",
   "execution_count": 81,
   "metadata": {
    "collapsed": true
   },
   "outputs": [],
   "source": [
    "import numpy as np\n",
    "import pandas as pd\n",
    "import matplotlib.pyplot as plt\n",
    "from collections import defaultdict\n",
    "import random\n",
    "%matplotlib inline"
   ]
  },
  {
   "cell_type": "code",
   "execution_count": 82,
   "metadata": {
    "collapsed": true
   },
   "outputs": [],
   "source": [
    "Mnist_df = pd.read_csv(\"ex3_train.csv\")\n",
    "# Alternative way of doing -----Mnist_df_train_data = Mnist_df.as_matrix(columns=Mnist_df.columns[0:400])\n",
    "Mnist_df_train_data = Mnist_df.values\n",
    "Mnist_df_train_label = Mnist_df.as_matrix(columns=Mnist_df.columns[400:401])\n",
    "#Mnist_df_train_data_with_bias = np.c_[np.ones((Mnist_df_train_data.shape[0] ,1)),Mnist_df_train_data]## Add 1 for the bias"
   ]
  },
  {
   "cell_type": "code",
   "execution_count": 83,
   "metadata": {
    "collapsed": true
   },
   "outputs": [],
   "source": [
    "Mnist_df_test = pd.read_csv(\"ex3_test.csv\")\n",
    "Mnist_df_test_data = Mnist_df_test.values\n",
    "Mnist_df_test_label = Mnist_df_test.as_matrix(columns=Mnist_df.columns[400:401])\n",
    "#Mnist_df_test_data_with_bias = np.c_[np.ones((Mnist_df_test_data.shape[0] ,1)),Mnist_df_test_data]## Add 1 for the bias"
   ]
  },
  {
   "cell_type": "code",
   "execution_count": 84,
   "metadata": {},
   "outputs": [
    {
     "name": "stdout",
     "output_type": "stream",
     "text": [
      "7.0\n"
     ]
    },
    {
     "data": {
      "image/png": "[encoded data removed]",
      "text/plain": [
       "<matplotlib.figure.Figure at 0x109aa15f8>"
      ]
     },
     "metadata": {},
     "output_type": "display_data"
    }
   ],
   "source": [
    "fig = plt.figure(figsize=(1,1))\n",
    "plt.imshow(np.reshape(Mnist_df_train_data[:,:-1][2],[20,20]).T,cmap='gray')\n",
    "print (Mnist_df_train_data[2][-1])"
   ]
  },
  {
   "cell_type": "code",
   "execution_count": 85,
   "metadata": {
    "collapsed": true
   },
   "outputs": [],
   "source": [
    "## Label set - containing unique labels\n",
    "Mnist_df_train_label_uq = set(Mnist_df.values[:,400].astype(int))"
   ]
  },
  {
   "cell_type": "code",
   "execution_count": 86,
   "metadata": {
    "collapsed": true
   },
   "outputs": [],
   "source": [
    "## Being used for this assignment\n",
    "def label_dict_gen(label_set): ## Useful for scaling if  huge number of labels (both number and string)\n",
    "    label_dict = {}\n",
    "    count = 0\n",
    "    for label in label_set:\n",
    "        label_dict[label]=count\n",
    "        count +=1\n",
    "    return label_dict"
   ]
  },
  {
   "cell_type": "code",
   "execution_count": 87,
   "metadata": {
    "collapsed": true
   },
   "outputs": [],
   "source": [
    "def sigmoid(data):\n",
    "    return 1/(1+np.exp(-data))"
   ]
  },
  {
   "cell_type": "code",
   "execution_count": 88,
   "metadata": {
    "collapsed": true
   },
   "outputs": [],
   "source": [
    "def softmax_prediction(data):\n",
    "    result= np.exp(data) / np.sum(np.exp(data-np.max(data)), axis=1, keepdims=True)\n",
    "    return result ## The max proability per coloumn(each coloumn represents a record , and \n",
    "                                         ## The complete result matrix to calculate the loss"
   ]
  },
  {
   "cell_type": "code",
   "execution_count": 89,
   "metadata": {
    "collapsed": true
   },
   "outputs": [],
   "source": [
    "def forward_prop(data,weights_list):\n",
    "    hidden_input = np.dot(data[:,:-1],weights_list[0])+weights_list[1]\n",
    "    hidden_output = sigmoid(hidden_input)\n",
    "    #hidden_output = np.c_[np.ones((hidden_output.shape[0] ,1)),hidden_output]## Add 1 for the bias\n",
    "    output_before_softmax = np.dot(hidden_output,weights_list[2])+weights_list[3]\n",
    "    softmax_output = softmax_prediction(output_before_softmax)\n",
    "    return softmax_output"
   ]
  },
  {
   "cell_type": "code",
   "execution_count": 90,
   "metadata": {
    "collapsed": true
   },
   "outputs": [],
   "source": [
    "def Backward_prop(data,initial_weights,label_dict,learning_rate):\n",
    "    hidden_input = np.dot(data[:,:-1],initial_weights[0])+initial_weights[1]\n",
    "    hidden_output = sigmoid(hidden_input)\n",
    "    #hidden_output = np.c_[np.ones((hidden_output.shape[0] ,1)),hidden_output]## Add 1 for the bias\n",
    "    output_before_softmax = np.dot(hidden_output,initial_weights[2])+initial_weights[3]\n",
    "    softmax_output = softmax_prediction(output_before_softmax)\n",
    "    \n",
    "    label_general = [label_dict[label] for label in data[:,-1]]\n",
    "    label_general = np.asarray(label_general)\n",
    "    \n",
    "    #print (\"label\",label_general)\n",
    "    ## Andrej Karpathy Course calcualting the product of softmax with autoencodin to give the cross-entropy array                 \n",
    "    corect_logprobs = -np.log(softmax_output[range(softmax_output.shape[0]),label_general])\n",
    "    ## Sum the individual terms of output of autoencoding snd softmax in the above step and average it\n",
    "    loss = np.sum(corect_logprobs)/softmax_output.shape[0]    \n",
    "    \n",
    "  # compute the gradient on scores\n",
    "    dsoftmax = softmax_output\n",
    "    dsoftmax[range(softmax_output.shape[0]),label_general] -= 1 ## Very elegant only the element with true label is updated\n",
    "    dsoftmax /= softmax_output.shape[0]\n",
    "    \n",
    "  # backpropate the gradient to the 2nd layer weight\n",
    "    dW1 = np.dot(hidden_output.T, dsoftmax)\n",
    "    db1 = np.sum(dsoftmax, axis=0, keepdims=True)\n",
    "    \n",
    "  # perform a parameter update\n",
    "    gradient_descent(initial_weights[2],dW1,learning_rate)\n",
    "    gradient_descent(initial_weights[3],db1,learning_rate)\n",
    "    \n",
    "    \n",
    "    dlast = np.dot(dsoftmax,initial_weights[2].T)\n",
    "    dsigmoid = np.multiply(hidden_output,(1-hidden_output))\n",
    "    dhidden = np.multiply(dlast,dsigmoid)\n",
    "    \n",
    "  # Backpropagate the gradient to 1st layer weights\n",
    "    dW0 = np.dot(data[:,:-1].T,dhidden)\n",
    "    db0 = np.sum(dhidden, axis=0, keepdims=True)\n",
    "    \n",
    "  # perform a parameter update\n",
    "    gradient_descent(initial_weights[0],dW0,learning_rate)\n",
    "    gradient_descent(initial_weights[1],db0,learning_rate)\n",
    "    return loss"
   ]
  },
  {
   "cell_type": "code",
   "execution_count": 91,
   "metadata": {
    "collapsed": true
   },
   "outputs": [],
   "source": [
    "def gradient_descent(weights,gradient,learning_rate):\n",
    "    weights += -learning_rate * gradient"
   ]
  },
  {
   "cell_type": "code",
   "execution_count": 92,
   "metadata": {
    "collapsed": true
   },
   "outputs": [],
   "source": [
    "def SGD(training_data, epochs, mini_batch_size,initial_weights,Loss_graph,learning_rate = .01):\n",
    "        n = training_data.shape[0]\n",
    "        print (\"For Learning Rate\" ,learning_rate )\n",
    "        for epoch in range(epochs):\n",
    "            if mini_batch_size<n :\n",
    "                np.random.shuffle(training_data)\n",
    "            mini_batches = [training_data[k:k+mini_batch_size]for k in range(0, n, mini_batch_size)]\n",
    "            #print (len(mini_batches))\n",
    "            for mini_batch in mini_batches:\n",
    "                ## Loss gets updated with each batch and after the loop ends , the loss reflects the loss at end of 1 epoch\n",
    "                Loss = Backward_prop(mini_batch,initial_weights,label_dict,learning_rate)\n",
    "                #print (mini_batch[:,-1])\n",
    "                #break\n",
    "            #break\n",
    "            if epoch % 1000== 0:\n",
    "                Loss_graph[learning_rate].append([Loss,epoch])\n",
    "                print (\"iteration %d: loss %f\" % (epoch, Loss))\n",
    "                softmax_output = forward_prop(training_data,initial_weights)\n",
    "                prediction = np.argmax(softmax_output, axis=1)\n",
    "                label_general = [label_dict_gen(Mnist_df_train_label_uq)[label] for label in training_data[:,-1]]\n",
    "                label_general = np.asarray(label_general)\n",
    "                print(prediction,label_general)\n",
    "                accuracy = np.mean(prediction == label_general)\n",
    "                print ('training accuracy: %.4f' % accuracy)\n",
    "                #if accuracy>0.95  :\n",
    "                    #break\n",
    "                "
   ]
  },
  {
   "cell_type": "code",
   "execution_count": 93,
   "metadata": {
    "collapsed": true
   },
   "outputs": [],
   "source": [
    "h = 25 # size of hidden layer\n",
    "features = 400 # dimensionality\n",
    "classes = 10 # number of classes\n",
    "np.random.seed(1)\n",
    "label_dict = label_dict_gen(Mnist_df_train_label_uq)\n",
    "learning_rate_list = [.01,.1,1]"
   ]
  },
  {
   "cell_type": "code",
   "execution_count": null,
   "metadata": {},
   "outputs": [],
   "source": [
    "## Doing this for Full Batch\n",
    "Loss_graph_AllData = defaultdict(list)\n",
    "batch_size = 3500\n",
    "epochs_full = 10000\n",
    "Weights_basedOn_Learning_Rate_fullbatch = defaultdict(list)\n",
    "## Doing this for Full Batch\n",
    "for learning_rate in learning_rate_list:\n",
    "    W0 = 0.01 * np.random.randn(features,h)\n",
    "    b0 = np.zeros((1,h))\n",
    "    W1 = 0.01 * np.random.randn(h,classes)\n",
    "    b1 = np.zeros((1,classes))\n",
    "    initial_weights = [W0,b0,W1,b1]\n",
    "    SGD(Mnist_df_train_data, epochs_full, batch_size,initial_weights,Loss_graph_AllData,learning_rate)\n",
    "    Weights_basedOn_Learning_Rate_fullbatch[learning_rate] = initial_weights"
   ]
  },
  {
   "cell_type": "code",
   "execution_count": null,
   "metadata": {
    "collapsed": true
   },
   "outputs": [],
   "source": [
    "# ## Doing this for mini Batch\n",
    "# Loss_graph_stochastic = defaultdict(list)\n",
    "# batch_size = 3500\n",
    "# epochs_stochastic = 100000\n",
    "# Weights_basedOn_Learning_Rate = defaultdict(list)\n",
    "# np.random.seed(1)\n",
    "# for learning_rate in learning_rate_list:\n",
    "#     W0_mini =  .01 * np.random.randn(features,h)\n",
    "#     b0_mini = np.zeros((1,h))\n",
    "#     W1_mini =  .01 * np.random.randn(h,classes)\n",
    "#     b1_mini = np.zeros((1,classes))\n",
    "#     initial_weights_mini = [W0_mini,b0_mini,W1_mini,b1_mini]\n",
    "#     SGD(Mnist_df_train_data, epochs_stochastic, batch_size,initial_weights_mini,Loss_graph_stochastic,learning_rate)\n",
    "#     Weights_basedOn_Learning_Rate[learning_rate]=initial_weights_mini"
   ]
  },
  {
   "cell_type": "code",
   "execution_count": 95,
   "metadata": {},
   "outputs": [
    {
     "name": "stdout",
     "output_type": "stream",
     "text": [
      "[5 9 7 ... 0 5 2] [5 9 7 ... 0 5 2]\n",
      "Training_accuracy: 1.00\n"
     ]
    }
   ],
   "source": [
    "softmax_output_train = forward_prop(Mnist_df_train_data,Weights_basedOn_Learning_Rate_fullbatch[1])\n",
    "label_general_train = [label_dict[label] for label in Mnist_df_train_data[:,-1]]\n",
    "label_general_train = np.asarray(label_general_train)\n",
    "prediction_train = np.argmax(softmax_output_train, axis=1)\n",
    "print (prediction_train,label_general_train)\n",
    "print ('Training_accuracy: %.2f' % (np.mean(prediction_train == label_general_train)))"
   ]
  },
  {
   "cell_type": "code",
   "execution_count": 96,
   "metadata": {},
   "outputs": [
    {
     "name": "stdout",
     "output_type": "stream",
     "text": [
      "[9 5 5 ... 1 7 0] [9 6 5 ... 1 7 0]\n",
      "Testing_accuracy: 0.92\n"
     ]
    }
   ],
   "source": [
    "softmax_output_test = forward_prop(Mnist_df_test_data,Weights_basedOn_Learning_Rate_fullbatch[1])\n",
    "label_general_test = [label_dict[label] for label in Mnist_df_test_data[:,-1]]\n",
    "label_general_test = np.asarray(label_general_test)\n",
    "prediction_test = np.argmax(softmax_output_test, axis=1)\n",
    "print (prediction_test,label_general_test)\n",
    "print ('Testing_accuracy: %.2f' % (np.mean(prediction_test == label_general_test)))"
   ]
  },
  {
   "cell_type": "code",
   "execution_count": 97,
   "metadata": {},
   "outputs": [
    {
     "data": {
      "image/png": "[encoded data removed]",
      "text/plain": [
       "<matplotlib.figure.Figure at 0x113c76438>"
      ]
     },
     "metadata": {},
     "output_type": "display_data"
    }
   ],
   "source": [
    "fig = plt.figure(figsize=(10,8))\n",
    "plt.ylabel('Loss')\n",
    "plt.xlabel('Iteration')\n",
    "for key, value in Loss_graph_AllData.items():\n",
    "    arrayvalue = np.asarray(value)\n",
    "    plt.plot(arrayvalue[:,1],arrayvalue[:,0],'-+',label=\"Learning Rate % 0.4f\" %key)\n",
    "    legend = plt.legend(loc='upper right', shadow=True)"
   ]
  },
  {
   "cell_type": "code",
   "execution_count": null,
   "metadata": {
    "collapsed": true
   },
   "outputs": [],
   "source": []
  }
 ],
 "metadata": {
  "kernelspec": {
   "display_name": "Python 3",
   "language": "python",
   "name": "python3"
  },
  "language_info": {
   "codemirror_mode": {
    "name": "ipython",
    "version": 3
   },
   "file_extension": ".py",
   "mimetype": "text/x-python",
   "name": "python",
   "nbconvert_exporter": "python",
   "pygments_lexer": "ipython3",
   "version": "3.5.2"
  },
  "widgets": {
   "state": {},
   "version": "1.1.2"
  }
 },
 "nbformat": 4,
 "nbformat_minor": 2
}
