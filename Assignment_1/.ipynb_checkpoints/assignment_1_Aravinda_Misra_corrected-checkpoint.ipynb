{
 "cells": [
  {
   "cell_type": "markdown",
   "metadata": {},
   "source": [
    "## Place csv in the same folder as .pynb notebook"
   ]
  },
  {
   "cell_type": "code",
   "execution_count": 1,
   "metadata": {},
   "outputs": [],
   "source": [
    "import matplotlib\n",
    "import matplotlib.pyplot as plt\n",
    "import numpy as np\n",
    "import pandas as pd\n",
    "from sklearn import linear_model\n",
    "from sklearn.preprocessing import StandardScaler\n",
    "from sklearn.metrics import mean_squared_error\n",
    "from math import sqrt\n",
    "import tensorflow as tf"
   ]
  },
  {
   "cell_type": "markdown",
   "metadata": {},
   "source": [
    "## 1 Linear regression with one variable from scratch"
   ]
  },
  {
   "cell_type": "code",
   "execution_count": 2,
   "metadata": {},
   "outputs": [],
   "source": [
    "data1 = pd.read_csv(\"ex1data1.csv\",header=None)\n",
    "X_1= data1.as_matrix(columns=data1.columns[0:1])\n",
    "Y_1 = data1.as_matrix(columns=data1.columns[1:])\n",
    "X_new_1 = np.c_[np.ones((data1.shape[0], 1)), X_1]"
   ]
  },
  {
   "cell_type": "code",
   "execution_count": 18,
   "metadata": {},
   "outputs": [
    {
     "name": "stdout",
     "output_type": "stream",
     "text": [
      "[1.19303364] [-3.89578088]\n"
     ]
    }
   ],
   "source": [
    "from __future__ import division\n",
    "eta = 0.01  # learning rate\n",
    "n_iterations = 10000\n",
    "m1 = data1.shape[0]\n",
    "theta_0 = np.random.randn()\n",
    "theta_1 = np.random.randn()  # random initialization\n",
    "gradients_X = 0\n",
    "gradients_b = 0\n",
    "for iteration in range(n_iterations):\n",
    "    for x in range(m1):\n",
    "        gradients_b = gradients_b+2*((X_new_1[x,1]*theta_1 + theta_0)-Y_1[x])\n",
    "        gradients_X = gradients_X+2*X_new_1[x,1]*((X_new_1[x,1]*theta_1 + theta_0)-Y_1[x])\n",
    "    gradients_b = gradients_b/m1\n",
    "    gradients_X = gradients_X/m1\n",
    "    theta_1 = theta_1 - eta * gradients_X\n",
    "    theta_0 = theta_0 - eta * gradients_b\n",
    "print (theta_1,theta_0)"
   ]
  },
  {
   "cell_type": "code",
   "execution_count": 6,
   "metadata": {},
   "outputs": [
    {
     "name": "stdout",
     "output_type": "stream",
     "text": [
      "[[-3.89578088]\n",
      " [ 1.19303364]]\n"
     ]
    }
   ],
   "source": [
    "## TO Verify\n",
    "\n",
    "theta_normal1 = np.linalg.inv(X_new_1.T.dot(X_new_1)).dot(X_new_1.T).dot(Y_1)\n",
    "print (theta_normal1)\n"
   ]
  },
  {
   "cell_type": "markdown",
   "metadata": {},
   "source": [
    "# 1 RMSE Linear regression with one variable from scratch \n",
    "\n"
   ]
  },
  {
   "cell_type": "code",
   "execution_count": 21,
   "metadata": {},
   "outputs": [
    {
     "name": "stdout",
     "output_type": "stream",
     "text": [
      "[2.99231395]\n"
     ]
    }
   ],
   "source": [
    "errorsquare = 0 \n",
    "for x in range(m1):\n",
    "    predict = X_new_1[x,1]*theta_1+theta_0\n",
    "    errorsquare  = errorsquare+ np.square(predict-Y_1[x])\n",
    "rms_1 = np.sqrt(errorsquare/m1)\n",
    "print (rms_1)"
   ]
  },
  {
   "cell_type": "markdown",
   "metadata": {},
   "source": [
    "# 2 -Linear regression with two variables from scratch"
   ]
  },
  {
   "cell_type": "code",
   "execution_count": 23,
   "metadata": {},
   "outputs": [
    {
     "name": "stderr",
     "output_type": "stream",
     "text": [
      "/anaconda2/envs/carnd-term1/lib/python3.5/site-packages/sklearn/utils/validation.py:475: DataConversionWarning: Data with input dtype int64 was converted to float64 by StandardScaler.\n",
      "  warnings.warn(msg, DataConversionWarning)\n"
     ]
    }
   ],
   "source": [
    "data2 = pd.read_csv(\"ex1data2.csv\",header=None)\n",
    "scaler = StandardScaler()\n",
    "X = data2.as_matrix(columns=data2.columns[0:2])\n",
    "Y = data2.as_matrix(columns=data2.columns[2:])\n",
    "X_new = scaler.fit_transform(X)\n",
    "X_new = np.c_[np.ones((data2.shape[0], 1)), X_new]"
   ]
  },
  {
   "cell_type": "code",
   "execution_count": 28,
   "metadata": {},
   "outputs": [
    {
     "name": "stdout",
     "output_type": "stream",
     "text": [
      "[109440.847039] [-6571.3583103] [340412.76559315]\n"
     ]
    }
   ],
   "source": [
    "eta = 0.01  # learning rate\n",
    "n_iterations = 1000\n",
    "m1_2 = data2.shape[0]\n",
    "theta_2_0 = np.random.randn()\n",
    "theta_2_1 = np.random.randn()\n",
    "theta_2_2 = np.random.randn()# random initialization\n",
    "gradients_X1 = 0\n",
    "gradients_X2 = 0\n",
    "gradients_b = 0\n",
    "for iteration in range(n_iterations):\n",
    "    for x in range(m1_2):\n",
    "        gradients_b = gradients_b+2*((X_new[x,1]*theta_2_1 + X_new[x,1]*theta_2_2 + theta_2_0)-Y[x])\n",
    "        gradients_X1 = gradients_X1+2*X_new[x,1]*((X_new[x,1]*theta_2_1 +X_new[x,2]*theta_2_2+ theta_2_0)-Y[x])\n",
    "        gradients_X2 = gradients_X2+2*X_new[x,2]*((X_new[x,1]*theta_2_1 +X_new[x,2]*theta_2_2+ theta_2_0)-Y[x])\n",
    "    gradients_b = gradients_b/m1_2\n",
    "    gradients_X1 = gradients_X1/m1_2\n",
    "    gradients_X2 = gradients_X2/m1_2\n",
    "    theta_2_0 = theta_2_0 - eta * gradients_b\n",
    "    theta_2_1 = theta_2_1 - eta * gradients_X1\n",
    "    theta_2_2 = theta_2_2 - eta * gradients_X2\n",
    "print (theta_2_1,theta_2_2,theta_2_0)"
   ]
  },
  {
   "cell_type": "markdown",
   "metadata": {},
   "source": [
    "# 2 -Linear regression with two variables from scratch - RMSE\n"
   ]
  },
  {
   "cell_type": "code",
   "execution_count": 29,
   "metadata": {},
   "outputs": [
    {
     "name": "stdout",
     "output_type": "stream",
     "text": [
      "[63926.21525564]\n"
     ]
    }
   ],
   "source": [
    "errorsquare2 = 0 \n",
    "for x in range(m1_2):\n",
    "    predict = X_new[x,1]*theta_2_1+X_new[x,2]*theta_2_2+theta_2_0\n",
    "    errorsquare2  = errorsquare2+ np.square(predict-Y[x])\n",
    "rms_2 = np.sqrt(errorsquare2/m1_2)\n",
    "print (rms_2)"
   ]
  },
  {
   "cell_type": "markdown",
   "metadata": {},
   "source": [
    "# 2-1 Linear regression with two variables using matrix"
   ]
  },
  {
   "cell_type": "code",
   "execution_count": 31,
   "metadata": {},
   "outputs": [
    {
     "name": "stdout",
     "output_type": "stream",
     "text": [
      "[[340412.76595745]\n",
      " [109447.76551898]\n",
      " [ -6578.27679028]]\n"
     ]
    }
   ],
   "source": [
    "\n",
    "eta = 0.01  # learning rate\n",
    "n_iterations = 10000\n",
    "theta = np.random.randn(data2.shape[1],1)  # random initialization\n",
    "for iteration in range(n_iterations):\n",
    "    #print (iteration)\n",
    "    gradients = 2/m1_2 * X_new.T.dot(X_new.dot(theta)- Y)\n",
    "    theta = theta - eta * gradients\n",
    "print (theta)"
   ]
  },
  {
   "cell_type": "markdown",
   "metadata": {},
   "source": [
    "### 2-1 RMSE Linear regression with two variables using matrix"
   ]
  },
  {
   "cell_type": "code",
   "execution_count": 32,
   "metadata": {},
   "outputs": [
    {
     "name": "stdout",
     "output_type": "stream",
     "text": [
      "63926.21492615641\n"
     ]
    }
   ],
   "source": [
    "predict_y = X_new.dot(theta)\n",
    "rms = sqrt(mean_squared_error(Y, predict_y))\n",
    "print (rms)"
   ]
  },
  {
   "cell_type": "markdown",
   "metadata": {},
   "source": [
    "# 2-2. Linear regression with two variables using Normal equation"
   ]
  },
  {
   "cell_type": "code",
   "execution_count": 33,
   "metadata": {},
   "outputs": [
    {
     "name": "stdout",
     "output_type": "stream",
     "text": [
      "[[340412.76595745]\n",
      " [109447.76551898]\n",
      " [ -6578.27679028]]\n"
     ]
    }
   ],
   "source": [
    "theta_normal = np.linalg.inv(X_new.T.dot(X_new)).dot(X_new.T).dot(Y)\n",
    "print (theta_normal)\n"
   ]
  },
  {
   "cell_type": "markdown",
   "metadata": {},
   "source": [
    "### 2-2 RMSE Linear regression with two variables using matrix"
   ]
  },
  {
   "cell_type": "code",
   "execution_count": 34,
   "metadata": {},
   "outputs": [
    {
     "name": "stdout",
     "output_type": "stream",
     "text": [
      "63926.2149261564\n"
     ]
    }
   ],
   "source": [
    "predict_y2 = X_new.dot(theta_normal)\n",
    "rms_2_normal = sqrt(mean_squared_error(Y, predict_y2))\n",
    "print (rms_2_normal)"
   ]
  },
  {
   "cell_type": "markdown",
   "metadata": {},
   "source": [
    "# 3 Linear regression with multiple variables\n",
    "## 3-1. Linear regression with multiple variables using matrix"
   ]
  },
  {
   "cell_type": "code",
   "execution_count": 35,
   "metadata": {},
   "outputs": [],
   "source": [
    "data3 = pd.read_csv(\"ex1data3.csv\")\n",
    "del data3['Unnamed: 0']"
   ]
  },
  {
   "cell_type": "code",
   "execution_count": 36,
   "metadata": {},
   "outputs": [],
   "source": [
    "X_3 = data3.as_matrix(columns=data3.columns[0:8])\n",
    "Y_3 = data3.as_matrix(columns=data3.columns[8:])\n",
    "X_3_new = scaler.fit_transform(X_3)\n",
    "X_3_new = np.c_[np.ones((data3.shape[0], 1)), X_3_new]"
   ]
  },
  {
   "cell_type": "code",
   "execution_count": 37,
   "metadata": {},
   "outputs": [
    {
     "name": "stdout",
     "output_type": "stream",
     "text": [
      "[[ 2.06855817]\n",
      " [ 0.82961554]\n",
      " [ 0.11875097]\n",
      " [-0.26551973]\n",
      " [ 0.3056903 ]\n",
      " [-0.0045032 ]\n",
      " [-0.03932613]\n",
      " [-0.89989418]\n",
      " [-0.87054909]]\n"
     ]
    }
   ],
   "source": [
    "eta = 0.01  # learning rate\n",
    "n_iterations = 10000\n",
    "m3 = data3.shape[0]\n",
    "\n",
    "theta_3 = np.random.randn(data3.shape[1],1)  # random initialization\n",
    "for iteration in range(n_iterations):\n",
    "    #print (iteration)\n",
    "    gradients = 2/m3 * X_3_new.T.dot(X_3_new.dot(theta_3)- Y_3)\n",
    "    theta_3 = theta_3 - eta * gradients\n",
    "print (theta_3)"
   ]
  },
  {
   "cell_type": "markdown",
   "metadata": {},
   "source": [
    "## 3-1. RMSE -  Linear regression with multiple variables using matrix"
   ]
  },
  {
   "cell_type": "code",
   "execution_count": 20,
   "metadata": {},
   "outputs": [
    {
     "name": "stdout",
     "output_type": "stream",
     "text": [
      "0.7241001216741928\n"
     ]
    }
   ],
   "source": [
    "predict_y3 = X_3_new.dot(theta_3)\n",
    "rms_3_matrix = sqrt(mean_squared_error(Y_3, predict_y3))\n",
    "print (rms_3_matrix)"
   ]
  },
  {
   "cell_type": "markdown",
   "metadata": {},
   "source": [
    "## 3-2. Linear regression with multiple variables using Normal equation\n"
   ]
  },
  {
   "cell_type": "code",
   "execution_count": 21,
   "metadata": {},
   "outputs": [
    {
     "name": "stdout",
     "output_type": "stream",
     "text": [
      "[[ 2.06855817]\n",
      " [ 0.8296193 ]\n",
      " [ 0.11875165]\n",
      " [-0.26552688]\n",
      " [ 0.30569623]\n",
      " [-0.004503  ]\n",
      " [-0.03932627]\n",
      " [-0.89988565]\n",
      " [-0.870541  ]]\n"
     ]
    }
   ],
   "source": [
    "theta_3_normal = np.linalg.inv(X_3_new.T.dot(X_3_new)).dot(X_3_new.T).dot(Y_3)\n",
    "print (theta_3_normal)\n"
   ]
  },
  {
   "cell_type": "markdown",
   "metadata": {},
   "source": [
    "## 3-2. RMSE -  Linear regression with multiple variables using normal equation"
   ]
  },
  {
   "cell_type": "code",
   "execution_count": 22,
   "metadata": {},
   "outputs": [
    {
     "name": "stdout",
     "output_type": "stream",
     "text": [
      "0.7241001216576544\n"
     ]
    }
   ],
   "source": [
    "predict_y3_normal = X_3_new.dot(theta_3_normal)\n",
    "rms_3_normal = sqrt(mean_squared_error(Y_3, predict_y3_normal))\n",
    "print (rms_3_normal)"
   ]
  },
  {
   "cell_type": "markdown",
   "metadata": {},
   "source": [
    "## 3-3. Linear regression with multiple variables using scikit-learn linear regression model"
   ]
  },
  {
   "cell_type": "code",
   "execution_count": 23,
   "metadata": {},
   "outputs": [],
   "source": [
    "import sklearn\n",
    "regr_model = sklearn.linear_model.LinearRegression()\n",
    "X_3_regr_model = scaler.fit_transform(X_3)\n",
    "regr_model.fit(X_3_regr_model, Y_3)\n",
    "Y_predict_model = regr_model.predict(X_3_regr_model)"
   ]
  },
  {
   "cell_type": "markdown",
   "metadata": {},
   "source": [
    "## 3-3. RMSE - Linear regression with multiple variables using scikit-learn linear regression model"
   ]
  },
  {
   "cell_type": "code",
   "execution_count": 24,
   "metadata": {},
   "outputs": [
    {
     "name": "stdout",
     "output_type": "stream",
     "text": [
      "0.7241001216576544\n"
     ]
    }
   ],
   "source": [
    "\n",
    "rms_3_model = sqrt(mean_squared_error(Y_3, Y_predict_model))\n",
    "print (rms_3_model)"
   ]
  },
  {
   "cell_type": "markdown",
   "metadata": {},
   "source": [
    "## 3-4. Linear regression with multiple variables using TensorFlow with RMSE"
   ]
  },
  {
   "cell_type": "code",
   "execution_count": 25,
   "metadata": {},
   "outputs": [
    {
     "name": "stdout",
     "output_type": "stream",
     "text": [
      "0.7241\n"
     ]
    }
   ],
   "source": [
    "\n",
    "n_epochs = 10000\n",
    "learning_rate = 0.01\n",
    "tf.reset_default_graph()\n",
    "X_4 = tf.constant(X_3_new, dtype=tf.float32, name=\"X\")\n",
    "y = tf.constant(Y_3, dtype=tf.float32, name=\"y\")\n",
    "theta = tf.Variable(tf.random_uniform([data3.shape[1], 1], -1.0, 1.0), name=\"theta\")\n",
    "y_pred_4 = tf.matmul(X_4, theta, name=\"predictions\")\n",
    "error = y_pred_4 - y\n",
    "mse = tf.sqrt(tf.reduce_mean(tf.square(error), name=\"mse\"))\n",
    "gradients = 2/m3 * tf.matmul(tf.transpose(X_4), error)\n",
    "training_op = tf.assign(theta, theta - learning_rate * gradients)\n",
    "\n",
    "init = tf.global_variables_initializer()\n",
    "\n",
    "with tf.Session() as sess:\n",
    "    sess.run(init)\n",
    "\n",
    "    for epoch in range(n_epochs):\n",
    "        sess.run(training_op)\n",
    "    best_RMSE = mse.eval()\n",
    "    best_theta = theta.eval()\n",
    "    print (best_RMSE)"
   ]
  },
  {
   "cell_type": "code",
   "execution_count": null,
   "metadata": {},
   "outputs": [],
   "source": []
  }
 ],
 "metadata": {
  "kernelspec": {
   "display_name": "Python 3",
   "language": "python",
   "name": "python3"
  },
  "language_info": {
   "codemirror_mode": {
    "name": "ipython",
    "version": 3
   },
   "file_extension": ".py",
   "mimetype": "text/x-python",
   "name": "python",
   "nbconvert_exporter": "python",
   "pygments_lexer": "ipython3",
   "version": "3.5.2"
  },
  "widgets": {
   "state": {},
   "version": "1.1.2"
  }
 },
 "nbformat": 4,
 "nbformat_minor": 2
}
