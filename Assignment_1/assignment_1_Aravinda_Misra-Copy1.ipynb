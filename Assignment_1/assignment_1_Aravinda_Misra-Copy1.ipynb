{
 "cells": [
  {
   "cell_type": "markdown",
   "metadata": {},
   "source": [
    "## Place csv in the same folder as .pynb notebook"
   ]
  },
  {
   "cell_type": "code",
   "execution_count": 1,
   "metadata": {},
   "outputs": [],
   "source": [
    "import matplotlib\n",
    "import matplotlib.pyplot as plt\n",
    "import numpy as np\n",
    "import pandas as pd\n",
    "from sklearn import linear_model\n",
    "from sklearn.preprocessing import StandardScaler\n",
    "from sklearn.metrics import mean_squared_error\n",
    "from math import sqrt\n",
    "import tensorflow as tf"
   ]
  },
  {
   "cell_type": "markdown",
   "metadata": {},
   "source": [
    "## 1 Linear regression with one variable from scratch"
   ]
  },
  {
   "cell_type": "code",
   "execution_count": 2,
   "metadata": {},
   "outputs": [],
   "source": [
    "data1 = pd.read_csv(\"ex1data1.csv\",header=None)\n",
    "X_1= data1.as_matrix(columns=data1.columns[0:1])\n",
    "Y_1 = data1.as_matrix(columns=data1.columns[1:])\n",
    "X_new_1 = np.c_[np.ones((data1.shape[0], 1)), X_1]"
   ]
  },
  {
   "cell_type": "code",
   "execution_count": 48,
   "metadata": {},
   "outputs": [
    {
     "name": "stdout",
     "output_type": "stream",
     "text": [
      "[[1.     5.5277]]\n"
     ]
    }
   ],
   "source": [
    "print (X_new_1[1:2,:])"
   ]
  },
  {
   "cell_type": "code",
   "execution_count": 8,
   "metadata": {},
   "outputs": [
    {
     "name": "stdout",
     "output_type": "stream",
     "text": [
      "[[-3.89578088]\n",
      " [ 1.19303364]]\n"
     ]
    }
   ],
   "source": [
    "from __future__ import division\n",
    "eta = 0.01  # learning rate\n",
    "n_iterations = 10000\n",
    "m1 = data1.shape[0]\n",
    "theta_1 = np.random.randn(data1.shape[1],1)  # random initialization\n",
    "gradients = np.zeros((2, 1))\n",
    "for iteration in range(n_iterations):\n",
    "    for x in range(m1):\n",
    "        gradients = gradients+(X_new_1[x:x+1,:].T.dot(X_new_1[x:x+1,:].dot(theta_1)-Y_1[x:x+1,:])/0.5)\n",
    "    gradients = gradients/m1\n",
    "    theta_1 = theta_1 - eta * gradients\n",
    "print (theta_1)"
   ]
  },
  {
   "cell_type": "code",
   "execution_count": 31,
   "metadata": {},
   "outputs": [
    {
     "name": "stdout",
     "output_type": "stream",
     "text": [
      "[[-3.89578088]\n",
      " [ 1.19303364]]\n"
     ]
    }
   ],
   "source": [
    "## TO Verify\n",
    "\n",
    "theta_normal1 = np.linalg.inv(X_new_1.T.dot(X_new_1)).dot(X_new_1.T).dot(Y_1)\n",
    "print (theta_normal1)\n"
   ]
  },
  {
   "cell_type": "markdown",
   "metadata": {},
   "source": [
    "# 1 RMSE Linear regression with one variable from scratch \n",
    "\n"
   ]
  },
  {
   "cell_type": "code",
   "execution_count": 40,
   "metadata": {},
   "outputs": [
    {
     "name": "stdout",
     "output_type": "stream",
     "text": [
      "2.9923139460876023\n"
     ]
    }
   ],
   "source": [
    "predict_y_1 = X_new_1.dot(theta_1)\n",
    "rms_1 = sqrt(mean_squared_error(Y_1, predict_y_1))\n",
    "print (rms_1)"
   ]
  },
  {
   "cell_type": "markdown",
   "metadata": {},
   "source": [
    "# 2 -Linear regression with two variables from scratch"
   ]
  },
  {
   "cell_type": "code",
   "execution_count": 33,
   "metadata": {},
   "outputs": [
    {
     "name": "stderr",
     "output_type": "stream",
     "text": [
      "/anaconda2/envs/carnd-term1/lib/python3.5/site-packages/sklearn/utils/validation.py:475: DataConversionWarning: Data with input dtype int64 was converted to float64 by StandardScaler.\n",
      "  warnings.warn(msg, DataConversionWarning)\n"
     ]
    }
   ],
   "source": [
    "data2 = pd.read_csv(\"ex1data2.csv\",header=None)\n",
    "scaler = StandardScaler()\n",
    "X = data2.as_matrix(columns=data2.columns[0:2])\n",
    "Y = data2.as_matrix(columns=data2.columns[2:])\n",
    "X_new = scaler.fit_transform(X)\n",
    "Y_new = scaler.fit_transform(Y)\n",
    "X_new = np.c_[np.ones((data2.shape[0], 1)), X_new]"
   ]
  },
  {
   "cell_type": "code",
   "execution_count": 68,
   "metadata": {},
   "outputs": [
    {
     "name": "stdout",
     "output_type": "stream",
     "text": [
      "[[-1.45764704e-16]\n",
      " [ 8.84765655e-01]\n",
      " [-5.31781837e-02]]\n"
     ]
    }
   ],
   "source": [
    "from __future__ import division\n",
    "eta = 0.01  # learning rate\n",
    "n_iterations = 10000\n",
    "m2 = data2.shape[0]\n",
    "theta_22 = np.random.randn(data2.shape[1],1)  # random initialization\n",
    "gradients2 = np.zeros((3, 1))\n",
    "for iteration in range(n_iterations):\n",
    "    for x in range(m2):\n",
    "        gradients2 = gradients2+(X_new[x:x+1,:].T.dot(X_new[x:x+1,:].dot(theta_22)-Y_new[x:x+1,:])/0.5)\n",
    "    gradients2 = gradients2/m2\n",
    "    theta_22 = theta_22 - eta * gradients2\n",
    "print (theta_22)"
   ]
  },
  {
   "cell_type": "markdown",
   "metadata": {},
   "source": [
    "# 2 -Linear regression with two variables from scratch - RMSE\n"
   ]
  },
  {
   "cell_type": "code",
   "execution_count": 69,
   "metadata": {},
   "outputs": [
    {
     "name": "stdout",
     "output_type": "stream",
     "text": [
      "362191.9244761875\n"
     ]
    }
   ],
   "source": [
    "predict_y_2_scratch = X_new.dot(theta_22)\n",
    "rms_2_scratch = sqrt(mean_squared_error(Y, predict_y_2_scratch))\n",
    "print (rms_2_scratch)"
   ]
  },
  {
   "cell_type": "markdown",
   "metadata": {},
   "source": [
    "# 2-1 Linear regression with two variables using matrix"
   ]
  },
  {
   "cell_type": "code",
   "execution_count": 71,
   "metadata": {},
   "outputs": [
    {
     "name": "stdout",
     "output_type": "stream",
     "text": [
      "[[-1.52695817e-16]\n",
      " [ 8.84765655e-01]\n",
      " [-5.31781837e-02]]\n"
     ]
    }
   ],
   "source": [
    "\n",
    "eta = 0.01  # learning rate\n",
    "n_iterations = 10000\n",
    "theta = np.random.randn(data2.shape[1],1)  # random initialization\n",
    "for iteration in range(n_iterations):\n",
    "    #print (iteration)\n",
    "    gradients = 2/m2 * X_new.T.dot(X_new.dot(theta)- Y_new)\n",
    "    theta = theta - eta * gradients\n",
    "print (theta)"
   ]
  },
  {
   "cell_type": "markdown",
   "metadata": {},
   "source": [
    "### 2-1 RMSE Linear regression with two variables using matrix"
   ]
  },
  {
   "cell_type": "code",
   "execution_count": 72,
   "metadata": {},
   "outputs": [
    {
     "name": "stdout",
     "output_type": "stream",
     "text": [
      "362191.9244761875\n"
     ]
    }
   ],
   "source": [
    "predict_y = X_new.dot(theta)\n",
    "rms = sqrt(mean_squared_error(Y, predict_y))\n",
    "print (rms)"
   ]
  },
  {
   "cell_type": "markdown",
   "metadata": {},
   "source": [
    "# 2-2. Linear regression with two variables using Normal equation"
   ]
  },
  {
   "cell_type": "code",
   "execution_count": 74,
   "metadata": {},
   "outputs": [
    {
     "name": "stdout",
     "output_type": "stream",
     "text": [
      "[[-1.17961196e-16]\n",
      " [ 8.84765655e-01]\n",
      " [-5.31781837e-02]]\n"
     ]
    }
   ],
   "source": [
    "theta_normal = np.linalg.inv(X_new.T.dot(X_new)).dot(X_new.T).dot(Y_new)\n",
    "print (theta_normal)\n"
   ]
  },
  {
   "cell_type": "markdown",
   "metadata": {},
   "source": [
    "### 2-2 RMSE Linear regression with two variables using matrix"
   ]
  },
  {
   "cell_type": "code",
   "execution_count": 75,
   "metadata": {},
   "outputs": [
    {
     "name": "stdout",
     "output_type": "stream",
     "text": [
      "362191.9244761875\n"
     ]
    }
   ],
   "source": [
    "predict_y2 = X_new.dot(theta_normal)\n",
    "rms_2_normal = sqrt(mean_squared_error(Y, predict_y2))\n",
    "print (rms_2_normal)"
   ]
  },
  {
   "cell_type": "markdown",
   "metadata": {},
   "source": [
    "# 3 Linear regression with multiple variables\n",
    "## 3-1. Linear regression with multiple variables using matrix"
   ]
  },
  {
   "cell_type": "code",
   "execution_count": 76,
   "metadata": {},
   "outputs": [],
   "source": [
    "data3 = pd.read_csv(\"ex1data3.csv\")\n",
    "del data3['Unnamed: 0']"
   ]
  },
  {
   "cell_type": "code",
   "execution_count": 77,
   "metadata": {},
   "outputs": [],
   "source": [
    "X_3 = data3.as_matrix(columns=data3.columns[0:8])\n",
    "Y_3 = data3.as_matrix(columns=data3.columns[8:])\n",
    "X_3_new = scaler.fit_transform(X_3)\n",
    "Y_3_new = scaler.fit_transform(Y_3)\n",
    "X_3_new = np.c_[np.ones((data3.shape[0], 1)), X_3_new]"
   ]
  },
  {
   "cell_type": "code",
   "execution_count": 78,
   "metadata": {},
   "outputs": [
    {
     "name": "stdout",
     "output_type": "stream",
     "text": [
      "[[-7.16793570e-15]\n",
      " [ 7.18983338e-01]\n",
      " [ 1.02916536e-01]\n",
      " [-2.30165753e-01]\n",
      " [ 2.64966590e-01]\n",
      " [-3.90063278e-03]\n",
      " [-3.40814906e-02]\n",
      " [-7.79774311e-01]\n",
      " [-7.54347710e-01]]\n"
     ]
    }
   ],
   "source": [
    "eta = 0.01  # learning rate\n",
    "n_iterations = 10000\n",
    "m3 = data3.shape[0]\n",
    "\n",
    "theta_3 = np.random.randn(data3.shape[1],1)  # random initialization\n",
    "for iteration in range(n_iterations):\n",
    "    #print (iteration)\n",
    "    gradients = 2/m3 * X_3_new.T.dot(X_3_new.dot(theta_3)- Y_3_new)\n",
    "    theta_3 = theta_3 - eta * gradients\n",
    "print (theta_3)"
   ]
  },
  {
   "cell_type": "markdown",
   "metadata": {},
   "source": [
    "## 3-1. RMSE -  Linear regression with multiple variables using matrix"
   ]
  },
  {
   "cell_type": "code",
   "execution_count": 79,
   "metadata": {},
   "outputs": [
    {
     "name": "stdout",
     "output_type": "stream",
     "text": [
      "0.6275088171094902\n"
     ]
    }
   ],
   "source": [
    "predict_y3 = X_3_new.dot(theta_3)\n",
    "rms_3_matrix = sqrt(mean_squared_error(Y_3_new, predict_y3))\n",
    "print (rms_3_matrix)"
   ]
  },
  {
   "cell_type": "markdown",
   "metadata": {},
   "source": [
    "## 3-2. Linear regression with multiple variables using Normal equation\n"
   ]
  },
  {
   "cell_type": "code",
   "execution_count": 80,
   "metadata": {},
   "outputs": [
    {
     "name": "stdout",
     "output_type": "stream",
     "text": [
      "[[-7.26675664e-15]\n",
      " [ 7.18952272e-01]\n",
      " [ 1.02910780e-01]\n",
      " [-2.30106933e-01]\n",
      " [ 2.64917894e-01]\n",
      " [-3.90232364e-03]\n",
      " [-3.40803413e-02]\n",
      " [-7.79845446e-01]\n",
      " [-7.54415222e-01]]\n"
     ]
    }
   ],
   "source": [
    "theta_3_normal = np.linalg.inv(X_3_new.T.dot(X_3_new)).dot(X_3_new.T).dot(Y_3_new)\n",
    "print (theta_3_normal)\n"
   ]
  },
  {
   "cell_type": "markdown",
   "metadata": {},
   "source": [
    "## 3-2. RMSE -  Linear regression with multiple variables using normal equation"
   ]
  },
  {
   "cell_type": "code",
   "execution_count": 81,
   "metadata": {},
   "outputs": [
    {
     "name": "stdout",
     "output_type": "stream",
     "text": [
      "0.627508816511937\n"
     ]
    }
   ],
   "source": [
    "predict_y3_normal = X_3_new.dot(theta_3_normal)\n",
    "rms_3_normal = sqrt(mean_squared_error(Y_3_new, predict_y3_normal))\n",
    "print (rms_3_normal)"
   ]
  },
  {
   "cell_type": "markdown",
   "metadata": {},
   "source": [
    "## 3-3. Linear regression with multiple variables using scikit-learn linear regression model"
   ]
  },
  {
   "cell_type": "code",
   "execution_count": 82,
   "metadata": {},
   "outputs": [],
   "source": [
    "import sklearn\n",
    "regr_model = sklearn.linear_model.LinearRegression()\n",
    "X_3_regr_model = scaler.fit_transform(X_3)\n",
    "regr_model.fit(X_3_regr_model, Y_3_new)\n",
    "Y_predict_model = regr_model.predict(X_3_regr_model)"
   ]
  },
  {
   "cell_type": "markdown",
   "metadata": {},
   "source": [
    "## 3-3. RMSE - Linear regression with multiple variables using scikit-learn linear regression model"
   ]
  },
  {
   "cell_type": "code",
   "execution_count": 83,
   "metadata": {},
   "outputs": [
    {
     "name": "stdout",
     "output_type": "stream",
     "text": [
      "0.627508816511937\n"
     ]
    }
   ],
   "source": [
    "\n",
    "rms_3_model = sqrt(mean_squared_error(Y_3_new, Y_predict_model))\n",
    "print (rms_3_model)"
   ]
  },
  {
   "cell_type": "markdown",
   "metadata": {},
   "source": [
    "## 3-4. Linear regression with multiple variables using TensorFlow with RMSE"
   ]
  },
  {
   "cell_type": "code",
   "execution_count": 84,
   "metadata": {},
   "outputs": [
    {
     "name": "stdout",
     "output_type": "stream",
     "text": [
      "0.62750894\n"
     ]
    }
   ],
   "source": [
    "\n",
    "n_epochs = 10000\n",
    "learning_rate = 0.01\n",
    "tf.reset_default_graph()\n",
    "X_4 = tf.constant(X_3_new, dtype=tf.float32, name=\"X\")\n",
    "y = tf.constant(Y_3_new, dtype=tf.float32, name=\"y\")\n",
    "theta = tf.Variable(tf.random_uniform([data3.shape[1], 1], -1.0, 1.0), name=\"theta\")\n",
    "y_pred_4 = tf.matmul(X_4, theta, name=\"predictions\")\n",
    "error = y_pred_4 - y\n",
    "mse = tf.sqrt(tf.reduce_mean(tf.square(error), name=\"mse\"))\n",
    "gradients = 2/m3 * tf.matmul(tf.transpose(X_4), error)\n",
    "training_op = tf.assign(theta, theta - learning_rate * gradients)\n",
    "\n",
    "init = tf.global_variables_initializer()\n",
    "\n",
    "with tf.Session() as sess:\n",
    "    sess.run(init)\n",
    "\n",
    "    for epoch in range(n_epochs):\n",
    "        sess.run(training_op)\n",
    "    best_RMSE = mse.eval()\n",
    "    best_theta = theta.eval()\n",
    "    print (best_RMSE)"
   ]
  },
  {
   "cell_type": "code",
   "execution_count": null,
   "metadata": {},
   "outputs": [],
   "source": []
  }
 ],
 "metadata": {
  "kernelspec": {
   "display_name": "Python 3",
   "language": "python",
   "name": "python3"
  },
  "language_info": {
   "codemirror_mode": {
    "name": "ipython",
    "version": 3
   },
   "file_extension": ".py",
   "mimetype": "text/x-python",
   "name": "python",
   "nbconvert_exporter": "python",
   "pygments_lexer": "ipython3",
   "version": "3.5.2"
  },
  "widgets": {
   "state": {},
   "version": "1.1.2"
  }
 },
 "nbformat": 4,
 "nbformat_minor": 2
}
